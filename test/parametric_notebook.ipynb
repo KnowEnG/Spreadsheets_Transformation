{
 "cells": [
  {
   "cell_type": "markdown",
   "metadata": {},
   "source": [
    "\n",
    "### Other Spreadsheets Transformation Pipeline input data\n",
    "\n",
    "| File Name |  Option |\n",
    "|---|---|\n",
    "|TEST_1_transpose.yml | (transpose)  |\n",
    "|TEST_2_common_samples.yml   | (samples in both)  |\n",
    "|TEST_3_merge.yml   | (merge rows and columns)  |\n",
    "|TEST_4_select_genes.yml   | (spreadsheet genes in list)  |\n",
    "|TEST_5_cluster_averages.yml   | (averages per selections)  |\n",
    "|TEST_6_select_categorical.yml   | (spreadsheet and phenotype of categor)  |\n",
    "|TEST_7_numerical_transform.yml   | (matrix numerical transform - ztransform, log,...)  |\n",
    "|TEST_8_stat_value.yml   | (matrix statistics - min, max,...)  |"
   ]
  },
  {
   "cell_type": "code",
   "execution_count": 5,
   "metadata": {
    "collapsed": true
   },
   "outputs": [],
   "source": [
    "import os\n",
    "import sys\n",
    "\n",
    "import knpackage.toolbox as kn\n",
    "sys.path.insert(1, '../src')\n",
    "import mini_pipelines_toolbox as mini_tbx\n",
    "\n",
    "\"\"\"                         Select a run_parameters .yml file                                       \"\"\"\n",
    "run_directory = os.path.abspath('./run_dir')\n",
    "yaml_file_name = 'TEST_1_transpose.yml'\n",
    "                                   \n",
    "run_parameters = kn.get_run_parameters(run_directory, yaml_file_name)\n",
    "\n",
    "\"\"\"                         Run the method                                                          \"\"\"\n",
    "if run_parameters['method'] == 'cluster_statistics_df':\n",
    "    mini_tbx.run_cluster_statistics_df(run_parameters)\n",
    "elif run_parameters['method'] == 'common_samples_df':\n",
    "    mini_tbx.run_common_samples_df(run_parameters)\n",
    "elif run_parameters['method'] == 'merge_df':\n",
    "    mini_tbx.run_merge_df(run_parameters)\n",
    "elif run_parameters['method'] == 'numeric_transform':\n",
    "    mini_tbx.run_spreadsheet_numerical_transform(run_parameters)\n",
    "elif run_parameters['method'] == 'select_genes_df':\n",
    "    mini_tbx.run_select_genes(run_parameters)\n",
    "elif run_parameters['method'] == 'select_subtype_df':\n",
    "    mini_tbx.run_select_subtype_df(run_parameters)\n",
    "elif run_parameters['method'] == 'stats_df':\n",
    "    mini_tbx.run_stats_df(run_parameters)\n",
    "elif run_parameters['method'] == 'transpose_df':\n",
    "    mini_tbx.run_transpose(run_parameters)"
   ]
  },
  {
   "cell_type": "code",
   "execution_count": null,
   "metadata": {
    "collapsed": true
   },
   "outputs": [],
   "source": []
  }
 ],
 "metadata": {
  "kernelspec": {
   "display_name": "Python 3",
   "language": "python",
   "name": "python3"
  },
  "language_info": {
   "codemirror_mode": {
    "name": "ipython",
    "version": 3
   },
   "file_extension": ".py",
   "mimetype": "text/x-python",
   "name": "python",
   "nbconvert_exporter": "python",
   "pygments_lexer": "ipython3",
   "version": "3.5.3"
  }
 },
 "nbformat": 4,
 "nbformat_minor": 2
}
