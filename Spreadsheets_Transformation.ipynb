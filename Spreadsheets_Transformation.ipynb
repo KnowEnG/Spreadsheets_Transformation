{
 "cells": [
  {
   "cell_type": "markdown",
   "metadata": {},
   "source": [
    "[notebook_Readme.md on github](https://github.com/KnowEnG/Spreadsheets_Transformation/blob/master/docs/notebook_Readme.md)"
   ]
  },
  {
   "cell_type": "code",
   "execution_count": 1,
   "metadata": {
    "init_cell": true
   },
   "outputs": [],
   "source": [
    "%%html\n",
    "<style>div.input {display:none;} div.output_stderr{display:none}</style>"
   ]
  },
  {
   "cell_type": "code",
   "execution_count": 2,
   "metadata": {
    "init_cell": true
   },
   "outputs": [],
   "source": [
    "\"\"\"    To Start This Notebook Click On:    Cell > Run All    (in the jupyter menu above)    \"\"\"\n",
    "import warnings\n",
    "warnings.filterwarnings('ignore')\n",
    "\n",
    "import os\n",
    "import io\n",
    "import sys\n",
    "\n",
    "import pandas as pd\n",
    "from pandas.io.common import EmptyDataError\n",
    "import numpy as np\n",
    "\n",
    "from IPython.display import display, HTML\n",
    "import ipywidgets as widgets\n",
    "import traitlets\n",
    "\n",
    "from knpackage import toolbox as kn\n",
    "\n",
    "sys.path.insert(1, '../Spreadsheets_Transformation/src')\n",
    "import spreadsheets_transformation_toolbox as stt\n",
    "from layout_notebooks import *\n",
    "\n",
    "DEFAULT_INPUT_FILES = {'transpose': 'transpose_spreadsheet.tsv', \n",
    "                       'common_samples_1': 'intersect_spreadsheet_A.tsv', \n",
    "                       'common_samples_2': 'intersect_spreadsheet_B.tsv', \n",
    "                       'merge_1': 'merge_spreadsheet_A.txt', \n",
    "                       'merge_2': 'merge_spreadsheet_B.txt',\n",
    "                       'select_rows_spreadsheet': 'select_rows_spreadsheet.tsv',\n",
    "                       'select_rows_list': 'select_rows_list.txt',\n",
    "                       'select_averages_spreadsheet': 'average_spreadsheet.tsv',\n",
    "                       'select_averages_dict': 'average_labels.tsv',\n",
    "                       'select_categorical_spreadsheet': 'select_phenotype_spreadsheet.df',\n",
    "                       'select_categorical_phenotype': 'select_phenotype_phenotype.txt',\n",
    "                       'numerical_spreadsheet': 'other_transforms_spreadsheet.tsv',\n",
    "                       'stats_spreadsheet': 'descriptive_statistic_spreadsheet.tsv',\n",
    "                      }\n",
    "\n",
    "results_dir = USER_RESULTS_DIRECTORY\n",
    "input_data_dir = USER_DATA_DIRECTORY"
   ]
  },
  {
   "cell_type": "code",
   "execution_count": null,
   "metadata": {
    "init_cell": true
   },
   "outputs": [],
   "source": [
    "show_cell_title('Category to Binary')\n",
    "\n",
    "def category_column_to_binary_matrix(button):\n",
    "    \"\"\" local function - read phenotype file and selected category - write a binar samples x categories spreadsheet\n",
    "    \n",
    "    Args: \n",
    "        button:         an ipywidgets.Button object with 2 ipywidgets.Dropdown (.file_selector) objects containing \n",
    "                        the selected file names in the .value fields.\n",
    "    \"\"\"\n",
    "    if button.description == 'Clear':\n",
    "        visualize_selected_file(button)\n",
    "        return\n",
    "    \n",
    "    run_parameters = {}\n",
    "    run_parameters['results_directory'] = button.results_directory\n",
    "    phenotype_file_name = os.path.join(input_data_dir, get_category_file_button.file_selector.value)\n",
    "    column_id = select_column_dropdown.value\n",
    "        \n",
    "    cat_bin_df = stt.select_categorical_binary(phenotype_file_name, column_id)\n",
    "    \n",
    "    cat_bin_result_file_name = os.path.join(button.results_directory, 'categorical_binary' + '.tsv')\n",
    "    cat_bin_df.to_csv(cat_bin_result_file_name, sep='\\t',float_format='%g')\n",
    "    \n",
    "    button.fname_list           = [cat_bin_result_file_name]\n",
    "    visualize_selected_file(button)\n",
    "    \n",
    "no_file_selected_columns_list = ['no file', 'no file']\n",
    "select_column_dropdown = widgets.Dropdown(options=no_file_selected_columns_list,\n",
    "                                           value=no_file_selected_columns_list[0],\n",
    "                                           description='phenotype:')\n",
    "\n",
    "def set_columns_dropdown_options(change):\n",
    "    \"\"\" set the columns options based on file selection \"\"\"\n",
    "    file_name = os.path.join(input_data_dir, get_category_file_button.file_selector.value)\n",
    "    if os.path.isfile(file_name):\n",
    "        selected_df = pd.read_csv(file_name, sep='\\t', index_col=0, header=0)\n",
    "        columns_list = np.unique(selected_df.columns.tolist())\n",
    "        select_column_dropdown.options = columns_list\n",
    "        select_column_dropdown.value = columns_list[0]\n",
    "\n",
    "get_category_file_button                   = get_select_view_file_button_set(input_data_dir)\n",
    "get_category_file_button.file_selector.observe(set_columns_dropdown_options, names='value')\n",
    "if os.path.isfile(os.path.join(input_data_dir, DEFAULT_INPUT_FILES['select_categorical_phenotype'])):\n",
    "    get_category_file_button.file_selector.value \\\n",
    "                                                = DEFAULT_INPUT_FILES['select_categorical_phenotype']\n",
    "    \n",
    "\n",
    "cat_col_execute_button        = get_single_file_execute_button(\n",
    "                                    input_data_dir, \n",
    "                                    results_dir, \n",
    "                                    file_selector=get_category_file_button.file_selector, \n",
    "                                    button_name='Select',\n",
    "                                    )\n",
    "cat_col_execute_button.on_click(category_column_to_binary_matrix)\n",
    "\n",
    "# display control widgets:\n",
    "show_select_view_button(get_category_file_button)\n",
    "show_widget_left(select_column_dropdown)\n",
    "show_execute_button(cat_col_execute_button)"
   ]
  },
  {
   "cell_type": "code",
   "execution_count": 3,
   "metadata": {
    "init_cell": true,
    "scrolled": true
   },
   "outputs": [
    {
     "data": {
      "application/vnd.jupyter.widget-view+json": {
       "model_id": "c8bac14b814c4cd98e6ee2f722146736",
       "version_major": 2,
       "version_minor": 0
      },
      "text/html": [
       "<p>Failed to display Jupyter Widget of type <code>HTML</code>.</p>\n",
       "<p>\n",
       "  If you're reading this message in Jupyter Notebook or JupyterLab, it may mean\n",
       "  that the widgets JavaScript is still loading. If this message persists, it\n",
       "  likely means that the widgets JavaScript library is either not installed or\n",
       "  not enabled. See the <a href=\"https://ipywidgets.readthedocs.io/en/stable/user_install.html\">Jupyter\n",
       "  Widgets Documentation</a> for setup instructions.\n",
       "</p>\n",
       "<p>\n",
       "  If you're reading this message in another notebook frontend (for example, a static\n",
       "  rendering on GitHub or <a href=\"https://nbviewer.jupyter.org/\">NBViewer</a>),\n",
       "  it may mean that your frontend doesn't currently support widgets.\n",
       "</p>\n"
      ],
      "text/plain": [
       "HTML(value='<h2>Transpose</h2>')"
      ]
     },
     "metadata": {},
     "output_type": "display_data"
    },
    {
     "data": {
      "application/vnd.jupyter.widget-view+json": {
       "model_id": "8441778db9a040f4bb7005870ca4f429",
       "version_major": 2,
       "version_minor": 0
      },
      "text/html": [
       "<p>Failed to display Jupyter Widget of type <code>Box</code>.</p>\n",
       "<p>\n",
       "  If you're reading this message in Jupyter Notebook or JupyterLab, it may mean\n",
       "  that the widgets JavaScript is still loading. If this message persists, it\n",
       "  likely means that the widgets JavaScript library is either not installed or\n",
       "  not enabled. See the <a href=\"https://ipywidgets.readthedocs.io/en/stable/user_install.html\">Jupyter\n",
       "  Widgets Documentation</a> for setup instructions.\n",
       "</p>\n",
       "<p>\n",
       "  If you're reading this message in another notebook frontend (for example, a static\n",
       "  rendering on GitHub or <a href=\"https://nbviewer.jupyter.org/\">NBViewer</a>),\n",
       "  it may mean that your frontend doesn't currently support widgets.\n",
       "</p>\n"
      ],
      "text/plain": [
       "Box(children=(Dropdown(index=13, layout=Layout(width='50%'), options=('average_labels.tsv', 'average_spreadsheet.tsv', 'descriptive_statistic_spreadsheet.tsv', 'intersect_spreadsheet_A.tsv', 'intersect_spreadsheet_B.tsv', 'Kaplan_Meijer_data.tsv', 'merge_spreadsheet_A.txt', 'merge_spreadsheet_B.txt', 'other_transforms_spreadsheet.tsv', 'select_phenotype_phenotype.txt', 'select_phenotype_spreadsheet.df', 'select_rows_list.txt', 'select_rows_spreadsheet.tsv', 'transpose_spreadsheet.tsv'), value='transpose_spreadsheet.tsv'), Button(description='View', style=ButtonStyle(), tooltip='visualize selected file')), layout=Layout(align_items='stretch', border='none', display='inline-flex', flex_flow='row', justify_content='space-between', width='100%'))"
      ]
     },
     "metadata": {},
     "output_type": "display_data"
    },
    {
     "data": {
      "application/vnd.jupyter.widget-view+json": {
       "model_id": "68bfd203b9374121840a9d86fe8c169b",
       "version_major": 2,
       "version_minor": 0
      },
      "text/html": [
       "<p>Failed to display Jupyter Widget of type <code>HTML</code>.</p>\n",
       "<p>\n",
       "  If you're reading this message in Jupyter Notebook or JupyterLab, it may mean\n",
       "  that the widgets JavaScript is still loading. If this message persists, it\n",
       "  likely means that the widgets JavaScript library is either not installed or\n",
       "  not enabled. See the <a href=\"https://ipywidgets.readthedocs.io/en/stable/user_install.html\">Jupyter\n",
       "  Widgets Documentation</a> for setup instructions.\n",
       "</p>\n",
       "<p>\n",
       "  If you're reading this message in another notebook frontend (for example, a static\n",
       "  rendering on GitHub or <a href=\"https://nbviewer.jupyter.org/\">NBViewer</a>),\n",
       "  it may mean that your frontend doesn't currently support widgets.\n",
       "</p>\n"
      ],
      "text/plain": [
       "HTML(value='')"
      ]
     },
     "metadata": {},
     "output_type": "display_data"
    },
    {
     "data": {
      "application/vnd.jupyter.widget-view+json": {
       "model_id": "fc7c3c39e75442338afdfdf87fb679b6",
       "version_major": 2,
       "version_minor": 0
      },
      "text/html": [
       "<p>Failed to display Jupyter Widget of type <code>HBox</code>.</p>\n",
       "<p>\n",
       "  If you're reading this message in Jupyter Notebook or JupyterLab, it may mean\n",
       "  that the widgets JavaScript is still loading. If this message persists, it\n",
       "  likely means that the widgets JavaScript library is either not installed or\n",
       "  not enabled. See the <a href=\"https://ipywidgets.readthedocs.io/en/stable/user_install.html\">Jupyter\n",
       "  Widgets Documentation</a> for setup instructions.\n",
       "</p>\n",
       "<p>\n",
       "  If you're reading this message in another notebook frontend (for example, a static\n",
       "  rendering on GitHub or <a href=\"https://nbviewer.jupyter.org/\">NBViewer</a>),\n",
       "  it may mean that your frontend doesn't currently support widgets.\n",
       "</p>\n"
      ],
      "text/plain": [
       "HBox(children=(Button(description='Transpose', style=ButtonStyle(), tooltip='execute selected file'),), layout=Layout(display='flex', flex_flow='row', justify_content='flex-end', width='100%'))"
      ]
     },
     "metadata": {},
     "output_type": "display_data"
    },
    {
     "data": {
      "application/vnd.jupyter.widget-view+json": {
       "model_id": "392048138ae84f84910cf81544c418d4",
       "version_major": 2,
       "version_minor": 0
      },
      "text/html": [
       "<p>Failed to display Jupyter Widget of type <code>HTML</code>.</p>\n",
       "<p>\n",
       "  If you're reading this message in Jupyter Notebook or JupyterLab, it may mean\n",
       "  that the widgets JavaScript is still loading. If this message persists, it\n",
       "  likely means that the widgets JavaScript library is either not installed or\n",
       "  not enabled. See the <a href=\"https://ipywidgets.readthedocs.io/en/stable/user_install.html\">Jupyter\n",
       "  Widgets Documentation</a> for setup instructions.\n",
       "</p>\n",
       "<p>\n",
       "  If you're reading this message in another notebook frontend (for example, a static\n",
       "  rendering on GitHub or <a href=\"https://nbviewer.jupyter.org/\">NBViewer</a>),\n",
       "  it may mean that your frontend doesn't currently support widgets.\n",
       "</p>\n"
      ],
      "text/plain": [
       "HTML(value='')"
      ]
     },
     "metadata": {},
     "output_type": "display_data"
    }
   ],
   "source": [
    "show_cell_title('Transpose')\n",
    "\n",
    "def transpose_selected_file(button):\n",
    "    \"\"\" callback for the transpose_execute_button\n",
    "    \n",
    "    Args: \n",
    "        button:         an ipywidgets.Button object with an ipywidgets.Dropdown (.file_selector) object containing \n",
    "                        the selected file name as its .value field.\n",
    "    \"\"\"\n",
    "    if button.description == 'Clear':\n",
    "        visualize_selected_file(button)\n",
    "        return\n",
    "    \n",
    "    input_data_directory        = button.input_data_directory\n",
    "    input_file_name             = button.file_selector.value\n",
    "    spreadsheet_T_df            = stt.transpose_df(\n",
    "                                    kn.get_spreadsheet_df(\n",
    "                                        os.path.join(input_data_directory, input_file_name)\n",
    "                                    ))\n",
    "\n",
    "    results_directory           = button.results_directory\n",
    "    transform_name              = \"transpose\"\n",
    "    result_file_name            = stt.get_outfile_name(\n",
    "                                    results_directory, \n",
    "                                    input_file_name, \n",
    "                                    transform_name, \n",
    "                                    timestamp=False,\n",
    "                                    )\n",
    "    spreadsheet_T_df.to_csv(result_file_name, sep='\\t',float_format='%g')\n",
    "    \n",
    "    button.fname_list           = [result_file_name]\n",
    "    visualize_selected_file(button)\n",
    "    \n",
    "# get the control widgets\n",
    "get_transpose_file_button       = get_select_view_file_button_set(input_data_dir)\n",
    "if os.path.isfile(os.path.join(input_data_dir, DEFAULT_INPUT_FILES['transpose'])):\n",
    "    get_transpose_file_button.file_selector.value \\\n",
    "                                = DEFAULT_INPUT_FILES['transpose']\n",
    "\n",
    "transpose_execute_button        = get_single_file_execute_button(\n",
    "                                    input_data_dir, \n",
    "                                    results_dir, \n",
    "                                    file_selector=get_transpose_file_button.file_selector, \n",
    "                                    button_name='Transpose',\n",
    "                                    )\n",
    "transpose_execute_button.on_click(transpose_selected_file)\n",
    "\n",
    "# display control widgets\n",
    "show_select_view_button(get_transpose_file_button)\n",
    "show_execute_button(transpose_execute_button)"
   ]
  },
  {
   "cell_type": "code",
   "execution_count": 4,
   "metadata": {
    "init_cell": true,
    "scrolled": true
   },
   "outputs": [
    {
     "data": {
      "application/vnd.jupyter.widget-view+json": {
       "model_id": "acd6ed5c19084ce38e77b4acef32f7b2",
       "version_major": 2,
       "version_minor": 0
      },
      "text/html": [
       "<p>Failed to display Jupyter Widget of type <code>HTML</code>.</p>\n",
       "<p>\n",
       "  If you're reading this message in Jupyter Notebook or JupyterLab, it may mean\n",
       "  that the widgets JavaScript is still loading. If this message persists, it\n",
       "  likely means that the widgets JavaScript library is either not installed or\n",
       "  not enabled. See the <a href=\"https://ipywidgets.readthedocs.io/en/stable/user_install.html\">Jupyter\n",
       "  Widgets Documentation</a> for setup instructions.\n",
       "</p>\n",
       "<p>\n",
       "  If you're reading this message in another notebook frontend (for example, a static\n",
       "  rendering on GitHub or <a href=\"https://nbviewer.jupyter.org/\">NBViewer</a>),\n",
       "  it may mean that your frontend doesn't currently support widgets.\n",
       "</p>\n"
      ],
      "text/plain": [
       "HTML(value='<h2>Intersect</h2>')"
      ]
     },
     "metadata": {},
     "output_type": "display_data"
    },
    {
     "data": {
      "application/vnd.jupyter.widget-view+json": {
       "model_id": "de3ad0db49b04fe9b9a164b9c3326b82",
       "version_major": 2,
       "version_minor": 0
      },
      "text/html": [
       "<p>Failed to display Jupyter Widget of type <code>Box</code>.</p>\n",
       "<p>\n",
       "  If you're reading this message in Jupyter Notebook or JupyterLab, it may mean\n",
       "  that the widgets JavaScript is still loading. If this message persists, it\n",
       "  likely means that the widgets JavaScript library is either not installed or\n",
       "  not enabled. See the <a href=\"https://ipywidgets.readthedocs.io/en/stable/user_install.html\">Jupyter\n",
       "  Widgets Documentation</a> for setup instructions.\n",
       "</p>\n",
       "<p>\n",
       "  If you're reading this message in another notebook frontend (for example, a static\n",
       "  rendering on GitHub or <a href=\"https://nbviewer.jupyter.org/\">NBViewer</a>),\n",
       "  it may mean that your frontend doesn't currently support widgets.\n",
       "</p>\n"
      ],
      "text/plain": [
       "Box(children=(Dropdown(index=3, layout=Layout(width='50%'), options=('average_labels.tsv', 'average_spreadsheet.tsv', 'descriptive_statistic_spreadsheet.tsv', 'intersect_spreadsheet_A.tsv', 'intersect_spreadsheet_B.tsv', 'Kaplan_Meijer_data.tsv', 'merge_spreadsheet_A.txt', 'merge_spreadsheet_B.txt', 'other_transforms_spreadsheet.tsv', 'select_phenotype_phenotype.txt', 'select_phenotype_spreadsheet.df', 'select_rows_list.txt', 'select_rows_spreadsheet.tsv', 'transpose_spreadsheet.tsv'), value='intersect_spreadsheet_A.tsv'), Button(description='View', style=ButtonStyle(), tooltip='visualize selected file')), layout=Layout(align_items='stretch', border='none', display='inline-flex', flex_flow='row', justify_content='space-between', width='100%'))"
      ]
     },
     "metadata": {},
     "output_type": "display_data"
    },
    {
     "data": {
      "application/vnd.jupyter.widget-view+json": {
       "model_id": "6a19b16a45c74090b75f5cb32deafe5b",
       "version_major": 2,
       "version_minor": 0
      },
      "text/html": [
       "<p>Failed to display Jupyter Widget of type <code>HTML</code>.</p>\n",
       "<p>\n",
       "  If you're reading this message in Jupyter Notebook or JupyterLab, it may mean\n",
       "  that the widgets JavaScript is still loading. If this message persists, it\n",
       "  likely means that the widgets JavaScript library is either not installed or\n",
       "  not enabled. See the <a href=\"https://ipywidgets.readthedocs.io/en/stable/user_install.html\">Jupyter\n",
       "  Widgets Documentation</a> for setup instructions.\n",
       "</p>\n",
       "<p>\n",
       "  If you're reading this message in another notebook frontend (for example, a static\n",
       "  rendering on GitHub or <a href=\"https://nbviewer.jupyter.org/\">NBViewer</a>),\n",
       "  it may mean that your frontend doesn't currently support widgets.\n",
       "</p>\n"
      ],
      "text/plain": [
       "HTML(value='')"
      ]
     },
     "metadata": {},
     "output_type": "display_data"
    },
    {
     "data": {
      "application/vnd.jupyter.widget-view+json": {
       "model_id": "e632df724244473e93c290eb5fbdc188",
       "version_major": 2,
       "version_minor": 0
      },
      "text/html": [
       "<p>Failed to display Jupyter Widget of type <code>Box</code>.</p>\n",
       "<p>\n",
       "  If you're reading this message in Jupyter Notebook or JupyterLab, it may mean\n",
       "  that the widgets JavaScript is still loading. If this message persists, it\n",
       "  likely means that the widgets JavaScript library is either not installed or\n",
       "  not enabled. See the <a href=\"https://ipywidgets.readthedocs.io/en/stable/user_install.html\">Jupyter\n",
       "  Widgets Documentation</a> for setup instructions.\n",
       "</p>\n",
       "<p>\n",
       "  If you're reading this message in another notebook frontend (for example, a static\n",
       "  rendering on GitHub or <a href=\"https://nbviewer.jupyter.org/\">NBViewer</a>),\n",
       "  it may mean that your frontend doesn't currently support widgets.\n",
       "</p>\n"
      ],
      "text/plain": [
       "Box(children=(Dropdown(index=4, layout=Layout(width='50%'), options=('average_labels.tsv', 'average_spreadsheet.tsv', 'descriptive_statistic_spreadsheet.tsv', 'intersect_spreadsheet_A.tsv', 'intersect_spreadsheet_B.tsv', 'Kaplan_Meijer_data.tsv', 'merge_spreadsheet_A.txt', 'merge_spreadsheet_B.txt', 'other_transforms_spreadsheet.tsv', 'select_phenotype_phenotype.txt', 'select_phenotype_spreadsheet.df', 'select_rows_list.txt', 'select_rows_spreadsheet.tsv', 'transpose_spreadsheet.tsv'), value='intersect_spreadsheet_B.tsv'), Button(description='View', style=ButtonStyle(), tooltip='visualize selected file')), layout=Layout(align_items='stretch', border='none', display='inline-flex', flex_flow='row', justify_content='space-between', width='100%'))"
      ]
     },
     "metadata": {},
     "output_type": "display_data"
    },
    {
     "data": {
      "application/vnd.jupyter.widget-view+json": {
       "model_id": "e918d13eac534748bcfe4dfe58e8cb66",
       "version_major": 2,
       "version_minor": 0
      },
      "text/html": [
       "<p>Failed to display Jupyter Widget of type <code>HTML</code>.</p>\n",
       "<p>\n",
       "  If you're reading this message in Jupyter Notebook or JupyterLab, it may mean\n",
       "  that the widgets JavaScript is still loading. If this message persists, it\n",
       "  likely means that the widgets JavaScript library is either not installed or\n",
       "  not enabled. See the <a href=\"https://ipywidgets.readthedocs.io/en/stable/user_install.html\">Jupyter\n",
       "  Widgets Documentation</a> for setup instructions.\n",
       "</p>\n",
       "<p>\n",
       "  If you're reading this message in another notebook frontend (for example, a static\n",
       "  rendering on GitHub or <a href=\"https://nbviewer.jupyter.org/\">NBViewer</a>),\n",
       "  it may mean that your frontend doesn't currently support widgets.\n",
       "</p>\n"
      ],
      "text/plain": [
       "HTML(value='')"
      ]
     },
     "metadata": {},
     "output_type": "display_data"
    },
    {
     "data": {
      "application/vnd.jupyter.widget-view+json": {
       "model_id": "408e07b0955a465f975e99a1f61d930c",
       "version_major": 2,
       "version_minor": 0
      },
      "text/html": [
       "<p>Failed to display Jupyter Widget of type <code>HBox</code>.</p>\n",
       "<p>\n",
       "  If you're reading this message in Jupyter Notebook or JupyterLab, it may mean\n",
       "  that the widgets JavaScript is still loading. If this message persists, it\n",
       "  likely means that the widgets JavaScript library is either not installed or\n",
       "  not enabled. See the <a href=\"https://ipywidgets.readthedocs.io/en/stable/user_install.html\">Jupyter\n",
       "  Widgets Documentation</a> for setup instructions.\n",
       "</p>\n",
       "<p>\n",
       "  If you're reading this message in another notebook frontend (for example, a static\n",
       "  rendering on GitHub or <a href=\"https://nbviewer.jupyter.org/\">NBViewer</a>),\n",
       "  it may mean that your frontend doesn't currently support widgets.\n",
       "</p>\n"
      ],
      "text/plain": [
       "HBox(children=(Button(description='Intersect', style=ButtonStyle(), tooltip='execute selected file'),), layout=Layout(display='flex', flex_flow='row', justify_content='flex-end', width='100%'))"
      ]
     },
     "metadata": {},
     "output_type": "display_data"
    },
    {
     "data": {
      "application/vnd.jupyter.widget-view+json": {
       "model_id": "5e7b1abbb44d46298fb14cb244d5501b",
       "version_major": 2,
       "version_minor": 0
      },
      "text/html": [
       "<p>Failed to display Jupyter Widget of type <code>HTML</code>.</p>\n",
       "<p>\n",
       "  If you're reading this message in Jupyter Notebook or JupyterLab, it may mean\n",
       "  that the widgets JavaScript is still loading. If this message persists, it\n",
       "  likely means that the widgets JavaScript library is either not installed or\n",
       "  not enabled. See the <a href=\"https://ipywidgets.readthedocs.io/en/stable/user_install.html\">Jupyter\n",
       "  Widgets Documentation</a> for setup instructions.\n",
       "</p>\n",
       "<p>\n",
       "  If you're reading this message in another notebook frontend (for example, a static\n",
       "  rendering on GitHub or <a href=\"https://nbviewer.jupyter.org/\">NBViewer</a>),\n",
       "  it may mean that your frontend doesn't currently support widgets.\n",
       "</p>\n"
      ],
      "text/plain": [
       "HTML(value='')"
      ]
     },
     "metadata": {},
     "output_type": "display_data"
    }
   ],
   "source": [
    "show_cell_title('Intersect')\n",
    "\n",
    "def get_common_samples(button):\n",
    "    \"\"\" callback for common_samples_execute_button\n",
    "    \n",
    "    Args: \n",
    "        button:         an ipywidgets.Button object with 2 ipywidgets.Dropdown (.file_selector) objects containing \n",
    "                        the selected file names in the .value fields.\n",
    "\n",
    "    \"\"\"\n",
    "    if button.description == 'Clear':\n",
    "        visualize_selected_file(button)\n",
    "        return\n",
    "\n",
    "    input_data_directory                = button.input_data_directory    \n",
    "    spreadsheet_1_file_name             = os.path.join(input_data_directory, button.file_1_selector.value)\n",
    "    spreadsheet_2_file_name             = os.path.join(input_data_directory, button.file_2_selector.value)\n",
    "    transform_name                      = \"common_samples\"\n",
    "    \n",
    "    spreadsheet_1_df                    = kn.get_spreadsheet_df(spreadsheet_1_file_name)\n",
    "    spreadsheet_2_df                    = kn.get_spreadsheet_df(spreadsheet_2_file_name)\n",
    "    \n",
    "    spreadsheet_1_df, spreadsheet_2_df  = stt.common_samples_df(spreadsheet_1_df, spreadsheet_2_df)\n",
    "    \n",
    "    results_directory                   = button.results_directory\n",
    "    result_1_file_name                  = stt.get_outfile_name(\n",
    "                                            results_directory, \n",
    "                                            spreadsheet_1_file_name, \n",
    "                                            transform_name, \n",
    "                                            timestamp=False,\n",
    "                                            )\n",
    "    spreadsheet_1_df.to_csv(result_1_file_name, sep='\\t', float_format='%g')\n",
    "    \n",
    "    result_2_file_name                  = stt.get_outfile_name(\n",
    "                                            results_directory, \n",
    "                                            spreadsheet_2_file_name, \n",
    "                                            transform_name, \n",
    "                                            timestamp=False,\n",
    "                                            )\n",
    "    spreadsheet_2_df.to_csv(result_2_file_name, sep='\\t', float_format='%g')\n",
    "    \n",
    "    button.fname_list                   = [spreadsheet_1_file_name, spreadsheet_2_file_name]\n",
    "    visualize_selected_file(button)\n",
    "\n",
    "# get spreadsheet 1 control widgets\n",
    "common_samples_flistbx_1_view_button    = get_select_view_file_button_set(input_data_dir)\n",
    "if os.path.isfile(os.path.join(input_data_dir, DEFAULT_INPUT_FILES['common_samples_1'])):\n",
    "    common_samples_flistbx_1_view_button.file_selector.value = DEFAULT_INPUT_FILES['common_samples_1']\n",
    "\n",
    "# get spreadsheet 2 control widgets\n",
    "common_samples_flistbx_2_view_button    = get_select_view_file_button_set(input_data_dir)\n",
    "if os.path.isfile(os.path.join(input_data_dir, DEFAULT_INPUT_FILES['common_samples_2'])):\n",
    "    common_samples_flistbx_2_view_button.file_selector.value = DEFAULT_INPUT_FILES['common_samples_2']\n",
    "\n",
    "# get the execute button\n",
    "file_select_dict = {    'file_1_selector': common_samples_flistbx_1_view_button.file_selector,\n",
    "                        'file_2_selector': common_samples_flistbx_2_view_button.file_selector }\n",
    "common_samples_execute_button           = get_two_files_execute_button(\n",
    "                                            input_data_dir, \n",
    "                                            results_dir, \n",
    "                                            file_select_dict=file_select_dict,\n",
    "                                            button_name='Intersect')\n",
    "common_samples_execute_button.on_click(get_common_samples)\n",
    "\n",
    "# show the controls\n",
    "show_select_view_button(common_samples_flistbx_1_view_button)\n",
    "show_select_view_button(common_samples_flistbx_2_view_button)\n",
    "show_execute_button(common_samples_execute_button)"
   ]
  },
  {
   "cell_type": "code",
   "execution_count": 5,
   "metadata": {
    "init_cell": true
   },
   "outputs": [
    {
     "data": {
      "application/vnd.jupyter.widget-view+json": {
       "model_id": "f6349eb339174421b10e07c915d3da55",
       "version_major": 2,
       "version_minor": 0
      },
      "text/html": [
       "<p>Failed to display Jupyter Widget of type <code>HTML</code>.</p>\n",
       "<p>\n",
       "  If you're reading this message in Jupyter Notebook or JupyterLab, it may mean\n",
       "  that the widgets JavaScript is still loading. If this message persists, it\n",
       "  likely means that the widgets JavaScript library is either not installed or\n",
       "  not enabled. See the <a href=\"https://ipywidgets.readthedocs.io/en/stable/user_install.html\">Jupyter\n",
       "  Widgets Documentation</a> for setup instructions.\n",
       "</p>\n",
       "<p>\n",
       "  If you're reading this message in another notebook frontend (for example, a static\n",
       "  rendering on GitHub or <a href=\"https://nbviewer.jupyter.org/\">NBViewer</a>),\n",
       "  it may mean that your frontend doesn't currently support widgets.\n",
       "</p>\n"
      ],
      "text/plain": [
       "HTML(value='<h2>Merge</h2>')"
      ]
     },
     "metadata": {},
     "output_type": "display_data"
    },
    {
     "data": {
      "application/vnd.jupyter.widget-view+json": {
       "model_id": "f087ebffdaf94a2abe531094fe512d32",
       "version_major": 2,
       "version_minor": 0
      },
      "text/html": [
       "<p>Failed to display Jupyter Widget of type <code>Box</code>.</p>\n",
       "<p>\n",
       "  If you're reading this message in Jupyter Notebook or JupyterLab, it may mean\n",
       "  that the widgets JavaScript is still loading. If this message persists, it\n",
       "  likely means that the widgets JavaScript library is either not installed or\n",
       "  not enabled. See the <a href=\"https://ipywidgets.readthedocs.io/en/stable/user_install.html\">Jupyter\n",
       "  Widgets Documentation</a> for setup instructions.\n",
       "</p>\n",
       "<p>\n",
       "  If you're reading this message in another notebook frontend (for example, a static\n",
       "  rendering on GitHub or <a href=\"https://nbviewer.jupyter.org/\">NBViewer</a>),\n",
       "  it may mean that your frontend doesn't currently support widgets.\n",
       "</p>\n"
      ],
      "text/plain": [
       "Box(children=(Dropdown(index=6, layout=Layout(width='50%'), options=('average_labels.tsv', 'average_spreadsheet.tsv', 'descriptive_statistic_spreadsheet.tsv', 'intersect_spreadsheet_A.tsv', 'intersect_spreadsheet_B.tsv', 'Kaplan_Meijer_data.tsv', 'merge_spreadsheet_A.txt', 'merge_spreadsheet_B.txt', 'other_transforms_spreadsheet.tsv', 'select_phenotype_phenotype.txt', 'select_phenotype_spreadsheet.df', 'select_rows_list.txt', 'select_rows_spreadsheet.tsv', 'transpose_spreadsheet.tsv'), value='merge_spreadsheet_A.txt'), Button(description='View', style=ButtonStyle(), tooltip='visualize selected file')), layout=Layout(align_items='stretch', border='none', display='inline-flex', flex_flow='row', justify_content='space-between', width='100%'))"
      ]
     },
     "metadata": {},
     "output_type": "display_data"
    },
    {
     "data": {
      "application/vnd.jupyter.widget-view+json": {
       "model_id": "45f318485e6e4538ad71f231cd52c7ec",
       "version_major": 2,
       "version_minor": 0
      },
      "text/html": [
       "<p>Failed to display Jupyter Widget of type <code>HTML</code>.</p>\n",
       "<p>\n",
       "  If you're reading this message in Jupyter Notebook or JupyterLab, it may mean\n",
       "  that the widgets JavaScript is still loading. If this message persists, it\n",
       "  likely means that the widgets JavaScript library is either not installed or\n",
       "  not enabled. See the <a href=\"https://ipywidgets.readthedocs.io/en/stable/user_install.html\">Jupyter\n",
       "  Widgets Documentation</a> for setup instructions.\n",
       "</p>\n",
       "<p>\n",
       "  If you're reading this message in another notebook frontend (for example, a static\n",
       "  rendering on GitHub or <a href=\"https://nbviewer.jupyter.org/\">NBViewer</a>),\n",
       "  it may mean that your frontend doesn't currently support widgets.\n",
       "</p>\n"
      ],
      "text/plain": [
       "HTML(value='')"
      ]
     },
     "metadata": {},
     "output_type": "display_data"
    },
    {
     "data": {
      "application/vnd.jupyter.widget-view+json": {
       "model_id": "3fbe9602e19847ec845c9860157ecec3",
       "version_major": 2,
       "version_minor": 0
      },
      "text/html": [
       "<p>Failed to display Jupyter Widget of type <code>Box</code>.</p>\n",
       "<p>\n",
       "  If you're reading this message in Jupyter Notebook or JupyterLab, it may mean\n",
       "  that the widgets JavaScript is still loading. If this message persists, it\n",
       "  likely means that the widgets JavaScript library is either not installed or\n",
       "  not enabled. See the <a href=\"https://ipywidgets.readthedocs.io/en/stable/user_install.html\">Jupyter\n",
       "  Widgets Documentation</a> for setup instructions.\n",
       "</p>\n",
       "<p>\n",
       "  If you're reading this message in another notebook frontend (for example, a static\n",
       "  rendering on GitHub or <a href=\"https://nbviewer.jupyter.org/\">NBViewer</a>),\n",
       "  it may mean that your frontend doesn't currently support widgets.\n",
       "</p>\n"
      ],
      "text/plain": [
       "Box(children=(Dropdown(index=7, layout=Layout(width='50%'), options=('average_labels.tsv', 'average_spreadsheet.tsv', 'descriptive_statistic_spreadsheet.tsv', 'intersect_spreadsheet_A.tsv', 'intersect_spreadsheet_B.tsv', 'Kaplan_Meijer_data.tsv', 'merge_spreadsheet_A.txt', 'merge_spreadsheet_B.txt', 'other_transforms_spreadsheet.tsv', 'select_phenotype_phenotype.txt', 'select_phenotype_spreadsheet.df', 'select_rows_list.txt', 'select_rows_spreadsheet.tsv', 'transpose_spreadsheet.tsv'), value='merge_spreadsheet_B.txt'), Button(description='View', style=ButtonStyle(), tooltip='visualize selected file')), layout=Layout(align_items='stretch', border='none', display='inline-flex', flex_flow='row', justify_content='space-between', width='100%'))"
      ]
     },
     "metadata": {},
     "output_type": "display_data"
    },
    {
     "data": {
      "application/vnd.jupyter.widget-view+json": {
       "model_id": "13f4b7968c0f4ac69359e8ef8836b952",
       "version_major": 2,
       "version_minor": 0
      },
      "text/html": [
       "<p>Failed to display Jupyter Widget of type <code>HTML</code>.</p>\n",
       "<p>\n",
       "  If you're reading this message in Jupyter Notebook or JupyterLab, it may mean\n",
       "  that the widgets JavaScript is still loading. If this message persists, it\n",
       "  likely means that the widgets JavaScript library is either not installed or\n",
       "  not enabled. See the <a href=\"https://ipywidgets.readthedocs.io/en/stable/user_install.html\">Jupyter\n",
       "  Widgets Documentation</a> for setup instructions.\n",
       "</p>\n",
       "<p>\n",
       "  If you're reading this message in another notebook frontend (for example, a static\n",
       "  rendering on GitHub or <a href=\"https://nbviewer.jupyter.org/\">NBViewer</a>),\n",
       "  it may mean that your frontend doesn't currently support widgets.\n",
       "</p>\n"
      ],
      "text/plain": [
       "HTML(value='')"
      ]
     },
     "metadata": {},
     "output_type": "display_data"
    },
    {
     "data": {
      "application/vnd.jupyter.widget-view+json": {
       "model_id": "7ea1333abab2489bb7a01baa3f7db1d5",
       "version_major": 2,
       "version_minor": 0
      },
      "text/html": [
       "<p>Failed to display Jupyter Widget of type <code>HBox</code>.</p>\n",
       "<p>\n",
       "  If you're reading this message in Jupyter Notebook or JupyterLab, it may mean\n",
       "  that the widgets JavaScript is still loading. If this message persists, it\n",
       "  likely means that the widgets JavaScript library is either not installed or\n",
       "  not enabled. See the <a href=\"https://ipywidgets.readthedocs.io/en/stable/user_install.html\">Jupyter\n",
       "  Widgets Documentation</a> for setup instructions.\n",
       "</p>\n",
       "<p>\n",
       "  If you're reading this message in another notebook frontend (for example, a static\n",
       "  rendering on GitHub or <a href=\"https://nbviewer.jupyter.org/\">NBViewer</a>),\n",
       "  it may mean that your frontend doesn't currently support widgets.\n",
       "</p>\n"
      ],
      "text/plain": [
       "HBox(children=(Button(description='Merge', style=ButtonStyle(), tooltip='execute selected file'),), layout=Layout(display='flex', flex_flow='row', justify_content='flex-end', width='100%'))"
      ]
     },
     "metadata": {},
     "output_type": "display_data"
    },
    {
     "data": {
      "application/vnd.jupyter.widget-view+json": {
       "model_id": "8cdf44dd89374883b7f914bcdda5e1db",
       "version_major": 2,
       "version_minor": 0
      },
      "text/html": [
       "<p>Failed to display Jupyter Widget of type <code>HTML</code>.</p>\n",
       "<p>\n",
       "  If you're reading this message in Jupyter Notebook or JupyterLab, it may mean\n",
       "  that the widgets JavaScript is still loading. If this message persists, it\n",
       "  likely means that the widgets JavaScript library is either not installed or\n",
       "  not enabled. See the <a href=\"https://ipywidgets.readthedocs.io/en/stable/user_install.html\">Jupyter\n",
       "  Widgets Documentation</a> for setup instructions.\n",
       "</p>\n",
       "<p>\n",
       "  If you're reading this message in another notebook frontend (for example, a static\n",
       "  rendering on GitHub or <a href=\"https://nbviewer.jupyter.org/\">NBViewer</a>),\n",
       "  it may mean that your frontend doesn't currently support widgets.\n",
       "</p>\n"
      ],
      "text/plain": [
       "HTML(value='')"
      ]
     },
     "metadata": {},
     "output_type": "display_data"
    }
   ],
   "source": [
    "show_cell_title('Merge')\n",
    "\n",
    "def merge_spreadsheets(button):\n",
    "    \"\"\" Callback for merge_execute_button\n",
    "        \n",
    "    Args: \n",
    "        button:         an ipywidgets.Button object with 2 ipywidgets.Dropdown (.file_selector) objects containing \n",
    "                        the selected file names in the .value fields.\n",
    "    \"\"\"\n",
    "    if button.description == 'Clear':\n",
    "        visualize_selected_file(button)\n",
    "        return\n",
    "\n",
    "    input_data_directory                = button.input_data_directory    \n",
    "    spreadsheet_1_file_name             = os.path.join(input_data_directory, button.file_1_selector.value)\n",
    "    spreadsheet_2_file_name             = os.path.join(input_data_directory, button.file_2_selector.value)\n",
    "    transform_name                      = \"merge\"\n",
    "    \n",
    "    spreadsheet_1_df                    = kn.get_spreadsheet_df(spreadsheet_1_file_name)\n",
    "    spreadsheet_2_df                    = kn.get_spreadsheet_df(spreadsheet_2_file_name)\n",
    "    \n",
    "    merge_df                            = stt.merge_df(spreadsheet_1_df, spreadsheet_2_df)\n",
    "    \n",
    "    results_directory                   = button.results_directory\n",
    "    merge_file_name                     = stt.get_outfile_name(\n",
    "                                            results_directory, \n",
    "                                            spreadsheet_1_file_name, \n",
    "                                            transform_name, \n",
    "                                            timestamp=False,\n",
    "                                            )\n",
    "    merge_df.to_csv(merge_file_name, sep='\\t', float_format='%g')\n",
    "    \n",
    "    button.fname_list                   = [merge_file_name]\n",
    "    visualize_selected_file(button)\n",
    "\n",
    "# get spreadsheet 1 control widgets\n",
    "merge_flistbx_1_view_button             = get_select_view_file_button_set(input_data_dir)\n",
    "if os.path.isfile(os.path.join(input_data_dir, DEFAULT_INPUT_FILES['merge_1'])):\n",
    "    merge_flistbx_1_view_button.file_selector.value = DEFAULT_INPUT_FILES['merge_1']\n",
    "\n",
    "# get spreadsheet 2 control widgets\n",
    "merge_flistbx_2_view_button             = get_select_view_file_button_set(input_data_dir)\n",
    "if os.path.isfile(os.path.join(input_data_dir, DEFAULT_INPUT_FILES['merge_2'])):\n",
    "    merge_flistbx_2_view_button.file_selector.value = DEFAULT_INPUT_FILES['merge_2']\n",
    "\n",
    "# get the execute button\n",
    "merge_select_dict = {    'file_1_selector': merge_flistbx_1_view_button.file_selector,\n",
    "                        'file_2_selector': merge_flistbx_2_view_button.file_selector }\n",
    "merge_execute_button                    = get_two_files_execute_button(\n",
    "                                            input_data_dir, \n",
    "                                            results_dir, \n",
    "                                            file_select_dict=merge_select_dict,\n",
    "                                            button_name='Merge')\n",
    "merge_execute_button.on_click(merge_spreadsheets)\n",
    "\n",
    "# show the controls\n",
    "show_select_view_button(merge_flistbx_1_view_button)\n",
    "show_select_view_button(merge_flistbx_2_view_button)\n",
    "show_execute_button(merge_execute_button)"
   ]
  },
  {
   "cell_type": "code",
   "execution_count": 6,
   "metadata": {
    "init_cell": true
   },
   "outputs": [
    {
     "data": {
      "application/vnd.jupyter.widget-view+json": {
       "model_id": "5074cd491c4242f98b4ebe49824055eb",
       "version_major": 2,
       "version_minor": 0
      },
      "text/html": [
       "<p>Failed to display Jupyter Widget of type <code>HTML</code>.</p>\n",
       "<p>\n",
       "  If you're reading this message in Jupyter Notebook or JupyterLab, it may mean\n",
       "  that the widgets JavaScript is still loading. If this message persists, it\n",
       "  likely means that the widgets JavaScript library is either not installed or\n",
       "  not enabled. See the <a href=\"https://ipywidgets.readthedocs.io/en/stable/user_install.html\">Jupyter\n",
       "  Widgets Documentation</a> for setup instructions.\n",
       "</p>\n",
       "<p>\n",
       "  If you're reading this message in another notebook frontend (for example, a static\n",
       "  rendering on GitHub or <a href=\"https://nbviewer.jupyter.org/\">NBViewer</a>),\n",
       "  it may mean that your frontend doesn't currently support widgets.\n",
       "</p>\n"
      ],
      "text/plain": [
       "HTML(value='<h2>Select Rows</h2>')"
      ]
     },
     "metadata": {},
     "output_type": "display_data"
    },
    {
     "data": {
      "application/vnd.jupyter.widget-view+json": {
       "model_id": "b9ab49c65bbf430e97a34c8bb84f1dd1",
       "version_major": 2,
       "version_minor": 0
      },
      "text/html": [
       "<p>Failed to display Jupyter Widget of type <code>Box</code>.</p>\n",
       "<p>\n",
       "  If you're reading this message in Jupyter Notebook or JupyterLab, it may mean\n",
       "  that the widgets JavaScript is still loading. If this message persists, it\n",
       "  likely means that the widgets JavaScript library is either not installed or\n",
       "  not enabled. See the <a href=\"https://ipywidgets.readthedocs.io/en/stable/user_install.html\">Jupyter\n",
       "  Widgets Documentation</a> for setup instructions.\n",
       "</p>\n",
       "<p>\n",
       "  If you're reading this message in another notebook frontend (for example, a static\n",
       "  rendering on GitHub or <a href=\"https://nbviewer.jupyter.org/\">NBViewer</a>),\n",
       "  it may mean that your frontend doesn't currently support widgets.\n",
       "</p>\n"
      ],
      "text/plain": [
       "Box(children=(Dropdown(index=12, layout=Layout(width='50%'), options=('average_labels.tsv', 'average_spreadsheet.tsv', 'descriptive_statistic_spreadsheet.tsv', 'intersect_spreadsheet_A.tsv', 'intersect_spreadsheet_B.tsv', 'Kaplan_Meijer_data.tsv', 'merge_spreadsheet_A.txt', 'merge_spreadsheet_B.txt', 'other_transforms_spreadsheet.tsv', 'select_phenotype_phenotype.txt', 'select_phenotype_spreadsheet.df', 'select_rows_list.txt', 'select_rows_spreadsheet.tsv', 'transpose_spreadsheet.tsv'), value='select_rows_spreadsheet.tsv'), Button(description='View', style=ButtonStyle(), tooltip='visualize selected file')), layout=Layout(align_items='stretch', border='none', display='inline-flex', flex_flow='row', justify_content='space-between', width='100%'))"
      ]
     },
     "metadata": {},
     "output_type": "display_data"
    },
    {
     "data": {
      "application/vnd.jupyter.widget-view+json": {
       "model_id": "86a76c40e81a46dd805b856766fd1aff",
       "version_major": 2,
       "version_minor": 0
      },
      "text/html": [
       "<p>Failed to display Jupyter Widget of type <code>HTML</code>.</p>\n",
       "<p>\n",
       "  If you're reading this message in Jupyter Notebook or JupyterLab, it may mean\n",
       "  that the widgets JavaScript is still loading. If this message persists, it\n",
       "  likely means that the widgets JavaScript library is either not installed or\n",
       "  not enabled. See the <a href=\"https://ipywidgets.readthedocs.io/en/stable/user_install.html\">Jupyter\n",
       "  Widgets Documentation</a> for setup instructions.\n",
       "</p>\n",
       "<p>\n",
       "  If you're reading this message in another notebook frontend (for example, a static\n",
       "  rendering on GitHub or <a href=\"https://nbviewer.jupyter.org/\">NBViewer</a>),\n",
       "  it may mean that your frontend doesn't currently support widgets.\n",
       "</p>\n"
      ],
      "text/plain": [
       "HTML(value='')"
      ]
     },
     "metadata": {},
     "output_type": "display_data"
    },
    {
     "data": {
      "application/vnd.jupyter.widget-view+json": {
       "model_id": "06c637b6582642cbb06b18d6657a5937",
       "version_major": 2,
       "version_minor": 0
      },
      "text/html": [
       "<p>Failed to display Jupyter Widget of type <code>Box</code>.</p>\n",
       "<p>\n",
       "  If you're reading this message in Jupyter Notebook or JupyterLab, it may mean\n",
       "  that the widgets JavaScript is still loading. If this message persists, it\n",
       "  likely means that the widgets JavaScript library is either not installed or\n",
       "  not enabled. See the <a href=\"https://ipywidgets.readthedocs.io/en/stable/user_install.html\">Jupyter\n",
       "  Widgets Documentation</a> for setup instructions.\n",
       "</p>\n",
       "<p>\n",
       "  If you're reading this message in another notebook frontend (for example, a static\n",
       "  rendering on GitHub or <a href=\"https://nbviewer.jupyter.org/\">NBViewer</a>),\n",
       "  it may mean that your frontend doesn't currently support widgets.\n",
       "</p>\n"
      ],
      "text/plain": [
       "Box(children=(Dropdown(index=11, layout=Layout(width='50%'), options=('average_labels.tsv', 'average_spreadsheet.tsv', 'descriptive_statistic_spreadsheet.tsv', 'intersect_spreadsheet_A.tsv', 'intersect_spreadsheet_B.tsv', 'Kaplan_Meijer_data.tsv', 'merge_spreadsheet_A.txt', 'merge_spreadsheet_B.txt', 'other_transforms_spreadsheet.tsv', 'select_phenotype_phenotype.txt', 'select_phenotype_spreadsheet.df', 'select_rows_list.txt', 'select_rows_spreadsheet.tsv', 'transpose_spreadsheet.tsv'), value='select_rows_list.txt'), Button(description='View', style=ButtonStyle(), tooltip='visualize selected file')), layout=Layout(align_items='stretch', border='none', display='inline-flex', flex_flow='row', justify_content='space-between', width='100%'))"
      ]
     },
     "metadata": {},
     "output_type": "display_data"
    },
    {
     "data": {
      "application/vnd.jupyter.widget-view+json": {
       "model_id": "646eab502b0748abb5ba29ff20f546fa",
       "version_major": 2,
       "version_minor": 0
      },
      "text/html": [
       "<p>Failed to display Jupyter Widget of type <code>HTML</code>.</p>\n",
       "<p>\n",
       "  If you're reading this message in Jupyter Notebook or JupyterLab, it may mean\n",
       "  that the widgets JavaScript is still loading. If this message persists, it\n",
       "  likely means that the widgets JavaScript library is either not installed or\n",
       "  not enabled. See the <a href=\"https://ipywidgets.readthedocs.io/en/stable/user_install.html\">Jupyter\n",
       "  Widgets Documentation</a> for setup instructions.\n",
       "</p>\n",
       "<p>\n",
       "  If you're reading this message in another notebook frontend (for example, a static\n",
       "  rendering on GitHub or <a href=\"https://nbviewer.jupyter.org/\">NBViewer</a>),\n",
       "  it may mean that your frontend doesn't currently support widgets.\n",
       "</p>\n"
      ],
      "text/plain": [
       "HTML(value='')"
      ]
     },
     "metadata": {},
     "output_type": "display_data"
    },
    {
     "data": {
      "application/vnd.jupyter.widget-view+json": {
       "model_id": "85abfc7faa16453281be9578e6f1e8a4",
       "version_major": 2,
       "version_minor": 0
      },
      "text/html": [
       "<p>Failed to display Jupyter Widget of type <code>HBox</code>.</p>\n",
       "<p>\n",
       "  If you're reading this message in Jupyter Notebook or JupyterLab, it may mean\n",
       "  that the widgets JavaScript is still loading. If this message persists, it\n",
       "  likely means that the widgets JavaScript library is either not installed or\n",
       "  not enabled. See the <a href=\"https://ipywidgets.readthedocs.io/en/stable/user_install.html\">Jupyter\n",
       "  Widgets Documentation</a> for setup instructions.\n",
       "</p>\n",
       "<p>\n",
       "  If you're reading this message in another notebook frontend (for example, a static\n",
       "  rendering on GitHub or <a href=\"https://nbviewer.jupyter.org/\">NBViewer</a>),\n",
       "  it may mean that your frontend doesn't currently support widgets.\n",
       "</p>\n"
      ],
      "text/plain": [
       "HBox(children=(Button(description='Select', style=ButtonStyle(), tooltip='execute selected file'),), layout=Layout(display='flex', flex_flow='row', justify_content='flex-end', width='100%'))"
      ]
     },
     "metadata": {},
     "output_type": "display_data"
    },
    {
     "data": {
      "application/vnd.jupyter.widget-view+json": {
       "model_id": "edb3ec98456e4e6b99951f6ee7d5d6b1",
       "version_major": 2,
       "version_minor": 0
      },
      "text/html": [
       "<p>Failed to display Jupyter Widget of type <code>HTML</code>.</p>\n",
       "<p>\n",
       "  If you're reading this message in Jupyter Notebook or JupyterLab, it may mean\n",
       "  that the widgets JavaScript is still loading. If this message persists, it\n",
       "  likely means that the widgets JavaScript library is either not installed or\n",
       "  not enabled. See the <a href=\"https://ipywidgets.readthedocs.io/en/stable/user_install.html\">Jupyter\n",
       "  Widgets Documentation</a> for setup instructions.\n",
       "</p>\n",
       "<p>\n",
       "  If you're reading this message in another notebook frontend (for example, a static\n",
       "  rendering on GitHub or <a href=\"https://nbviewer.jupyter.org/\">NBViewer</a>),\n",
       "  it may mean that your frontend doesn't currently support widgets.\n",
       "</p>\n"
      ],
      "text/plain": [
       "HTML(value='')"
      ]
     },
     "metadata": {},
     "output_type": "display_data"
    }
   ],
   "source": [
    "show_cell_title('Select Rows')\n",
    "\n",
    "def read_a_list_file(input_file_name):\n",
    "    \"\"\" local function to read a list from a text file\n",
    "    \n",
    "    Args:\n",
    "        input_file_name:    full path name of a file containing a list\n",
    "    \n",
    "    Returns:\n",
    "        string_input:       the list that was contained in the file\n",
    "    \"\"\"\n",
    "    with open(input_file_name, 'r') as fh:\n",
    "        str_input = fh.read()\n",
    "    return list(str_input.split())\n",
    "\n",
    "def select_genes(button):\n",
    "    \"\"\" local function to read files and get common samples and write \n",
    "        using the Spreadsheets_Transformation - spreadsheets_transformation_toolbox\n",
    "    \n",
    "    Args: \n",
    "        button:         an ipywidgets.Button object with 2 ipywidgets.Dropdown (.file_selector) objects containing \n",
    "                        the selected file names in the .value fields.\n",
    "    \"\"\"\n",
    "    if button.description == 'Clear':\n",
    "        visualize_selected_file(button)\n",
    "        return\n",
    "\n",
    "    input_data_directory                = button.input_data_directory    \n",
    "    spreadsheet_1_file_name             = os.path.join(input_data_directory, button.file_1_selector.value)\n",
    "    spreadsheet_2_file_name             = os.path.join(input_data_directory, button.file_2_selector.value)\n",
    "    transform_name                      = \"select_rows\"\n",
    "    \n",
    "    gene_samples_df                     = kn.get_spreadsheet_df(spreadsheet_1_file_name)\n",
    "    gene_list_df                        = read_a_list_file(spreadsheet_2_file_name)\n",
    "\n",
    "    select_spreadsheet_df               = stt.select_genes_df(gene_samples_df, gene_list_df)\n",
    "    \n",
    "    results_directory                   = button.results_directory\n",
    "    gene_rows_file_name                 = stt.get_outfile_name(\n",
    "                                            results_directory, \n",
    "                                            spreadsheet_1_file_name, \n",
    "                                            transform_name, \n",
    "                                            timestamp=False,\n",
    "                                            )\n",
    "    select_spreadsheet_df.to_csv(gene_rows_file_name, sep='\\t', float_format='%g')\n",
    "    button.fname_list                   = [gene_rows_file_name]\n",
    "    visualize_selected_file(button)\n",
    "\n",
    "# get spreadsheet 1 control widgets\n",
    "select_rows_flistbx_1_view_button       = get_select_view_file_button_set(input_data_dir)\n",
    "if os.path.isfile(os.path.join(input_data_dir, DEFAULT_INPUT_FILES['select_rows_spreadsheet'])):\n",
    "    select_rows_flistbx_1_view_button.file_selector.value = DEFAULT_INPUT_FILES['select_rows_spreadsheet']\n",
    "\n",
    "# get spreadsheet 2 control widgets\n",
    "select_rows_flistbx_2_view_button       = get_select_view_file_button_set(input_data_dir)\n",
    "if os.path.isfile(os.path.join(input_data_dir, DEFAULT_INPUT_FILES['select_rows_list'])):\n",
    "    select_rows_flistbx_2_view_button.file_selector.value = DEFAULT_INPUT_FILES['select_rows_list']\n",
    "\n",
    "# get the execute button\n",
    "row_file_select_dict = {    'file_1_selector': select_rows_flistbx_1_view_button.file_selector,\n",
    "                            'file_2_selector': select_rows_flistbx_2_view_button.file_selector }\n",
    "select_rows_execute_button              = get_two_files_execute_button(\n",
    "                                            input_data_dir, \n",
    "                                            results_dir, \n",
    "                                            file_select_dict=row_file_select_dict,\n",
    "                                            button_name='Select')\n",
    "select_rows_execute_button.on_click(select_genes)\n",
    "\n",
    "# show the controls\n",
    "show_select_view_button(select_rows_flistbx_1_view_button)\n",
    "show_select_view_button(select_rows_flistbx_2_view_button)\n",
    "show_execute_button(select_rows_execute_button)"
   ]
  },
  {
   "cell_type": "code",
   "execution_count": 7,
   "metadata": {
    "init_cell": true
   },
   "outputs": [
    {
     "data": {
      "application/vnd.jupyter.widget-view+json": {
       "model_id": "dd866bd9067a4820bd1aeb5f721ee78f",
       "version_major": 2,
       "version_minor": 0
      },
      "text/html": [
       "<p>Failed to display Jupyter Widget of type <code>HTML</code>.</p>\n",
       "<p>\n",
       "  If you're reading this message in Jupyter Notebook or JupyterLab, it may mean\n",
       "  that the widgets JavaScript is still loading. If this message persists, it\n",
       "  likely means that the widgets JavaScript library is either not installed or\n",
       "  not enabled. See the <a href=\"https://ipywidgets.readthedocs.io/en/stable/user_install.html\">Jupyter\n",
       "  Widgets Documentation</a> for setup instructions.\n",
       "</p>\n",
       "<p>\n",
       "  If you're reading this message in another notebook frontend (for example, a static\n",
       "  rendering on GitHub or <a href=\"https://nbviewer.jupyter.org/\">NBViewer</a>),\n",
       "  it may mean that your frontend doesn't currently support widgets.\n",
       "</p>\n"
      ],
      "text/plain": [
       "HTML(value='<h2>Average on Labels</h2>')"
      ]
     },
     "metadata": {},
     "output_type": "display_data"
    },
    {
     "data": {
      "application/vnd.jupyter.widget-view+json": {
       "model_id": "5b9f3ee452e24636921e7ac4d9c61f91",
       "version_major": 2,
       "version_minor": 0
      },
      "text/html": [
       "<p>Failed to display Jupyter Widget of type <code>Box</code>.</p>\n",
       "<p>\n",
       "  If you're reading this message in Jupyter Notebook or JupyterLab, it may mean\n",
       "  that the widgets JavaScript is still loading. If this message persists, it\n",
       "  likely means that the widgets JavaScript library is either not installed or\n",
       "  not enabled. See the <a href=\"https://ipywidgets.readthedocs.io/en/stable/user_install.html\">Jupyter\n",
       "  Widgets Documentation</a> for setup instructions.\n",
       "</p>\n",
       "<p>\n",
       "  If you're reading this message in another notebook frontend (for example, a static\n",
       "  rendering on GitHub or <a href=\"https://nbviewer.jupyter.org/\">NBViewer</a>),\n",
       "  it may mean that your frontend doesn't currently support widgets.\n",
       "</p>\n"
      ],
      "text/plain": [
       "Box(children=(Dropdown(index=1, layout=Layout(width='50%'), options=('average_labels.tsv', 'average_spreadsheet.tsv', 'descriptive_statistic_spreadsheet.tsv', 'intersect_spreadsheet_A.tsv', 'intersect_spreadsheet_B.tsv', 'Kaplan_Meijer_data.tsv', 'merge_spreadsheet_A.txt', 'merge_spreadsheet_B.txt', 'other_transforms_spreadsheet.tsv', 'select_phenotype_phenotype.txt', 'select_phenotype_spreadsheet.df', 'select_rows_list.txt', 'select_rows_spreadsheet.tsv', 'transpose_spreadsheet.tsv'), value='average_spreadsheet.tsv'), Button(description='View', style=ButtonStyle(), tooltip='visualize selected file')), layout=Layout(align_items='stretch', border='none', display='inline-flex', flex_flow='row', justify_content='space-between', width='100%'))"
      ]
     },
     "metadata": {},
     "output_type": "display_data"
    },
    {
     "data": {
      "application/vnd.jupyter.widget-view+json": {
       "model_id": "8ef958fb687f448b8368d7e25ff8268e",
       "version_major": 2,
       "version_minor": 0
      },
      "text/html": [
       "<p>Failed to display Jupyter Widget of type <code>HTML</code>.</p>\n",
       "<p>\n",
       "  If you're reading this message in Jupyter Notebook or JupyterLab, it may mean\n",
       "  that the widgets JavaScript is still loading. If this message persists, it\n",
       "  likely means that the widgets JavaScript library is either not installed or\n",
       "  not enabled. See the <a href=\"https://ipywidgets.readthedocs.io/en/stable/user_install.html\">Jupyter\n",
       "  Widgets Documentation</a> for setup instructions.\n",
       "</p>\n",
       "<p>\n",
       "  If you're reading this message in another notebook frontend (for example, a static\n",
       "  rendering on GitHub or <a href=\"https://nbviewer.jupyter.org/\">NBViewer</a>),\n",
       "  it may mean that your frontend doesn't currently support widgets.\n",
       "</p>\n"
      ],
      "text/plain": [
       "HTML(value='')"
      ]
     },
     "metadata": {},
     "output_type": "display_data"
    },
    {
     "data": {
      "application/vnd.jupyter.widget-view+json": {
       "model_id": "4dbfa22184464a50b3040fb36713d6ef",
       "version_major": 2,
       "version_minor": 0
      },
      "text/html": [
       "<p>Failed to display Jupyter Widget of type <code>Box</code>.</p>\n",
       "<p>\n",
       "  If you're reading this message in Jupyter Notebook or JupyterLab, it may mean\n",
       "  that the widgets JavaScript is still loading. If this message persists, it\n",
       "  likely means that the widgets JavaScript library is either not installed or\n",
       "  not enabled. See the <a href=\"https://ipywidgets.readthedocs.io/en/stable/user_install.html\">Jupyter\n",
       "  Widgets Documentation</a> for setup instructions.\n",
       "</p>\n",
       "<p>\n",
       "  If you're reading this message in another notebook frontend (for example, a static\n",
       "  rendering on GitHub or <a href=\"https://nbviewer.jupyter.org/\">NBViewer</a>),\n",
       "  it may mean that your frontend doesn't currently support widgets.\n",
       "</p>\n"
      ],
      "text/plain": [
       "Box(children=(Dropdown(layout=Layout(width='50%'), options=('average_labels.tsv', 'average_spreadsheet.tsv', 'descriptive_statistic_spreadsheet.tsv', 'intersect_spreadsheet_A.tsv', 'intersect_spreadsheet_B.tsv', 'Kaplan_Meijer_data.tsv', 'merge_spreadsheet_A.txt', 'merge_spreadsheet_B.txt', 'other_transforms_spreadsheet.tsv', 'select_phenotype_phenotype.txt', 'select_phenotype_spreadsheet.df', 'select_rows_list.txt', 'select_rows_spreadsheet.tsv', 'transpose_spreadsheet.tsv'), value='average_labels.tsv'), Button(description='View', style=ButtonStyle(), tooltip='visualize selected file')), layout=Layout(align_items='stretch', border='none', display='inline-flex', flex_flow='row', justify_content='space-between', width='100%'))"
      ]
     },
     "metadata": {},
     "output_type": "display_data"
    },
    {
     "data": {
      "application/vnd.jupyter.widget-view+json": {
       "model_id": "ed803eab90f24f88a3634914d9dac097",
       "version_major": 2,
       "version_minor": 0
      },
      "text/html": [
       "<p>Failed to display Jupyter Widget of type <code>HTML</code>.</p>\n",
       "<p>\n",
       "  If you're reading this message in Jupyter Notebook or JupyterLab, it may mean\n",
       "  that the widgets JavaScript is still loading. If this message persists, it\n",
       "  likely means that the widgets JavaScript library is either not installed or\n",
       "  not enabled. See the <a href=\"https://ipywidgets.readthedocs.io/en/stable/user_install.html\">Jupyter\n",
       "  Widgets Documentation</a> for setup instructions.\n",
       "</p>\n",
       "<p>\n",
       "  If you're reading this message in another notebook frontend (for example, a static\n",
       "  rendering on GitHub or <a href=\"https://nbviewer.jupyter.org/\">NBViewer</a>),\n",
       "  it may mean that your frontend doesn't currently support widgets.\n",
       "</p>\n"
      ],
      "text/plain": [
       "HTML(value='')"
      ]
     },
     "metadata": {},
     "output_type": "display_data"
    },
    {
     "data": {
      "application/vnd.jupyter.widget-view+json": {
       "model_id": "488a84f58c2a405bb778f0f6dd4b35ec",
       "version_major": 2,
       "version_minor": 0
      },
      "text/html": [
       "<p>Failed to display Jupyter Widget of type <code>HBox</code>.</p>\n",
       "<p>\n",
       "  If you're reading this message in Jupyter Notebook or JupyterLab, it may mean\n",
       "  that the widgets JavaScript is still loading. If this message persists, it\n",
       "  likely means that the widgets JavaScript library is either not installed or\n",
       "  not enabled. See the <a href=\"https://ipywidgets.readthedocs.io/en/stable/user_install.html\">Jupyter\n",
       "  Widgets Documentation</a> for setup instructions.\n",
       "</p>\n",
       "<p>\n",
       "  If you're reading this message in another notebook frontend (for example, a static\n",
       "  rendering on GitHub or <a href=\"https://nbviewer.jupyter.org/\">NBViewer</a>),\n",
       "  it may mean that your frontend doesn't currently support widgets.\n",
       "</p>\n"
      ],
      "text/plain": [
       "HBox(children=(Dropdown(description='Statistic:', options=('std', 'median', 'mean'), value='std'),), layout=Layout(display='flex', flex_flow='row', justify_content='flex-start', width='100%'))"
      ]
     },
     "metadata": {},
     "output_type": "display_data"
    },
    {
     "data": {
      "application/vnd.jupyter.widget-view+json": {
       "model_id": "e18567aaa94c4f3ead914457ae99ba79",
       "version_major": 2,
       "version_minor": 0
      },
      "text/html": [
       "<p>Failed to display Jupyter Widget of type <code>HBox</code>.</p>\n",
       "<p>\n",
       "  If you're reading this message in Jupyter Notebook or JupyterLab, it may mean\n",
       "  that the widgets JavaScript is still loading. If this message persists, it\n",
       "  likely means that the widgets JavaScript library is either not installed or\n",
       "  not enabled. See the <a href=\"https://ipywidgets.readthedocs.io/en/stable/user_install.html\">Jupyter\n",
       "  Widgets Documentation</a> for setup instructions.\n",
       "</p>\n",
       "<p>\n",
       "  If you're reading this message in another notebook frontend (for example, a static\n",
       "  rendering on GitHub or <a href=\"https://nbviewer.jupyter.org/\">NBViewer</a>),\n",
       "  it may mean that your frontend doesn't currently support widgets.\n",
       "</p>\n"
      ],
      "text/plain": [
       "HBox(children=(Button(description='Intersect', style=ButtonStyle(), tooltip='execute selected file'),), layout=Layout(display='flex', flex_flow='row', justify_content='flex-end', width='100%'))"
      ]
     },
     "metadata": {},
     "output_type": "display_data"
    },
    {
     "data": {
      "application/vnd.jupyter.widget-view+json": {
       "model_id": "5dbe7a7f52564212852caaea7d0f9173",
       "version_major": 2,
       "version_minor": 0
      },
      "text/html": [
       "<p>Failed to display Jupyter Widget of type <code>HTML</code>.</p>\n",
       "<p>\n",
       "  If you're reading this message in Jupyter Notebook or JupyterLab, it may mean\n",
       "  that the widgets JavaScript is still loading. If this message persists, it\n",
       "  likely means that the widgets JavaScript library is either not installed or\n",
       "  not enabled. See the <a href=\"https://ipywidgets.readthedocs.io/en/stable/user_install.html\">Jupyter\n",
       "  Widgets Documentation</a> for setup instructions.\n",
       "</p>\n",
       "<p>\n",
       "  If you're reading this message in another notebook frontend (for example, a static\n",
       "  rendering on GitHub or <a href=\"https://nbviewer.jupyter.org/\">NBViewer</a>),\n",
       "  it may mean that your frontend doesn't currently support widgets.\n",
       "</p>\n"
      ],
      "text/plain": [
       "HTML(value='')"
      ]
     },
     "metadata": {},
     "output_type": "display_data"
    }
   ],
   "source": [
    "show_cell_title('Average on Labels')\n",
    "\n",
    "def get_cluster_averages(button):\n",
    "    \"\"\" local function to get the averages for the dictionay selected samples in a spreadsheet\n",
    "        using the Spreadsheets_Transformation - spreadsheets_transformation_toolbox\n",
    "    \n",
    "    Args: \n",
    "        button:         an ipywidgets.Button object with 2 ipywidgets.Dropdown (.file_selector) objects containing \n",
    "                        the selected file names in the .value fields.\n",
    "    \"\"\"\n",
    "    if button.description == 'Clear':\n",
    "        visualize_selected_file(button)\n",
    "        return\n",
    "\n",
    "    input_data_directory                = button.input_data_directory    \n",
    "    spreadsheet_1_file_name             = os.path.join(input_data_directory, button.file_1_selector.value)\n",
    "    spreadsheet_2_file_name             = os.path.join(input_data_directory, button.file_2_selector.value)\n",
    "    transform_name                      = \"selected_averages\"\n",
    "    \n",
    "    spreadsheet_df                      = kn.get_spreadsheet_df(spreadsheet_1_file_name)\n",
    "    labels_df                           = pd.read_csv(spreadsheet_2_file_name, \n",
    "                                                      index_col=0, \n",
    "                                                      sep='\\t', \n",
    "                                                      names=['sample','cluster_number'],\n",
    "                                                     )\n",
    "    centroid_statistic                  = button.centroid_selector.value\n",
    "    \n",
    "    averages_df                         = stt.cluster_statistics_df(spreadsheet_df, labels_df, centroid_statistic)\n",
    "    results_directory                   = button.results_directory\n",
    "    averages_file_name                  = stt.get_outfile_name(\n",
    "                                            results_directory, \n",
    "                                            spreadsheet_1_file_name, \n",
    "                                            transform_name, \n",
    "                                            timestamp=False,\n",
    "                                            )\n",
    "    averages_df.to_csv(averages_file_name, sep='\\t', float_format='%g')\n",
    "    \n",
    "    button.fname_list                   = [averages_file_name]\n",
    "    visualize_selected_file(button)\n",
    "\n",
    "\n",
    "# get spreadsheet 1 control widgets\n",
    "averages_flistbx_1_view_button = get_select_view_file_button_set(input_data_dir)\n",
    "if os.path.isfile(os.path.join(input_data_dir, DEFAULT_INPUT_FILES['select_averages_spreadsheet'])):\n",
    "    averages_flistbx_1_view_button.file_selector.value = DEFAULT_INPUT_FILES['select_averages_spreadsheet']\n",
    "\n",
    "# get spreadsheet 2 control widgets\n",
    "averages_flistbx_2_view_button    = get_select_view_file_button_set(input_data_dir)\n",
    "if os.path.isfile(os.path.join(input_data_dir, DEFAULT_INPUT_FILES['select_averages_dict'])):\n",
    "    averages_flistbx_2_view_button.file_selector.value = DEFAULT_INPUT_FILES['select_averages_dict']\n",
    "\n",
    "# get the execute button\n",
    "ave_file_select_dict = {    'file_1_selector': averages_flistbx_1_view_button.file_selector,\n",
    "                            'file_2_selector': averages_flistbx_2_view_button.file_selector }\n",
    "averages_execute_button           = get_two_files_execute_button(\n",
    "                                            input_data_dir, \n",
    "                                            results_dir, \n",
    "                                            file_select_dict=ave_file_select_dict,\n",
    "                                            button_name='Intersect')\n",
    "averages_execute_button.on_click(get_cluster_averages)\n",
    "\n",
    "AVAILABLE_STATISTICAL_CENTROIDS = ['std', 'median', 'mean']\n",
    "centroid_selector_dropdown = widgets.Dropdown(options=AVAILABLE_STATISTICAL_CENTROIDS,\n",
    "                                              value=AVAILABLE_STATISTICAL_CENTROIDS[0],\n",
    "                                              description='Statistic:')\n",
    "averages_execute_button.centroid_selector = centroid_selector_dropdown\n",
    "\n",
    "# show the controls\n",
    "show_select_view_button(averages_flistbx_1_view_button)\n",
    "show_select_view_button(averages_flistbx_2_view_button)\n",
    "show_widget_left(centroid_selector_dropdown)\n",
    "show_execute_button(averages_execute_button)"
   ]
  },
  {
   "cell_type": "code",
   "execution_count": 8,
   "metadata": {
    "init_cell": true
   },
   "outputs": [
    {
     "data": {
      "application/vnd.jupyter.widget-view+json": {
       "model_id": "7ec5c95fff4e45b693e514f6e749fc78",
       "version_major": 2,
       "version_minor": 0
      },
      "text/html": [
       "<p>Failed to display Jupyter Widget of type <code>HTML</code>.</p>\n",
       "<p>\n",
       "  If you're reading this message in Jupyter Notebook or JupyterLab, it may mean\n",
       "  that the widgets JavaScript is still loading. If this message persists, it\n",
       "  likely means that the widgets JavaScript library is either not installed or\n",
       "  not enabled. See the <a href=\"https://ipywidgets.readthedocs.io/en/stable/user_install.html\">Jupyter\n",
       "  Widgets Documentation</a> for setup instructions.\n",
       "</p>\n",
       "<p>\n",
       "  If you're reading this message in another notebook frontend (for example, a static\n",
       "  rendering on GitHub or <a href=\"https://nbviewer.jupyter.org/\">NBViewer</a>),\n",
       "  it may mean that your frontend doesn't currently support widgets.\n",
       "</p>\n"
      ],
      "text/plain": [
       "HTML(value='<h2>Select Phenotype</h2>')"
      ]
     },
     "metadata": {},
     "output_type": "display_data"
    },
    {
     "data": {
      "application/vnd.jupyter.widget-view+json": {
       "model_id": "b866d9afc41840c99893cd0efa8805b4",
       "version_major": 2,
       "version_minor": 0
      },
      "text/html": [
       "<p>Failed to display Jupyter Widget of type <code>Box</code>.</p>\n",
       "<p>\n",
       "  If you're reading this message in Jupyter Notebook or JupyterLab, it may mean\n",
       "  that the widgets JavaScript is still loading. If this message persists, it\n",
       "  likely means that the widgets JavaScript library is either not installed or\n",
       "  not enabled. See the <a href=\"https://ipywidgets.readthedocs.io/en/stable/user_install.html\">Jupyter\n",
       "  Widgets Documentation</a> for setup instructions.\n",
       "</p>\n",
       "<p>\n",
       "  If you're reading this message in another notebook frontend (for example, a static\n",
       "  rendering on GitHub or <a href=\"https://nbviewer.jupyter.org/\">NBViewer</a>),\n",
       "  it may mean that your frontend doesn't currently support widgets.\n",
       "</p>\n"
      ],
      "text/plain": [
       "Box(children=(Dropdown(index=10, layout=Layout(width='50%'), options=('average_labels.tsv', 'average_spreadsheet.tsv', 'descriptive_statistic_spreadsheet.tsv', 'intersect_spreadsheet_A.tsv', 'intersect_spreadsheet_B.tsv', 'Kaplan_Meijer_data.tsv', 'merge_spreadsheet_A.txt', 'merge_spreadsheet_B.txt', 'other_transforms_spreadsheet.tsv', 'select_phenotype_phenotype.txt', 'select_phenotype_spreadsheet.df', 'select_rows_list.txt', 'select_rows_spreadsheet.tsv', 'transpose_spreadsheet.tsv'), value='select_phenotype_spreadsheet.df'), Button(description='View', style=ButtonStyle(), tooltip='visualize selected file')), layout=Layout(align_items='stretch', border='none', display='inline-flex', flex_flow='row', justify_content='space-between', width='100%'))"
      ]
     },
     "metadata": {},
     "output_type": "display_data"
    },
    {
     "data": {
      "application/vnd.jupyter.widget-view+json": {
       "model_id": "bc62ed82d63d43698329b1ed429a5ae1",
       "version_major": 2,
       "version_minor": 0
      },
      "text/html": [
       "<p>Failed to display Jupyter Widget of type <code>HTML</code>.</p>\n",
       "<p>\n",
       "  If you're reading this message in Jupyter Notebook or JupyterLab, it may mean\n",
       "  that the widgets JavaScript is still loading. If this message persists, it\n",
       "  likely means that the widgets JavaScript library is either not installed or\n",
       "  not enabled. See the <a href=\"https://ipywidgets.readthedocs.io/en/stable/user_install.html\">Jupyter\n",
       "  Widgets Documentation</a> for setup instructions.\n",
       "</p>\n",
       "<p>\n",
       "  If you're reading this message in another notebook frontend (for example, a static\n",
       "  rendering on GitHub or <a href=\"https://nbviewer.jupyter.org/\">NBViewer</a>),\n",
       "  it may mean that your frontend doesn't currently support widgets.\n",
       "</p>\n"
      ],
      "text/plain": [
       "HTML(value='')"
      ]
     },
     "metadata": {},
     "output_type": "display_data"
    },
    {
     "data": {
      "application/vnd.jupyter.widget-view+json": {
       "model_id": "39cc0d598ca3431b86b3e92a614751b1",
       "version_major": 2,
       "version_minor": 0
      },
      "text/html": [
       "<p>Failed to display Jupyter Widget of type <code>Box</code>.</p>\n",
       "<p>\n",
       "  If you're reading this message in Jupyter Notebook or JupyterLab, it may mean\n",
       "  that the widgets JavaScript is still loading. If this message persists, it\n",
       "  likely means that the widgets JavaScript library is either not installed or\n",
       "  not enabled. See the <a href=\"https://ipywidgets.readthedocs.io/en/stable/user_install.html\">Jupyter\n",
       "  Widgets Documentation</a> for setup instructions.\n",
       "</p>\n",
       "<p>\n",
       "  If you're reading this message in another notebook frontend (for example, a static\n",
       "  rendering on GitHub or <a href=\"https://nbviewer.jupyter.org/\">NBViewer</a>),\n",
       "  it may mean that your frontend doesn't currently support widgets.\n",
       "</p>\n"
      ],
      "text/plain": [
       "Box(children=(Dropdown(index=9, layout=Layout(width='50%'), options=('average_labels.tsv', 'average_spreadsheet.tsv', 'descriptive_statistic_spreadsheet.tsv', 'intersect_spreadsheet_A.tsv', 'intersect_spreadsheet_B.tsv', 'Kaplan_Meijer_data.tsv', 'merge_spreadsheet_A.txt', 'merge_spreadsheet_B.txt', 'other_transforms_spreadsheet.tsv', 'select_phenotype_phenotype.txt', 'select_phenotype_spreadsheet.df', 'select_rows_list.txt', 'select_rows_spreadsheet.tsv', 'transpose_spreadsheet.tsv'), value='select_phenotype_phenotype.txt'), Button(description='View', style=ButtonStyle(), tooltip='visualize selected file')), layout=Layout(align_items='stretch', border='none', display='inline-flex', flex_flow='row', justify_content='space-between', width='100%'))"
      ]
     },
     "metadata": {},
     "output_type": "display_data"
    },
    {
     "data": {
      "application/vnd.jupyter.widget-view+json": {
       "model_id": "afb7d1f67b914d528cfa9bd4d270af97",
       "version_major": 2,
       "version_minor": 0
      },
      "text/html": [
       "<p>Failed to display Jupyter Widget of type <code>HTML</code>.</p>\n",
       "<p>\n",
       "  If you're reading this message in Jupyter Notebook or JupyterLab, it may mean\n",
       "  that the widgets JavaScript is still loading. If this message persists, it\n",
       "  likely means that the widgets JavaScript library is either not installed or\n",
       "  not enabled. See the <a href=\"https://ipywidgets.readthedocs.io/en/stable/user_install.html\">Jupyter\n",
       "  Widgets Documentation</a> for setup instructions.\n",
       "</p>\n",
       "<p>\n",
       "  If you're reading this message in another notebook frontend (for example, a static\n",
       "  rendering on GitHub or <a href=\"https://nbviewer.jupyter.org/\">NBViewer</a>),\n",
       "  it may mean that your frontend doesn't currently support widgets.\n",
       "</p>\n"
      ],
      "text/plain": [
       "HTML(value='')"
      ]
     },
     "metadata": {},
     "output_type": "display_data"
    },
    {
     "data": {
      "application/vnd.jupyter.widget-view+json": {
       "model_id": "3a28cfa2366748ddabf8c6e401e36cfb",
       "version_major": 2,
       "version_minor": 0
      },
      "text/html": [
       "<p>Failed to display Jupyter Widget of type <code>HBox</code>.</p>\n",
       "<p>\n",
       "  If you're reading this message in Jupyter Notebook or JupyterLab, it may mean\n",
       "  that the widgets JavaScript is still loading. If this message persists, it\n",
       "  likely means that the widgets JavaScript library is either not installed or\n",
       "  not enabled. See the <a href=\"https://ipywidgets.readthedocs.io/en/stable/user_install.html\">Jupyter\n",
       "  Widgets Documentation</a> for setup instructions.\n",
       "</p>\n",
       "<p>\n",
       "  If you're reading this message in another notebook frontend (for example, a static\n",
       "  rendering on GitHub or <a href=\"https://nbviewer.jupyter.org/\">NBViewer</a>),\n",
       "  it may mean that your frontend doesn't currently support widgets.\n",
       "</p>\n"
      ],
      "text/plain": [
       "HBox(children=(VBox(children=(Dropdown(description='column:', options=('days_to_death', 'days_to_last', 'days_survival', 'diag_age', 'race', 'ethnicity', 'gender', 'living', 'histICDO3', 'hist_simple', 'ICDO3site', 'ICD10', 'ICD10_simple', 'stage', 'stage_simple', 'stage_ismeta', 'grade', 'grade_simple', 'residual'), value='days_to_death'), Dropdown(description='phenotype:', options=(50.0, 58.0, 72.0, 90.0, 120.0, 130.0, 145.0, 146.0, 189.0, 242.0, 258.0, 285.0, 326.0, 349.0, 361.0, 373.0, 377.0, 400.0, 413.0, 426.0, 455.0, 532.0, 543.0, 624.0, 669.0, 709.0, 714.0, 834.0, 871.0, 883.0, 915.0, 934.0, 946.0, 1016.0, 1081.0, 1106.0, 1428.0, 1484.0, 1547.0, 3251.0), value=50.0))),), layout=Layout(display='flex', flex_flow='row', justify_content='flex-start', width='100%'))"
      ]
     },
     "metadata": {},
     "output_type": "display_data"
    },
    {
     "data": {
      "application/vnd.jupyter.widget-view+json": {
       "model_id": "b52501e8a2504e82b702fa812b7c29d8",
       "version_major": 2,
       "version_minor": 0
      },
      "text/html": [
       "<p>Failed to display Jupyter Widget of type <code>HBox</code>.</p>\n",
       "<p>\n",
       "  If you're reading this message in Jupyter Notebook or JupyterLab, it may mean\n",
       "  that the widgets JavaScript is still loading. If this message persists, it\n",
       "  likely means that the widgets JavaScript library is either not installed or\n",
       "  not enabled. See the <a href=\"https://ipywidgets.readthedocs.io/en/stable/user_install.html\">Jupyter\n",
       "  Widgets Documentation</a> for setup instructions.\n",
       "</p>\n",
       "<p>\n",
       "  If you're reading this message in another notebook frontend (for example, a static\n",
       "  rendering on GitHub or <a href=\"https://nbviewer.jupyter.org/\">NBViewer</a>),\n",
       "  it may mean that your frontend doesn't currently support widgets.\n",
       "</p>\n"
      ],
      "text/plain": [
       "HBox(children=(Button(description='Select', style=ButtonStyle(), tooltip='execute selected file'),), layout=Layout(display='flex', flex_flow='row', justify_content='flex-end', width='100%'))"
      ]
     },
     "metadata": {},
     "output_type": "display_data"
    },
    {
     "data": {
      "application/vnd.jupyter.widget-view+json": {
       "model_id": "40f26f5aad26472b8a5056a46b04f4cb",
       "version_major": 2,
       "version_minor": 0
      },
      "text/html": [
       "<p>Failed to display Jupyter Widget of type <code>HTML</code>.</p>\n",
       "<p>\n",
       "  If you're reading this message in Jupyter Notebook or JupyterLab, it may mean\n",
       "  that the widgets JavaScript is still loading. If this message persists, it\n",
       "  likely means that the widgets JavaScript library is either not installed or\n",
       "  not enabled. See the <a href=\"https://ipywidgets.readthedocs.io/en/stable/user_install.html\">Jupyter\n",
       "  Widgets Documentation</a> for setup instructions.\n",
       "</p>\n",
       "<p>\n",
       "  If you're reading this message in another notebook frontend (for example, a static\n",
       "  rendering on GitHub or <a href=\"https://nbviewer.jupyter.org/\">NBViewer</a>),\n",
       "  it may mean that your frontend doesn't currently support widgets.\n",
       "</p>\n"
      ],
      "text/plain": [
       "HTML(value='')"
      ]
     },
     "metadata": {},
     "output_type": "display_data"
    }
   ],
   "source": [
    "show_cell_title('Select Phenotype')\n",
    "\n",
    "def select_categorical(button):\n",
    "    \"\"\" local function to read files and select categorical and write \n",
    "        using the Spreadsheets_Transformation - spreadsheets_transformation_toolbox\n",
    "    \n",
    "    Args: \n",
    "        button:         an ipywidgets.Button object with 2 ipywidgets.Dropdown (.file_selector) objects containing \n",
    "                        the selected file names in the .value fields.\n",
    "    \"\"\"\n",
    "    if button.description == 'Clear':\n",
    "        visualize_selected_file(button)\n",
    "        return\n",
    "    \n",
    "    input_data_directory                = button.input_data_directory    \n",
    "    spreadsheet_file_name               = os.path.join(input_data_directory, button.file_1_selector.value)\n",
    "    phenotype_file_name                 = os.path.join(input_data_directory, button.file_2_selector.value)\n",
    "    phenotype_id                        = button.phenotype_id_selector.value\n",
    "    select_category                     = button.category_selectory.value\n",
    "\n",
    "    \n",
    "    transform_name                      = \"categorical\"\n",
    "    \n",
    "    spreadsheet_df                      = kn.get_spreadsheet_df(spreadsheet_file_name)\n",
    "    phenotype_df                        = kn.get_spreadsheet_df(phenotype_file_name)\n",
    "    \n",
    "    spreadsheet_cat_df, phenotype_cat_df= stt.select_subtype_df(spreadsheet_df, \n",
    "                                                                phenotype_df, \n",
    "                                                                phenotype_id, \n",
    "                                                                select_category,\n",
    "                                                                )\n",
    "    \n",
    "    results_directory                   = button.results_directory\n",
    "    spreadsheet_cat_file_name           = stt.get_outfile_name(\n",
    "                                            results_directory, \n",
    "                                            spreadsheet_file_name, \n",
    "                                            transform_name, \n",
    "                                            timestamp=False,\n",
    "                                            )\n",
    "    spreadsheet_cat_df.to_csv(spreadsheet_cat_file_name, sep='\\t', float_format='%g')\n",
    "    \n",
    "    phenotype_cat_file_name             = stt.get_outfile_name(\n",
    "                                            results_directory, \n",
    "                                            phenotype_file_name, \n",
    "                                            transform_name, \n",
    "                                            timestamp=False,\n",
    "                                            )\n",
    "    phenotype_cat_df.to_csv(phenotype_cat_file_name, sep='\\t', float_format='%g')\n",
    "    \n",
    "    button.fname_list                   = [spreadsheet_cat_file_name, phenotype_cat_file_name]\n",
    "    visualize_selected_file(button)\n",
    "\n",
    "# get spreadsheet 1 control widgets\n",
    "categorical_flistbx_1_view_button       = get_select_view_file_button_set(input_data_dir)\n",
    "if os.path.isfile(os.path.join(input_data_dir, DEFAULT_INPUT_FILES['select_categorical_spreadsheet'])):\n",
    "    categorical_flistbx_1_view_button.file_selector.value = DEFAULT_INPUT_FILES['select_categorical_spreadsheet']\n",
    "\n",
    "# get spreadsheet 2 control widgets\n",
    "categorical_flistbx_2_view_button       = get_select_view_file_button_set(input_data_dir)\n",
    "if os.path.isfile(os.path.join(input_data_dir, DEFAULT_INPUT_FILES['select_categorical_phenotype'])):\n",
    "    categorical_flistbx_2_view_button.file_selector.value = DEFAULT_INPUT_FILES['select_categorical_phenotype']\n",
    "\n",
    "# get the execute button\n",
    "cat_file_select_dict = {'file_1_selector': categorical_flistbx_1_view_button.file_selector,\n",
    "                        'file_2_selector': categorical_flistbx_2_view_button.file_selector }\n",
    "categorical_execute_button              = get_two_files_execute_button(\n",
    "                                            input_data_dir, \n",
    "                                            results_dir, \n",
    "                                            file_select_dict=cat_file_select_dict,\n",
    "                                            button_name='Select',\n",
    "                                            )\n",
    "categorical_execute_button.on_click(select_categorical)\n",
    "        \n",
    "def reset_phenotype_id_list(change):\n",
    "    \"\"\" callback for phenotype file selector (categorical_flistbx_2_view_button.file_selector) change \"\"\"\n",
    "    new_file = os.path.join(input_data_dir, change.new)\n",
    "    new_df = pd.read_csv(new_file, sep='\\t', index_col=0, header=0)\n",
    "    new_phenotpye_list              = new_df.columns.tolist()\n",
    "    phenotype_id_listbox.options    = new_phenotpye_list\n",
    "    \n",
    "    phenotype_id_listbox.value      = new_phenotpye_list[0]\n",
    "    \n",
    "    a_list = new_df[phenotype_id_listbox.value]\n",
    "    a_list = a_list.dropna()\n",
    "    category_select_listbox.options = sorted(set(a_list))\n",
    "    category_select_listbox.value   = category_select_listbox.options[0]\n",
    "    \n",
    "phenotype_id_listbox = widgets.Dropdown(options=[''],\n",
    "                                        value='',\n",
    "                                        description='column:',\n",
    "                                       )\n",
    "categorical_flistbx_2_view_button.target_dir = input_data_dir\n",
    "categorical_flistbx_2_view_button.file_selector.observe(reset_phenotype_id_list, names='value')\n",
    "\n",
    "\n",
    "def reset_category_list(change):\n",
    "    \"\"\" callback for phenotype selection (phenotype_id_listbox) change \"\"\"\n",
    "    new_file = os.path.join(input_data_dir, categorical_flistbx_2_view_button.file_selector.value)\n",
    "    new_df = pd.read_csv(new_file, sep='\\t', index_col=0, header=0)\n",
    "    \n",
    "    a_list = new_df[phenotype_id_listbox.value]\n",
    "    a_list = a_list.dropna()\n",
    "    \n",
    "    category_select_listbox.options = sorted(set(a_list))\n",
    "    category_select_listbox.value   = category_select_listbox.options[0]\n",
    "\n",
    "category_select_listbox = widgets.Dropdown(options=[''],\n",
    "                                           value='',\n",
    "                                           description='phenotype:')\n",
    "phenotype_id_listbox.observe(reset_category_list, names='value')\n",
    "\n",
    "# initialize phenotype category and id\n",
    "categorical_flistbx_2_view_button.file_selector.current = categorical_flistbx_2_view_button.file_selector.value\n",
    "categorical_flistbx_2_view_button.file_selector.value   = categorical_flistbx_2_view_button.file_selector.options[0]\n",
    "categorical_flistbx_2_view_button.file_selector.value   = categorical_flistbx_2_view_button.file_selector.current\n",
    "phenotype_id_listbox.value                              = phenotype_id_listbox.options[1]\n",
    "phenotype_id_listbox.value                              = phenotype_id_listbox.options[0]\n",
    "\n",
    "# attache the phenotype selectors to the execcute button\n",
    "categorical_execute_button.phenotype_id_selector        = phenotype_id_listbox\n",
    "categorical_execute_button.category_selectory           = category_select_listbox\n",
    "categorical_execute_button.on_click(select_categorical)\n",
    "\n",
    "# show the controls\n",
    "show_select_view_button(categorical_flistbx_1_view_button)\n",
    "show_select_view_button(categorical_flistbx_2_view_button)\n",
    "show_widget_left(widgets.VBox([phenotype_id_listbox, category_select_listbox]))\n",
    "show_execute_button(categorical_execute_button)"
   ]
  },
  {
   "cell_type": "code",
   "execution_count": 9,
   "metadata": {
    "init_cell": true
   },
   "outputs": [
    {
     "data": {
      "application/vnd.jupyter.widget-view+json": {
       "model_id": "b21600b424e54ef39bbaf219c82b9407",
       "version_major": 2,
       "version_minor": 0
      },
      "text/html": [
       "<p>Failed to display Jupyter Widget of type <code>HTML</code>.</p>\n",
       "<p>\n",
       "  If you're reading this message in Jupyter Notebook or JupyterLab, it may mean\n",
       "  that the widgets JavaScript is still loading. If this message persists, it\n",
       "  likely means that the widgets JavaScript library is either not installed or\n",
       "  not enabled. See the <a href=\"https://ipywidgets.readthedocs.io/en/stable/user_install.html\">Jupyter\n",
       "  Widgets Documentation</a> for setup instructions.\n",
       "</p>\n",
       "<p>\n",
       "  If you're reading this message in another notebook frontend (for example, a static\n",
       "  rendering on GitHub or <a href=\"https://nbviewer.jupyter.org/\">NBViewer</a>),\n",
       "  it may mean that your frontend doesn't currently support widgets.\n",
       "</p>\n"
      ],
      "text/plain": [
       "HTML(value='<h2>Other Transformations</h2>')"
      ]
     },
     "metadata": {},
     "output_type": "display_data"
    },
    {
     "data": {
      "application/vnd.jupyter.widget-view+json": {
       "model_id": "54dff7e4c7a0414aa7fc8ea0eeb6e560",
       "version_major": 2,
       "version_minor": 0
      },
      "text/html": [
       "<p>Failed to display Jupyter Widget of type <code>Box</code>.</p>\n",
       "<p>\n",
       "  If you're reading this message in Jupyter Notebook or JupyterLab, it may mean\n",
       "  that the widgets JavaScript is still loading. If this message persists, it\n",
       "  likely means that the widgets JavaScript library is either not installed or\n",
       "  not enabled. See the <a href=\"https://ipywidgets.readthedocs.io/en/stable/user_install.html\">Jupyter\n",
       "  Widgets Documentation</a> for setup instructions.\n",
       "</p>\n",
       "<p>\n",
       "  If you're reading this message in another notebook frontend (for example, a static\n",
       "  rendering on GitHub or <a href=\"https://nbviewer.jupyter.org/\">NBViewer</a>),\n",
       "  it may mean that your frontend doesn't currently support widgets.\n",
       "</p>\n"
      ],
      "text/plain": [
       "Box(children=(Dropdown(index=8, layout=Layout(width='50%'), options=('average_labels.tsv', 'average_spreadsheet.tsv', 'descriptive_statistic_spreadsheet.tsv', 'intersect_spreadsheet_A.tsv', 'intersect_spreadsheet_B.tsv', 'Kaplan_Meijer_data.tsv', 'merge_spreadsheet_A.txt', 'merge_spreadsheet_B.txt', 'other_transforms_spreadsheet.tsv', 'select_phenotype_phenotype.txt', 'select_phenotype_spreadsheet.df', 'select_rows_list.txt', 'select_rows_spreadsheet.tsv', 'transpose_spreadsheet.tsv'), value='other_transforms_spreadsheet.tsv'), Button(description='View', style=ButtonStyle(), tooltip='visualize selected file')), layout=Layout(align_items='stretch', border='none', display='inline-flex', flex_flow='row', justify_content='space-between', width='100%'))"
      ]
     },
     "metadata": {},
     "output_type": "display_data"
    },
    {
     "data": {
      "application/vnd.jupyter.widget-view+json": {
       "model_id": "3fe63125ac594b8e9164dcc4c2026cb7",
       "version_major": 2,
       "version_minor": 0
      },
      "text/html": [
       "<p>Failed to display Jupyter Widget of type <code>HTML</code>.</p>\n",
       "<p>\n",
       "  If you're reading this message in Jupyter Notebook or JupyterLab, it may mean\n",
       "  that the widgets JavaScript is still loading. If this message persists, it\n",
       "  likely means that the widgets JavaScript library is either not installed or\n",
       "  not enabled. See the <a href=\"https://ipywidgets.readthedocs.io/en/stable/user_install.html\">Jupyter\n",
       "  Widgets Documentation</a> for setup instructions.\n",
       "</p>\n",
       "<p>\n",
       "  If you're reading this message in another notebook frontend (for example, a static\n",
       "  rendering on GitHub or <a href=\"https://nbviewer.jupyter.org/\">NBViewer</a>),\n",
       "  it may mean that your frontend doesn't currently support widgets.\n",
       "</p>\n"
      ],
      "text/plain": [
       "HTML(value='')"
      ]
     },
     "metadata": {},
     "output_type": "display_data"
    },
    {
     "data": {
      "application/vnd.jupyter.widget-view+json": {
       "model_id": "07e4a22e817243ee8de9912892a69023",
       "version_major": 2,
       "version_minor": 0
      },
      "text/html": [
       "<p>Failed to display Jupyter Widget of type <code>HBox</code>.</p>\n",
       "<p>\n",
       "  If you're reading this message in Jupyter Notebook or JupyterLab, it may mean\n",
       "  that the widgets JavaScript is still loading. If this message persists, it\n",
       "  likely means that the widgets JavaScript library is either not installed or\n",
       "  not enabled. See the <a href=\"https://ipywidgets.readthedocs.io/en/stable/user_install.html\">Jupyter\n",
       "  Widgets Documentation</a> for setup instructions.\n",
       "</p>\n",
       "<p>\n",
       "  If you're reading this message in another notebook frontend (for example, a static\n",
       "  rendering on GitHub or <a href=\"https://nbviewer.jupyter.org/\">NBViewer</a>),\n",
       "  it may mean that your frontend doesn't currently support widgets.\n",
       "</p>\n"
      ],
      "text/plain": [
       "HBox(children=(Dropdown(description='stats function', options=('abs', 'z_transform', 'log_transform', 'threshold'), value='abs'),), layout=Layout(display='flex', flex_flow='row', justify_content='flex-start', width='100%'))"
      ]
     },
     "metadata": {},
     "output_type": "display_data"
    },
    {
     "data": {
      "application/vnd.jupyter.widget-view+json": {
       "model_id": "6ac81d9a156b4924814b8cdfbe96a697",
       "version_major": 2,
       "version_minor": 0
      },
      "text/html": [
       "<p>Failed to display Jupyter Widget of type <code>HBox</code>.</p>\n",
       "<p>\n",
       "  If you're reading this message in Jupyter Notebook or JupyterLab, it may mean\n",
       "  that the widgets JavaScript is still loading. If this message persists, it\n",
       "  likely means that the widgets JavaScript library is either not installed or\n",
       "  not enabled. See the <a href=\"https://ipywidgets.readthedocs.io/en/stable/user_install.html\">Jupyter\n",
       "  Widgets Documentation</a> for setup instructions.\n",
       "</p>\n",
       "<p>\n",
       "  If you're reading this message in another notebook frontend (for example, a static\n",
       "  rendering on GitHub or <a href=\"https://nbviewer.jupyter.org/\">NBViewer</a>),\n",
       "  it may mean that your frontend doesn't currently support widgets.\n",
       "</p>\n"
      ],
      "text/plain": [
       "HBox(children=(VBox(children=(Dropdown(description='axis', disabled=True, options={'rows': 0, 'columns': 1}, value=0), IntText(value=0, description='ddof', disabled=True), FloatText(value=2.718281828459045, description='log_base', disabled=True), FloatText(value=0.0, description='offset', disabled=True), FloatText(value=0.5, description='cut-off', disabled=True), FloatText(value=0.0, description='substitute', disabled=True), Dropdown(description='sub', disabled=True, options=('SUB_BELOW', 'SUB_ABOVE'), value='SUB_BELOW'))),), layout=Layout(display='flex', flex_flow='row', justify_content='flex-start', width='100%'))"
      ]
     },
     "metadata": {},
     "output_type": "display_data"
    },
    {
     "data": {
      "application/vnd.jupyter.widget-view+json": {
       "model_id": "9bd92bdf7d464ba89e0907b51b309336",
       "version_major": 2,
       "version_minor": 0
      },
      "text/html": [
       "<p>Failed to display Jupyter Widget of type <code>HBox</code>.</p>\n",
       "<p>\n",
       "  If you're reading this message in Jupyter Notebook or JupyterLab, it may mean\n",
       "  that the widgets JavaScript is still loading. If this message persists, it\n",
       "  likely means that the widgets JavaScript library is either not installed or\n",
       "  not enabled. See the <a href=\"https://ipywidgets.readthedocs.io/en/stable/user_install.html\">Jupyter\n",
       "  Widgets Documentation</a> for setup instructions.\n",
       "</p>\n",
       "<p>\n",
       "  If you're reading this message in another notebook frontend (for example, a static\n",
       "  rendering on GitHub or <a href=\"https://nbviewer.jupyter.org/\">NBViewer</a>),\n",
       "  it may mean that your frontend doesn't currently support widgets.\n",
       "</p>\n"
      ],
      "text/plain": [
       "HBox(children=(Button(description='Calculate', style=ButtonStyle(), tooltip='execute selected file'),), layout=Layout(display='flex', flex_flow='row', justify_content='flex-end', width='100%'))"
      ]
     },
     "metadata": {},
     "output_type": "display_data"
    },
    {
     "data": {
      "application/vnd.jupyter.widget-view+json": {
       "model_id": "3e3adb6c05db46d2a66515106d92aea3",
       "version_major": 2,
       "version_minor": 0
      },
      "text/html": [
       "<p>Failed to display Jupyter Widget of type <code>HTML</code>.</p>\n",
       "<p>\n",
       "  If you're reading this message in Jupyter Notebook or JupyterLab, it may mean\n",
       "  that the widgets JavaScript is still loading. If this message persists, it\n",
       "  likely means that the widgets JavaScript library is either not installed or\n",
       "  not enabled. See the <a href=\"https://ipywidgets.readthedocs.io/en/stable/user_install.html\">Jupyter\n",
       "  Widgets Documentation</a> for setup instructions.\n",
       "</p>\n",
       "<p>\n",
       "  If you're reading this message in another notebook frontend (for example, a static\n",
       "  rendering on GitHub or <a href=\"https://nbviewer.jupyter.org/\">NBViewer</a>),\n",
       "  it may mean that your frontend doesn't currently support widgets.\n",
       "</p>\n"
      ],
      "text/plain": [
       "HTML(value='')"
      ]
     },
     "metadata": {},
     "output_type": "display_data"
    }
   ],
   "source": [
    "show_cell_title('Other Transformations')\n",
    "\n",
    "def select_numerical_transform(button):\n",
    "    \"\"\" callback for get_numerical_function_execute_button\n",
    "    \n",
    "    Args: \n",
    "        button:         an ipywidgets.Button object with 2 ipywidgets.Dropdown (.file_selector) objects containing \n",
    "                        the selected file names in the .value fields.\n",
    "    \"\"\"\n",
    "    if button.description == 'Clear':\n",
    "        visualize_selected_file(button)\n",
    "        return\n",
    "    \n",
    "    input_data_directory            = button.input_data_directory\n",
    "    input_file_name                 = button.file_selector.value\n",
    "    spreadsheet_df                  = kn.get_spreadsheet_df(os.path.join(input_data_directory, input_file_name))\n",
    "\n",
    "    numeric_function                = button.numerical_function.value\n",
    "    results_directory               = button.results_directory\n",
    "    transform_name                  = numeric_function\n",
    "    \n",
    "    if transform_name == 'abs':\n",
    "        result_df                   = stt.abs_df(spreadsheet_df)\n",
    "        \n",
    "    elif transform_name == 'z_transform':\n",
    "        z_transform_axis            = button.numerical_function.z_transform_axis.value\n",
    "        z_transform_ddof            = button.numerical_function.z_transform_ddof.value\n",
    "        result_df                   = stt.z_transform_df(\n",
    "                                        spreadsheet_df, \n",
    "                                        axis=z_transform_axis, \n",
    "                                        ddof=z_transform_ddof,\n",
    "                                        )\n",
    "        \n",
    "    elif transform_name == 'log_transform':\n",
    "        log_transform_log_base      = button.numerical_function.log_transform_log_base.value\n",
    "        if log_transform_log_base == \"e\":\n",
    "            log_transform_log_base  = np.exp(1)\n",
    "        log_transform_log_offset    = button.numerical_function.log_transform_log_offset.value\n",
    "        result_df                   = stt.log_transform_df(spreadsheet_df,\n",
    "                                        log_base=log_transform_log_base,\n",
    "                                        log_offset=log_transform_log_offset,\n",
    "                                        )\n",
    "        \n",
    "    elif transform_name == 'threshold':\n",
    "        threshold_cut_off               = button.numerical_function.threshold_cut_off.value\n",
    "        threshold_substitution_value    = button.numerical_function.threshold_substitution_value.value\n",
    "        threshold_scope                 = button.numerical_function.threshold_scope.value\n",
    "        result_df                       = stt.threshold_df(spreadsheet_df,\n",
    "                                            cut_off=threshold_cut_off,\n",
    "                                            sub_val=threshold_substitution_value,\n",
    "                                            scope=threshold_scope,\n",
    "                                            )\n",
    "\n",
    "    result_file_name = stt.get_outfile_name(results_directory, input_file_name, transform_name, timestamp=False)\n",
    "    result_df.to_csv(result_file_name, sep='\\t',float_format='%g')\n",
    "    button.fname_list = [result_file_name]\n",
    "    visualize_selected_file(button)\n",
    "\n",
    "# get the control widgets\n",
    "get_other_transform_file_button         = get_select_view_file_button_set(input_data_dir)\n",
    "if os.path.isfile(os.path.join(input_data_dir, DEFAULT_INPUT_FILES['numerical_spreadsheet'])):\n",
    "    get_other_transform_file_button.file_selector.value = DEFAULT_INPUT_FILES['numerical_spreadsheet']\n",
    "    \n",
    "\"\"\" display a numeric function options listbox and if selected is:\n",
    "    abs             - grey out all else in all cases\n",
    "    z_transform     - show radio button row or columns, and a int text box for ddof\n",
    "    log_transform   - show log_transform float base text box, and a float offset box\n",
    "    threshold       - show a float threshold cut-off, substitution box, and threshold bound [SUB_BELOW, SUB_ABOVE]\n",
    "\"\"\"\n",
    "def reset_aux_controls(change):\n",
    "    \"\"\" callback - sub controls setup for numerical_transform method options \"\"\"\n",
    "    if change.old == 'z_transform':\n",
    "        change['owner'].z_transform_axis.disabled=True\n",
    "        change['owner'].z_transform_ddof.disabled=True\n",
    "        \n",
    "    elif change.old == 'log_transform':\n",
    "        change['owner'].log_transform_log_base.disabled=True\n",
    "        change['owner'].log_transform_log_offset.disabled=True\n",
    "        \n",
    "    elif change.old == 'threshold':\n",
    "        change['owner'].threshold_cut_off.disabled=True\n",
    "        change['owner'].threshold_substitution_value.disabled=True\n",
    "        change['owner'].threshold_scope.disabled=True\n",
    "    \n",
    "    if change.new == 'abs':\n",
    "        pass\n",
    "    \n",
    "    elif change.new == 'z_transform':\n",
    "        change['owner'].z_transform_axis.disabled=False\n",
    "        change['owner'].z_transform_ddof.disabled=False\n",
    "        \n",
    "    elif change.new == 'log_transform':\n",
    "        change['owner'].log_transform_log_base.disabled=False\n",
    "        change['owner'].log_transform_log_offset.disabled=False\n",
    "\n",
    "    elif change.new == 'threshold':\n",
    "        change['owner'].threshold_cut_off.disabled=False\n",
    "        change['owner'].threshold_substitution_value.disabled=False\n",
    "        change['owner'].threshold_scope.disabled=False\n",
    "\n",
    "numerical_function_options                          = ['abs', 'z_transform', 'log_transform', 'threshold']\n",
    "numerical_function_dropdown                         = widgets.Dropdown(\n",
    "                                                        options=numerical_function_options,\n",
    "                                                        value=numerical_function_options[0],\n",
    "                                                        description='stats function')\n",
    "\n",
    "threshold_scope                                          = ['SUB_BELOW', 'SUB_ABOVE']\n",
    "log_trans_base                                           = np.exp(1)\n",
    "default_threshold                                        = 0.5\n",
    "numerical_function_dropdown.z_transform_axis             = widgets.Dropdown(\n",
    "                                                            options={'rows': 0, 'columns': 1},\n",
    "                                                            value=0, description='axis', \n",
    "                                                            disabled=True)\n",
    "numerical_function_dropdown.z_transform_ddof             = widgets.IntText(\n",
    "                                                            value=0,\n",
    "                                                            description='ddof',\n",
    "                                                            disabled=True)\n",
    "numerical_function_dropdown.log_transform_log_base       = widgets.FloatText(\n",
    "                                                            value=log_trans_base,\n",
    "                                                            description='log_base', \n",
    "                                                            disabled=True)\n",
    "numerical_function_dropdown.log_transform_log_offset     = widgets.FloatText(\n",
    "                                                            value=0,\n",
    "                                                            description='offset', \n",
    "                                                            disabled=True)\n",
    "numerical_function_dropdown.threshold_cut_off            = widgets.FloatText(\n",
    "                                                            value=default_threshold,\n",
    "                                                            description='cut-off', \n",
    "                                                            disabled=True)\n",
    "numerical_function_dropdown.threshold_substitution_value = widgets.FloatText(\n",
    "                                                            value=0,\n",
    "                                                            description='substitute', \n",
    "                                                            disabled=True)\n",
    "numerical_function_dropdown.threshold_scope              = widgets.Dropdown(\n",
    "                                                            options=threshold_scope,\n",
    "                                                            value=threshold_scope[0],\n",
    "                                                            description='sub', disabled=True)\n",
    "numerical_function_dropdown.observe(reset_aux_controls, names='value')\n",
    "\n",
    "get_numerical_function_execute_button               = get_single_file_execute_button(\n",
    "                                                        input_data_dir, \n",
    "                                                        results_dir, \n",
    "                                                        file_selector=get_other_transform_file_button.file_selector, \n",
    "                                                        button_name='Calculate',\n",
    "                                                        )\n",
    "get_numerical_function_execute_button.numerical_function = numerical_function_dropdown\n",
    "get_numerical_function_execute_button.on_click(select_numerical_transform)\n",
    "\n",
    "# display control widgets\n",
    "show_select_view_button(get_other_transform_file_button)\n",
    "show_widget_left(numerical_function_dropdown)\n",
    "show_widget_left(widgets.VBox([\n",
    "                        numerical_function_dropdown.z_transform_axis,\n",
    "                        numerical_function_dropdown.z_transform_ddof,\n",
    "                        numerical_function_dropdown.log_transform_log_base,\n",
    "                        numerical_function_dropdown.log_transform_log_offset,\n",
    "                        numerical_function_dropdown.threshold_cut_off,\n",
    "                        numerical_function_dropdown.threshold_substitution_value,\n",
    "                        numerical_function_dropdown.threshold_scope,\n",
    "                        ]))\n",
    "show_execute_button(get_numerical_function_execute_button)"
   ]
  },
  {
   "cell_type": "code",
   "execution_count": 10,
   "metadata": {
    "init_cell": true
   },
   "outputs": [
    {
     "data": {
      "application/vnd.jupyter.widget-view+json": {
       "model_id": "e610f28491e44a72b4b94dc3ebf3321d",
       "version_major": 2,
       "version_minor": 0
      },
      "text/html": [
       "<p>Failed to display Jupyter Widget of type <code>HTML</code>.</p>\n",
       "<p>\n",
       "  If you're reading this message in Jupyter Notebook or JupyterLab, it may mean\n",
       "  that the widgets JavaScript is still loading. If this message persists, it\n",
       "  likely means that the widgets JavaScript library is either not installed or\n",
       "  not enabled. See the <a href=\"https://ipywidgets.readthedocs.io/en/stable/user_install.html\">Jupyter\n",
       "  Widgets Documentation</a> for setup instructions.\n",
       "</p>\n",
       "<p>\n",
       "  If you're reading this message in another notebook frontend (for example, a static\n",
       "  rendering on GitHub or <a href=\"https://nbviewer.jupyter.org/\">NBViewer</a>),\n",
       "  it may mean that your frontend doesn't currently support widgets.\n",
       "</p>\n"
      ],
      "text/plain": [
       "HTML(value='<h2>Descriptive Statistics</h2>')"
      ]
     },
     "metadata": {},
     "output_type": "display_data"
    },
    {
     "data": {
      "application/vnd.jupyter.widget-view+json": {
       "model_id": "b90f1f0b830d41029e9d9bb26ce0b189",
       "version_major": 2,
       "version_minor": 0
      },
      "text/html": [
       "<p>Failed to display Jupyter Widget of type <code>Box</code>.</p>\n",
       "<p>\n",
       "  If you're reading this message in Jupyter Notebook or JupyterLab, it may mean\n",
       "  that the widgets JavaScript is still loading. If this message persists, it\n",
       "  likely means that the widgets JavaScript library is either not installed or\n",
       "  not enabled. See the <a href=\"https://ipywidgets.readthedocs.io/en/stable/user_install.html\">Jupyter\n",
       "  Widgets Documentation</a> for setup instructions.\n",
       "</p>\n",
       "<p>\n",
       "  If you're reading this message in another notebook frontend (for example, a static\n",
       "  rendering on GitHub or <a href=\"https://nbviewer.jupyter.org/\">NBViewer</a>),\n",
       "  it may mean that your frontend doesn't currently support widgets.\n",
       "</p>\n"
      ],
      "text/plain": [
       "Box(children=(Dropdown(index=2, layout=Layout(width='50%'), options=('average_labels.tsv', 'average_spreadsheet.tsv', 'descriptive_statistic_spreadsheet.tsv', 'intersect_spreadsheet_A.tsv', 'intersect_spreadsheet_B.tsv', 'Kaplan_Meijer_data.tsv', 'merge_spreadsheet_A.txt', 'merge_spreadsheet_B.txt', 'other_transforms_spreadsheet.tsv', 'select_phenotype_phenotype.txt', 'select_phenotype_spreadsheet.df', 'select_rows_list.txt', 'select_rows_spreadsheet.tsv', 'transpose_spreadsheet.tsv'), value='descriptive_statistic_spreadsheet.tsv'), Button(description='View', style=ButtonStyle(), tooltip='visualize selected file')), layout=Layout(align_items='stretch', border='none', display='inline-flex', flex_flow='row', justify_content='space-between', width='100%'))"
      ]
     },
     "metadata": {},
     "output_type": "display_data"
    },
    {
     "data": {
      "application/vnd.jupyter.widget-view+json": {
       "model_id": "b8786f1d0dcc4eff9f3423d937ea24ae",
       "version_major": 2,
       "version_minor": 0
      },
      "text/html": [
       "<p>Failed to display Jupyter Widget of type <code>HTML</code>.</p>\n",
       "<p>\n",
       "  If you're reading this message in Jupyter Notebook or JupyterLab, it may mean\n",
       "  that the widgets JavaScript is still loading. If this message persists, it\n",
       "  likely means that the widgets JavaScript library is either not installed or\n",
       "  not enabled. See the <a href=\"https://ipywidgets.readthedocs.io/en/stable/user_install.html\">Jupyter\n",
       "  Widgets Documentation</a> for setup instructions.\n",
       "</p>\n",
       "<p>\n",
       "  If you're reading this message in another notebook frontend (for example, a static\n",
       "  rendering on GitHub or <a href=\"https://nbviewer.jupyter.org/\">NBViewer</a>),\n",
       "  it may mean that your frontend doesn't currently support widgets.\n",
       "</p>\n"
      ],
      "text/plain": [
       "HTML(value='')"
      ]
     },
     "metadata": {},
     "output_type": "display_data"
    },
    {
     "data": {
      "application/vnd.jupyter.widget-view+json": {
       "model_id": "d3519857059e4884b441159ce9fc524f",
       "version_major": 2,
       "version_minor": 0
      },
      "text/html": [
       "<p>Failed to display Jupyter Widget of type <code>HBox</code>.</p>\n",
       "<p>\n",
       "  If you're reading this message in Jupyter Notebook or JupyterLab, it may mean\n",
       "  that the widgets JavaScript is still loading. If this message persists, it\n",
       "  likely means that the widgets JavaScript library is either not installed or\n",
       "  not enabled. See the <a href=\"https://ipywidgets.readthedocs.io/en/stable/user_install.html\">Jupyter\n",
       "  Widgets Documentation</a> for setup instructions.\n",
       "</p>\n",
       "<p>\n",
       "  If you're reading this message in another notebook frontend (for example, a static\n",
       "  rendering on GitHub or <a href=\"https://nbviewer.jupyter.org/\">NBViewer</a>),\n",
       "  it may mean that your frontend doesn't currently support widgets.\n",
       "</p>\n"
      ],
      "text/plain": [
       "HBox(children=(VBox(children=(Dropdown(description='function', options={'min': 'min', 'median': 'median', 'std_deviation': 'std_deviation', 'variance': 'variation', 'sum': 'sum', 'max': 'max', 'mean': 'mean'}, value='min'), Dropdown(description='direction', options=('columns', 'rows', 'all'), value='columns'))),), layout=Layout(display='flex', flex_flow='row', justify_content='flex-start', width='100%'))"
      ]
     },
     "metadata": {},
     "output_type": "display_data"
    },
    {
     "data": {
      "application/vnd.jupyter.widget-view+json": {
       "model_id": "059af3680bd341539b83c214f7570b75",
       "version_major": 2,
       "version_minor": 0
      },
      "text/html": [
       "<p>Failed to display Jupyter Widget of type <code>HBox</code>.</p>\n",
       "<p>\n",
       "  If you're reading this message in Jupyter Notebook or JupyterLab, it may mean\n",
       "  that the widgets JavaScript is still loading. If this message persists, it\n",
       "  likely means that the widgets JavaScript library is either not installed or\n",
       "  not enabled. See the <a href=\"https://ipywidgets.readthedocs.io/en/stable/user_install.html\">Jupyter\n",
       "  Widgets Documentation</a> for setup instructions.\n",
       "</p>\n",
       "<p>\n",
       "  If you're reading this message in another notebook frontend (for example, a static\n",
       "  rendering on GitHub or <a href=\"https://nbviewer.jupyter.org/\">NBViewer</a>),\n",
       "  it may mean that your frontend doesn't currently support widgets.\n",
       "</p>\n"
      ],
      "text/plain": [
       "HBox(children=(Button(description='Calculate', style=ButtonStyle(), tooltip='execute selected file'),), layout=Layout(display='flex', flex_flow='row', justify_content='flex-end', width='100%'))"
      ]
     },
     "metadata": {},
     "output_type": "display_data"
    },
    {
     "data": {
      "application/vnd.jupyter.widget-view+json": {
       "model_id": "65c14758f0c648f090f1e7fca3ff8bea",
       "version_major": 2,
       "version_minor": 0
      },
      "text/html": [
       "<p>Failed to display Jupyter Widget of type <code>HTML</code>.</p>\n",
       "<p>\n",
       "  If you're reading this message in Jupyter Notebook or JupyterLab, it may mean\n",
       "  that the widgets JavaScript is still loading. If this message persists, it\n",
       "  likely means that the widgets JavaScript library is either not installed or\n",
       "  not enabled. See the <a href=\"https://ipywidgets.readthedocs.io/en/stable/user_install.html\">Jupyter\n",
       "  Widgets Documentation</a> for setup instructions.\n",
       "</p>\n",
       "<p>\n",
       "  If you're reading this message in another notebook frontend (for example, a static\n",
       "  rendering on GitHub or <a href=\"https://nbviewer.jupyter.org/\">NBViewer</a>),\n",
       "  it may mean that your frontend doesn't currently support widgets.\n",
       "</p>\n"
      ],
      "text/plain": [
       "HTML(value='')"
      ]
     },
     "metadata": {},
     "output_type": "display_data"
    }
   ],
   "source": [
    "show_cell_title('Descriptive Statistics')\n",
    "\n",
    "def get_stats_value(button):\n",
    "    \"\"\" callback for get_stats_execute_button\n",
    "    \n",
    "    Args: \n",
    "        button:         an ipywidgets.Button object with 2 ipywidgets.Dropdown (.file_selector) objects containing \n",
    "                        the selected file names in the .value fields.\n",
    "    \"\"\"\n",
    "    if button.description == 'Clear':\n",
    "        visualize_selected_file(button)\n",
    "        return\n",
    "\n",
    "    input_data_directory                        = button.input_data_directory\n",
    "    input_file_name                             = button.file_selector.value\n",
    "    spreadsheet_df                              = kn.get_spreadsheet_df(\n",
    "                                                    os.path.join(input_data_directory, input_file_name)\n",
    "                                                    )\n",
    "    stats_function                              = button.stats_function.value\n",
    "    direction_reference                         = button.direction_reference.value\n",
    "    \n",
    "    result_df                                   = stt.stats_df(\n",
    "                                                    spreadsheet_df, \n",
    "                                                    stats_function, \n",
    "                                                    direction_reference,\n",
    "                                                    )\n",
    "    results_directory                           = button.results_directory\n",
    "    stats_function                              = button.stats_function.value\n",
    "    direction_reference                         = button.direction_reference.value\n",
    "    transform_name                              = stats_function + '_' + direction_reference\n",
    "    \n",
    "    result_file_name                            = stt.get_outfile_name(\n",
    "                                                    results_directory, \n",
    "                                                    input_file_name, \n",
    "                                                    transform_name, \n",
    "                                                    timestamp=False,\n",
    "                                                    )\n",
    "    result_df.to_csv(result_file_name, sep='\\t',float_format='%g')\n",
    "    \n",
    "    button.fname_list                           = [result_file_name]\n",
    "    visualize_selected_file(button)\n",
    "\n",
    "# get the control widgets\n",
    "get_stats_function_file_button                  = get_select_view_file_button_set(input_data_dir)\n",
    "\n",
    "if os.path.isfile(os.path.join(input_data_dir, DEFAULT_INPUT_FILES['stats_spreadsheet'])):\n",
    "    get_stats_function_file_button.file_selector.value \\\n",
    "                                                = DEFAULT_INPUT_FILES['stats_spreadsheet']\n",
    "\n",
    "stats_function_options                          = {\n",
    "                                                    'min': 'min',\n",
    "                                                    'max': 'max', \n",
    "                                                    'mean': 'mean', \n",
    "                                                    'median': 'median', \n",
    "                                                    'variance': 'variation', \n",
    "                                                    'std_deviation': 'std_deviation', \n",
    "                                                    'sum': 'sum',\n",
    "                                                    }\n",
    "\n",
    "stats_function_dropdown                         = widgets.Dropdown(\n",
    "                                                    options=stats_function_options,\n",
    "                                                    value=stats_function_options['min'],\n",
    "                                                    description='function',\n",
    "                                                    )\n",
    "\n",
    "direction_reference_options                     = ['columns', 'rows', 'all']\n",
    "direction_reference_dropdown                    = widgets.Dropdown(\n",
    "                                                    options=direction_reference_options,\n",
    "                                                    value=direction_reference_options[0],\n",
    "                                                    description='direction',\n",
    "                                                    )\n",
    "\n",
    "get_stats_execute_button                        = get_single_file_execute_button(\n",
    "                                                    input_data_dir, \n",
    "                                                    results_dir, \n",
    "                                                    file_selector=get_stats_function_file_button.file_selector, \n",
    "                                                    button_name='Calculate',\n",
    "                                                    )\n",
    "get_stats_execute_button.stats_function         = stats_function_dropdown\n",
    "get_stats_execute_button.direction_reference    = direction_reference_dropdown\n",
    "get_stats_execute_button.on_click(get_stats_value)\n",
    "\n",
    "# display control widgets\n",
    "show_select_view_button(get_stats_function_file_button)\n",
    "show_widget_left(widgets.VBox([stats_function_dropdown, direction_reference_dropdown]))\n",
    "show_execute_button(get_stats_execute_button)"
   ]
  },
  {
   "cell_type": "code",
   "execution_count": null,
   "metadata": {},
   "outputs": [],
   "source": []
  }
 ],
 "metadata": {
  "kernelspec": {
   "display_name": "Python 3",
   "language": "python",
   "name": "python3"
  },
  "language_info": {
   "codemirror_mode": {
    "name": "ipython",
    "version": 3
   },
   "file_extension": ".py",
   "mimetype": "text/x-python",
   "name": "python",
   "nbconvert_exporter": "python",
   "pygments_lexer": "ipython3",
   "version": "3.5.3"
  },
  "toc": {
   "colors": {
    "hover_highlight": "#DAA520",
    "navigate_num": "#000000",
    "navigate_text": "#333333",
    "running_highlight": "#FF0000",
    "selected_highlight": "#FFD700",
    "sidebar_border": "#EEEEEE",
    "wrapper_background": "#FFFFFF"
   },
   "moveMenuLeft": true,
   "nav_menu": {
    "height": "12px",
    "width": "252px"
   },
   "navigate_menu": true,
   "number_sections": true,
   "sideBar": true,
   "threshold": 4,
   "toc_cell": false,
   "toc_section_display": "block",
   "toc_window_display": false,
   "widenNotebook": false
  },
  "varInspector": {
   "cols": {
    "lenName": 16,
    "lenType": 16,
    "lenVar": 40
   },
   "kernels_config": {
    "python": {
     "delete_cmd_postfix": "",
     "delete_cmd_prefix": "del ",
     "library": "var_list.py",
     "varRefreshCmd": "print(var_dic_list())"
    },
    "r": {
     "delete_cmd_postfix": ") ",
     "delete_cmd_prefix": "rm(",
     "library": "var_list.r",
     "varRefreshCmd": "cat(var_dic_list()) "
    }
   },
   "types_to_exclude": [
    "module",
    "function",
    "builtin_function_or_method",
    "instance",
    "_Feature"
   ],
   "window_display": false
  }
 },
 "nbformat": 4,
 "nbformat_minor": 1
}
