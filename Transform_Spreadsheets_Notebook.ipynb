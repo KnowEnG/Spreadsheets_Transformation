{
 "cells": [
  {
   "cell_type": "code",
   "execution_count": 1,
   "metadata": {
    "init_cell": true
   },
   "outputs": [
    {
     "data": {
      "text/html": [
       "<style>\n",
       "div.input {\n",
       "    display:none;\n",
       "}\n",
       "div.output_stderr{\n",
       "    display:none\n",
       "}\n",
       "</style>"
      ],
      "text/plain": [
       "<IPython.core.display.HTML object>"
      ]
     },
     "metadata": {},
     "output_type": "display_data"
    }
   ],
   "source": [
    "%%html\n",
    "<style>\n",
    "div.input {\n",
    "    display:none;\n",
    "}\n",
    "div.output_stderr{\n",
    "    display:none\n",
    "}\n",
    "</style>"
   ]
  },
  {
   "cell_type": "code",
   "execution_count": 2,
   "metadata": {
    "collapsed": true,
    "init_cell": true
   },
   "outputs": [],
   "source": [
    "#                                        DEVELOPMENT library list:\n",
    "import warnings\n",
    "warnings.filterwarnings('ignore')\n",
    "\n",
    "import os\n",
    "import sys\n",
    "\n",
    "import pandas as pd\n",
    "from pandas.io.common import EmptyDataError\n",
    "import numpy as np\n",
    "\n",
    "from IPython.display import display, HTML, clear_output\n",
    "import ipywidgets as widgets\n",
    "import traitlets\n",
    "\n",
    "from knpackage import toolbox as kn\n",
    "\n",
    "#                                             Define the required directory names structure\n",
    "USER_BASE_DIRECTORY = os.getcwd()\n",
    "USER_DATA_DIRECTORY = os.path.join(USER_BASE_DIRECTORY, 'user_data')\n",
    "USER_RESULTS_DIRECTORY = os.path.join(USER_BASE_DIRECTORY, 'results')\n",
    "USER_DATAFIE_EXTENSIONS_LIST = ['.tsv', '.txt', '.df', '.gz']\n",
    "\n",
    "USER_BASE_DIRECTORIES_LIST = []\n",
    "list_dir_list = os.listdir(USER_BASE_DIRECTORY)\n",
    "for maybe_dir in list_dir_list:\n",
    "    maybe_dir_full = os.path.join(USER_BASE_DIRECTORY, maybe_dir)\n",
    "    if os.path.isdir(maybe_dir_full):\n",
    "        USER_BASE_DIRECTORIES_LIST.append(maybe_dir_full)\n",
    "\n",
    "#                                             Create user_data and results directories if they DNE\n",
    "if len(USER_BASE_DIRECTORIES_LIST) < 1 or not USER_DATA_DIRECTORY in USER_BASE_DIRECTORIES_LIST:\n",
    "    os.mkdir(USER_DATA_DIRECTORY)\n",
    "    \n",
    "if len(USER_BASE_DIRECTORIES_LIST) < 1 or not USER_RESULTS_DIRECTORY in USER_BASE_DIRECTORIES_LIST:\n",
    "    os.mkdir(USER_RESULTS_DIRECTORY)"
   ]
  },
  {
   "cell_type": "markdown",
   "metadata": {},
   "source": [
    "<a id='top'></a>"
   ]
  },
  {
   "cell_type": "markdown",
   "metadata": {},
   "source": [
    "# Data File Transformations\n",
    "1. [Transpose](#transpose)\n",
    "2. [Common Samples](#common_samples)\n",
    "3. [Merge](#merge)\n",
    "4. [Select Genes](#select_genes)\n",
    "5. [Cluster Averages](#cluster_averages)\n",
    "6. [Select Categorical](#select_categorical)"
   ]
  },
  {
   "cell_type": "code",
   "execution_count": 3,
   "metadata": {
    "collapsed": true,
    "init_cell": true
   },
   "outputs": [],
   "source": [
    "def user_data_list(target_dir, FEXT):\n",
    "    \"\"\" user_file_list = update_user_data_list(user_data_dir, FEXT) \n",
    "    \"\"\"\n",
    "    flist = os.listdir(target_dir)\n",
    "    my_file_list = []\n",
    "    for f in flist:\n",
    "        if os.path.isfile(os.path.join(target_dir, f)):\n",
    "            noNeed, f_ext = os.path.splitext(f)\n",
    "            if f_ext in FEXT:\n",
    "                my_file_list.append(f)\n",
    "    if len(my_file_list) <= 0:\n",
    "        my_file_list.append('No Data')\n",
    "        \n",
    "    return my_file_list"
   ]
  },
  {
   "cell_type": "code",
   "execution_count": 4,
   "metadata": {
    "collapsed": true,
    "init_cell": true
   },
   "outputs": [],
   "source": [
    "#                                             define Alias\n",
    "results_dir = USER_RESULTS_DIRECTORY\n",
    "output_dir = results_dir\n",
    "target_dir = USER_DATA_DIRECTORY\n",
    "\n",
    "#                           anonymous, linkable dropdown listbox:\n",
    "def get_dropdown_files_listbox():\n",
    "    \"\"\" user_data dropdown listbox - for use as master listbox | repeated display listbox \n",
    "    \n",
    "    Usage - set new listbox linkage:\n",
    "        flistbx_dlink = traitlets.dlink((files_dropdown_main, 'options'), (flistbx, 'options'))\n",
    "    Usage - for display in multiple cells:\n",
    "        files_dropdown_main = get_dropdown_files_listbox()\n",
    "    Usage - display:\n",
    "        display(files_dropdown_main)\n",
    "    \"\"\"\n",
    "    files_dropdown_stock_box = widgets.Dropdown(\n",
    "        options=user_data_list(target_dir, USER_DATAFIE_EXTENSIONS_LIST),\n",
    "        value=user_data_list(target_dir, USER_DATAFIE_EXTENSIONS_LIST)[0],\n",
    "        layout=widgets.Layout(width='80%', height='80px'),\n",
    "        description='user_data:'\n",
    "    )\n",
    "    return files_dropdown_stock_box\n",
    "files_dropdown_main = get_dropdown_files_listbox()\n",
    "\n",
    "#                           repeatable files list update button:\n",
    "def update_user_data(button):\n",
    "    \"\"\" update files list in master (invisible) files dropdown list -- which is linked to all \n",
    "    Usage - display:\n",
    "        display(update_user_data_button)\n",
    "    Usage - update all main listbox children:\n",
    "        push the button or -- update_user_data(update_user_data_button)\n",
    "    \"\"\"\n",
    "    files_dropdown_main.options = user_data_list(target_dir, USER_DATAFIE_EXTENSIONS_LIST)\n",
    "    files_dropdown_main.value=user_data_list(target_dir, USER_DATAFIE_EXTENSIONS_LIST)[0]\n",
    "\n",
    "update_user_data_button = widgets.Button(description='Udate user_data', user_data_list='No Data')\n",
    "update_user_data_button.on_click(update_user_data)"
   ]
  },
  {
   "cell_type": "code",
   "execution_count": 5,
   "metadata": {
    "collapsed": true,
    "init_cell": true
   },
   "outputs": [],
   "source": [
    "#                                         local function to open and Visualize -- callback for multipule buttons:\n",
    "def visualize_selected_file(button):\n",
    "    \"\"\" callback for buttons with 'fname_list' OR a dropdown listbox with 'file_selector' - display file upper left.\n",
    "    Args:\n",
    "        button:         an ipywidgets.Button object with an ipywidgets.Dropdown (.file_selector) object containing \n",
    "                        the selected file name as its .value field.\n",
    "    \"\"\"\n",
    "    clear_output()\n",
    "    try:\n",
    "        if hasattr(button, 'fname_list'): \n",
    "            full_fname_list = button.fname_list\n",
    "        else: \n",
    "            full_fname = os.path.join(target_dir, button.file_selector.value)\n",
    "            full_fname_list = [full_fname]\n",
    "            \n",
    "        for full_fname in full_fname_list: \n",
    "            df = pd.read_csv(full_fname,sep='\\t',header=0,index_col=0)\n",
    "            Step = df.iloc[0:10,0:10];\n",
    "            Step2 = HTML(Step.to_html())\n",
    "            display(Step2)\n",
    "            del Step2\n",
    "        \n",
    "    except OSError:\n",
    "        print(\"No input data! \")\n",
    "        \n",
    "    except EmptyDataError:\n",
    "        print(\"Empty input data! \")\n",
    "        \n",
    "    except:\n",
    "        print(\"Invalid input data! \")\n",
    "        \n",
    "def clear(change):\n",
    "    \"\"\" clear cell output callback for listbox selection change \"\"\"\n",
    "    clear_output()"
   ]
  },
  {
   "cell_type": "markdown",
   "metadata": {},
   "source": [
    "<a id='transpose'></a>"
   ]
  },
  {
   "cell_type": "markdown",
   "metadata": {},
   "source": [
    "<a id='transpose'></a>"
   ]
  },
  {
   "cell_type": "markdown",
   "metadata": {},
   "source": [
    "## Transpose [[back to top]](#top) \n",
    "* **Select a spreadsheet file.**\n",
    "* **\"Transpose\" will transpose, display and write a new spreadsheet.**"
   ]
  },
  {
   "cell_type": "code",
   "execution_count": 6,
   "metadata": {
    "init_cell": true
   },
   "outputs": [
    {
     "data": {
      "application/vnd.jupyter.widget-view+json": {
       "model_id": "985b3f8e60cf4ac8a14922a76602d0bc"
      }
     },
     "metadata": {},
     "output_type": "display_data"
    },
    {
     "data": {
      "application/vnd.jupyter.widget-view+json": {
       "model_id": "6ede469ccd4e44408d1177794b5291b6"
      }
     },
     "metadata": {},
     "output_type": "display_data"
    },
    {
     "data": {
      "application/vnd.jupyter.widget-view+json": {
       "model_id": "bc68f88a51334473878137e5e182387f"
      }
     },
     "metadata": {},
     "output_type": "display_data"
    }
   ],
   "source": [
    "def transpose_selected_file(button):\n",
    "    \"\"\" local function to read, transpose and write the new spreadsheet\n",
    "    \n",
    "    Args: \n",
    "        button:         an ipywidgets.Button object with an ipywidgets.Dropdown (.file_selector) object containing \n",
    "                        the selected file name as its .value field.\n",
    "    \"\"\"\n",
    "    message = 'transpose incomplete'\n",
    "    try:\n",
    "        file_name = os.path.join(target_dir, button.file_selector.value)\n",
    "        spreadsheet_df = pd.read_csv(file_name, sep='\\t', index_col=0, header=0)\n",
    "        spreadsheet_df = spreadsheet_df.transpose()\n",
    "        \n",
    "        name_base, file_extension = os.path.splitext(button.file_selector.value)\n",
    "        outfile_name = os.path.join(output_dir, name_base + '_T.tsv')\n",
    "        \n",
    "        spreadsheet_df.to_csv(outfile_name, sep='\\t')\n",
    "        \n",
    "        #                   reinitialize the files list in all dropdown listboxes dlink with main\n",
    "        update_user_data(update_user_data_button)\n",
    "        \n",
    "        button.fname_list = [outfile_name]\n",
    "        visualize_selected_file(button)\n",
    "        \n",
    "        outfile_path, outfile_name = os.path.split(outfile_name)\n",
    "        message = 'Output written to\\n%s'%(outfile_name)\n",
    "\n",
    "    except OSError:\n",
    "        message = \"No input data! \"\n",
    "    except EmptyDataError:\n",
    "        message = \"Empty input data! \"\n",
    "    except:\n",
    "        message = \"Invalid input data! \"\n",
    "\n",
    "    print(message)\n",
    "\n",
    "#                                         Create and display the widget controls:\n",
    "\n",
    "#                           spreadsheet dropdown listbox:\n",
    "transpose_flistbx = get_dropdown_files_listbox()\n",
    "transpose_flistbx_dlink = traitlets.dlink((files_dropdown_main, 'options'), (transpose_flistbx, 'options'))\n",
    "transpose_flistbx.observe(clear, names='value')\n",
    "\n",
    "#                           spreadsheet view button:\n",
    "visualize_file_button = widgets.Button(\n",
    "    description='View',\n",
    "    disabled=False,\n",
    "    button_style='',\n",
    "    tooltip='visualize selected file',\n",
    ")\n",
    "visualize_file_button.file_selector = transpose_flistbx\n",
    "visualize_file_button.on_click(visualize_selected_file)\n",
    "\n",
    "#                           display the controls:\n",
    "display(update_user_data_button)\n",
    "display(transpose_flistbx)\n",
    "display(visualize_file_button)"
   ]
  },
  {
   "cell_type": "code",
   "execution_count": 7,
   "metadata": {
    "init_cell": true
   },
   "outputs": [
    {
     "data": {
      "application/vnd.jupyter.widget-view+json": {
       "model_id": "3dcb9fa30cb8412389d3f445d6002c94"
      }
     },
     "metadata": {},
     "output_type": "display_data"
    }
   ],
   "source": [
    "#                           execute transpose - write button:\n",
    "transpose_execute_button = widgets.Button(\n",
    "    description='Transpose',\n",
    "    disabled=False,\n",
    "    button_style='',\n",
    "    tooltip='transpose selected file',\n",
    "    )\n",
    "transpose_execute_button.file_selector = transpose_flistbx\n",
    "transpose_execute_button.on_click(transpose_selected_file)\n",
    "display(transpose_execute_button)"
   ]
  },
  {
   "cell_type": "markdown",
   "metadata": {},
   "source": [
    "<a id='common_samples'></a>"
   ]
  },
  {
   "cell_type": "markdown",
   "metadata": {
    "collapsed": true
   },
   "source": [
    "## Common Samples [[back to top]](#top)\n",
    "* **Select two samples x phenotypes files.**\n",
    "* **\"Get Common Samples\" button to display and write two files with only the samples in common.**"
   ]
  },
  {
   "cell_type": "code",
   "execution_count": 8,
   "metadata": {
    "init_cell": true
   },
   "outputs": [
    {
     "data": {
      "application/vnd.jupyter.widget-view+json": {
       "model_id": "985b3f8e60cf4ac8a14922a76602d0bc"
      }
     },
     "metadata": {},
     "output_type": "display_data"
    },
    {
     "data": {
      "application/vnd.jupyter.widget-view+json": {
       "model_id": "0e4134dca5ee4d46a6288af00191f6d5"
      }
     },
     "metadata": {},
     "output_type": "display_data"
    },
    {
     "data": {
      "application/vnd.jupyter.widget-view+json": {
       "model_id": "96010ab188254215bcedf7cd6fd6d948"
      }
     },
     "metadata": {},
     "output_type": "display_data"
    }
   ],
   "source": [
    "def get_common_samples(button):\n",
    "    \"\"\" local function to read 2 spreadsheet files, find and write the common samples to 2 new spreadsheets\n",
    "    \n",
    "    Args: \n",
    "        button:         an ipywidgets.Button object with 2 ipywidgets.Dropdown (.file_selector) objects containing \n",
    "                        the selected file names in the .value fields.\n",
    "\n",
    "    \"\"\"\n",
    "    message = 'common samples incomplete'\n",
    "    try:\n",
    "        file_name_1 = os.path.join(target_dir, button.file_1_selector.value)\n",
    "        file_name_2 = os.path.join(target_dir, button.file_2_selector.value)\n",
    "        \n",
    "        sxp_1_df = pd.read_csv(file_name_1, sep='\\t', index_col=0, header=0)\n",
    "        sxp_2_df = pd.read_csv(file_name_2, sep='\\t', index_col=0, header=0)\n",
    "        \n",
    "        sxp_1_gene_names = kn.extract_spreadsheet_gene_names(sxp_1_df)\n",
    "        sxp_2_gene_names = kn.extract_spreadsheet_gene_names(sxp_2_df)\n",
    "        common_samples_list = kn.find_common_node_names(sxp_1_gene_names, sxp_2_gene_names)\n",
    "        sxp_1_trim_df, sxp_2_trim_df = sxp_1_df.loc[common_samples_list], sxp_2_df.loc[common_samples_list]\n",
    "        \n",
    "        name_base_1, file_extension_1 = os.path.splitext(file_name_1)\n",
    "        outfile_name_1 = os.path.join(output_dir, name_base_1 + '_Com.tsv')\n",
    "        \n",
    "        name_base_2, file_extension_2 = os.path.splitext(file_name_2)\n",
    "        outfile_name_2 = os.path.join(output_dir, name_base_2 + '_Com.tsv')\n",
    "        \n",
    "        sxp_1_trim_df.to_csv(outfile_name_1, sep='\\t', index=True, header=True)\n",
    "        sxp_2_trim_df.to_csv(outfile_name_2, sep='\\t', index=True, header=True)\n",
    "        \n",
    "        button.fname_list = [outfile_name_1, outfile_name_2]\n",
    "        visualize_selected_file(button)\n",
    "        \n",
    "        pth_1, outfile_name_1 = os.path.split(outfile_name_1)\n",
    "        pth_2, outfile_name_2 = os.path.split(outfile_name_2)\n",
    "        message = 'common samples outputs written:\\n%s\\n%s'%(outfile_name_1, outfile_name_2)\n",
    "        \n",
    "    except OSError:\n",
    "        message = \"No input data! \"\n",
    "    except EmptyDataError:\n",
    "        message = \"Empty input data! \"\n",
    "    except:\n",
    "        message = \"Invalid input data! \"\n",
    "\n",
    "    print(message)\n",
    "\n",
    "#                                         Create and display the widget controls:\n",
    "\n",
    "#                           first dropdown listbox and visualize button:\n",
    "common_samples_flistbx_1 = get_dropdown_files_listbox()\n",
    "common_samples_flistbx_1_dlink = traitlets.dlink((files_dropdown_main, 'options'), \n",
    "                                                 (common_samples_flistbx_1, 'options'))\n",
    "common_samples_flistbx_1.observe(clear, names='value')\n",
    "\n",
    "common_samples_flistbx_1_view_button = widgets.Button(\n",
    "    description='View',\n",
    "    disabled=False,\n",
    "    button_style='',\n",
    "    tooltip='visualize selected file',\n",
    "    file_selector=common_samples_flistbx_1\n",
    "    )\n",
    "common_samples_flistbx_1_view_button.on_click(visualize_selected_file)\n",
    "\n",
    "display(update_user_data_button)\n",
    "display(common_samples_flistbx_1)\n",
    "display(common_samples_flistbx_1_view_button)"
   ]
  },
  {
   "cell_type": "code",
   "execution_count": 9,
   "metadata": {
    "init_cell": true
   },
   "outputs": [
    {
     "data": {
      "application/vnd.jupyter.widget-view+json": {
       "model_id": "4099b875fc9d4947a7ec3f8a880037f3"
      }
     },
     "metadata": {},
     "output_type": "display_data"
    },
    {
     "data": {
      "application/vnd.jupyter.widget-view+json": {
       "model_id": "3f8a1171c3014d2b8515ae4533f71a80"
      }
     },
     "metadata": {},
     "output_type": "display_data"
    }
   ],
   "source": [
    "#                           second dropdown listbox and visualize button:\n",
    "common_samples_flistbx_2 = get_dropdown_files_listbox()\n",
    "common_samples_flistbx_2_dlink = traitlets.dlink((files_dropdown_main, 'options'), \n",
    "                                                 (common_samples_flistbx_2, 'options'))\n",
    "common_samples_flistbx_2.observe(clear, names='value')\n",
    "common_samples_flistbx_2_view_button = widgets.Button(\n",
    "    description='View',\n",
    "    disabled=False,\n",
    "    button_style='',\n",
    "    tooltip='visualize selected file',\n",
    "    file_selector=common_samples_flistbx_2\n",
    "    )\n",
    "common_samples_flistbx_2_view_button.on_click(visualize_selected_file)\n",
    "\n",
    "display(common_samples_flistbx_2)\n",
    "display(common_samples_flistbx_2_view_button)"
   ]
  },
  {
   "cell_type": "code",
   "execution_count": 10,
   "metadata": {
    "init_cell": true
   },
   "outputs": [
    {
     "data": {
      "application/vnd.jupyter.widget-view+json": {
       "model_id": "961ea9c8a66a4127815ba1154a246684"
      }
     },
     "metadata": {},
     "output_type": "display_data"
    }
   ],
   "source": [
    "#                           common samples execute button:\n",
    "common_samples_execute_button = widgets.Button(\n",
    "    description='Get Common Samples',\n",
    "    disabled=False,\n",
    "    button_style='',\n",
    "    tooltip='get common samples button',\n",
    "    file_1_selector=common_samples_flistbx_1,\n",
    "    file_2_selector=common_samples_flistbx_2,\n",
    "    )\n",
    "common_samples_execute_button.on_click(get_common_samples)\n",
    "display(common_samples_execute_button)"
   ]
  },
  {
   "cell_type": "markdown",
   "metadata": {},
   "source": [
    "<a id='merge'></a>"
   ]
  },
  {
   "cell_type": "markdown",
   "metadata": {
    "collapsed": true
   },
   "source": [
    "## Merge [[back to top]](#top) \n",
    "* **Select two samples x phenotypes spreadsheet files.**\n",
    "* **\"Merge\" will display and write the union of samples and phenotypes spreadsheet.**"
   ]
  },
  {
   "cell_type": "code",
   "execution_count": 11,
   "metadata": {
    "init_cell": true
   },
   "outputs": [
    {
     "data": {
      "application/vnd.jupyter.widget-view+json": {
       "model_id": "985b3f8e60cf4ac8a14922a76602d0bc"
      }
     },
     "metadata": {},
     "output_type": "display_data"
    },
    {
     "data": {
      "application/vnd.jupyter.widget-view+json": {
       "model_id": "54aff7984aa3402c925c930b3b9fbae8"
      }
     },
     "metadata": {},
     "output_type": "display_data"
    },
    {
     "data": {
      "application/vnd.jupyter.widget-view+json": {
       "model_id": "97094d69c9fb4125a0bdf424f999c352"
      }
     },
     "metadata": {},
     "output_type": "display_data"
    }
   ],
   "source": [
    "def merge_spreadsheets(button):\n",
    "    \"\"\" Union: local function to read 2 spreadsheet files, find and write the common samples to 1 new spreadsheets\n",
    "    \n",
    "    Args: \n",
    "        button:         an ipywidgets.Button object with 2 ipywidgets.Dropdown (.file_selector) objects containing \n",
    "                        the selected file names in the .value fields.\n",
    "    \"\"\"\n",
    "    message = 'merge incomplete'\n",
    "    try:\n",
    "        file_name_1 = os.path.join(target_dir, button.file_1_selector.value)\n",
    "        file_name_2 = os.path.join(target_dir, button.file_2_selector.value)\n",
    "        \n",
    "        spreadsheet_1_df = pd.read_csv(file_name_1, sep='\\t', index_col=0, header=0)\n",
    "        spreadsheet_2_df = pd.read_csv(file_name_2, sep='\\t', index_col=0, header=0)\n",
    "        \n",
    "        \n",
    "        spreadsheet_1_samples = kn.extract_spreadsheet_gene_names(spreadsheet_1_df)\n",
    "        spreadsheet_2_samples = kn.extract_spreadsheet_gene_names(spreadsheet_2_df)\n",
    "\n",
    "        spreadsheet_1_phenotypes = list(spreadsheet_1_df.columns)\n",
    "        spreadsheet_2_phenotypes = list(spreadsheet_2_df.columns)\n",
    "\n",
    "        spreadsheet_X_df = pd.concat([spreadsheet_1_df, spreadsheet_2_df], axis=1)\n",
    "        \n",
    "        pth_1, name_base_1 = os.path.split(file_name_1)\n",
    "        name_base_1, f_ext_1 = os.path.splitext(name_base_1)\n",
    "        \n",
    "        pth_2, name_base_2 = os.path.split(file_name_2)\n",
    "        name_base_2, f_ext_2 = os.path.splitext(name_base_2)\n",
    "        \n",
    "        outfile_name = os.path.join(output_dir, name_base_1 + '_' + name_base_2 + '_Merged.tsv')\n",
    "        \n",
    "        spreadsheet_X_df.to_csv(outfile_name, sep='\\t', index=True, header=True)\n",
    "        \n",
    "        button.fname_list = [outfile_name]\n",
    "        visualize_selected_file(button)\n",
    "        \n",
    "        pth_1, outfile_name = os.path.split(outfile_name)\n",
    "        message = 'merge spreadsheets output written:\\n%s'%(outfile_name)\n",
    "\n",
    "    except OSError:\n",
    "        message = \"No input data! \"\n",
    "    except EmptyDataError:\n",
    "        message = \"Empty input data! \"\n",
    "    except:\n",
    "        message = \"Invalid input data! \"\n",
    "\n",
    "    print(message)\n",
    "\n",
    "#                           first dropdown listbox and visualize button:\n",
    "merge_flistbx_1 = get_dropdown_files_listbox()\n",
    "merge_flistbx_1_dlink = traitlets.dlink((files_dropdown_main, 'options'), (merge_flistbx_1, 'options'))\n",
    "merge_flistbx_1.observe(clear, names='value')\n",
    "\n",
    "merge_flistbx_1_view_button = widgets.Button(\n",
    "    description='View',\n",
    "    disabled=False,\n",
    "    button_style='',\n",
    "    tooltip='visualize selected file',\n",
    "    file_selector=merge_flistbx_1\n",
    "    )\n",
    "merge_flistbx_1_view_button.on_click(visualize_selected_file)\n",
    "\n",
    "display(update_user_data_button)\n",
    "display(merge_flistbx_1)\n",
    "display(merge_flistbx_1_view_button)"
   ]
  },
  {
   "cell_type": "code",
   "execution_count": 12,
   "metadata": {
    "init_cell": true
   },
   "outputs": [
    {
     "data": {
      "application/vnd.jupyter.widget-view+json": {
       "model_id": "4fb2e324ead4463c8fd8cb3542c191a8"
      }
     },
     "metadata": {},
     "output_type": "display_data"
    },
    {
     "data": {
      "application/vnd.jupyter.widget-view+json": {
       "model_id": "97094d69c9fb4125a0bdf424f999c352"
      }
     },
     "metadata": {},
     "output_type": "display_data"
    }
   ],
   "source": [
    "#                           second dropdown listbox and visualize button:\n",
    "merge_flistbx_2 = get_dropdown_files_listbox()\n",
    "merge_flistbx_2_dlink = traitlets.dlink((files_dropdown_main, 'options'), (merge_flistbx_2, 'options'))\n",
    "merge_flistbx_2.observe(clear, names='value')\n",
    "\n",
    "merge_flistbx_2_view_button = widgets.Button(\n",
    "    description='View',\n",
    "    disabled=False,\n",
    "    button_style='',\n",
    "    tooltip='visualize selected file',\n",
    "    file_selector=merge_flistbx_2\n",
    "    )\n",
    "merge_flistbx_1_view_button.on_click(visualize_selected_file)\n",
    "\n",
    "display(merge_flistbx_2)\n",
    "display(merge_flistbx_1_view_button)"
   ]
  },
  {
   "cell_type": "code",
   "execution_count": 13,
   "metadata": {
    "init_cell": true
   },
   "outputs": [
    {
     "data": {
      "application/vnd.jupyter.widget-view+json": {
       "model_id": "d023cb6eea0d4b91bd02fec0c7fb6228"
      }
     },
     "metadata": {},
     "output_type": "display_data"
    }
   ],
   "source": [
    "#                           merge files execute button:\n",
    "merge_execute_button = widgets.Button(\n",
    "    description='Merge Spreadsheets',\n",
    "    disabled=False,\n",
    "    button_style='',\n",
    "    tooltip='merge spreadsheets',\n",
    "    file_1_selector=merge_flistbx_1,\n",
    "    file_2_selector=merge_flistbx_2,\n",
    "    )\n",
    "merge_execute_button.on_click(merge_spreadsheets)\n",
    "display(merge_execute_button)"
   ]
  },
  {
   "cell_type": "markdown",
   "metadata": {},
   "source": [
    "<a id='select_genes'></a>"
   ]
  },
  {
   "cell_type": "markdown",
   "metadata": {},
   "source": [
    "## Select Genes [[back to top]](#top)\n",
    "* **Select genes x samples spreadsheet file.**\n",
    "* **Select a genes list file.**\n",
    "* **\"Select Genes\" displays and writes the spreadsheet with only those genes selected.**"
   ]
  },
  {
   "cell_type": "code",
   "execution_count": 14,
   "metadata": {
    "init_cell": true
   },
   "outputs": [
    {
     "data": {
      "application/vnd.jupyter.widget-view+json": {
       "model_id": "985b3f8e60cf4ac8a14922a76602d0bc"
      }
     },
     "metadata": {},
     "output_type": "display_data"
    },
    {
     "data": {
      "application/vnd.jupyter.widget-view+json": {
       "model_id": "c9dc2fbb796b4db7b420c90cfc63535a"
      }
     },
     "metadata": {},
     "output_type": "display_data"
    },
    {
     "data": {
      "application/vnd.jupyter.widget-view+json": {
       "model_id": "e2f126b871c94d7e9b0abe1738aa333f"
      }
     },
     "metadata": {},
     "output_type": "display_data"
    }
   ],
   "source": [
    "def read_a_list_file(input_file_name):\n",
    "    \"\"\" local function to read a list from a text file\n",
    "    \n",
    "    Args:\n",
    "        input_file_name:    full path name of a file containing a list\n",
    "    \n",
    "    Returns:\n",
    "        string_input:       the list that was contained in the file\n",
    "    \"\"\"\n",
    "    with open(input_file_name, 'r') as fh:\n",
    "        str_input = fh.read()\n",
    "    return list(str_input.split())\n",
    "\n",
    "def select_genes(button):\n",
    "    \"\"\" local function to read files and get common samples and write \n",
    "    \n",
    "    Args: \n",
    "        button:         an ipywidgets.Button object with 2 ipywidgets.Dropdown (.file_selector) objects containing \n",
    "                        the selected file names in the .value fields.\n",
    "    \"\"\"\n",
    "    message = 'select genes incomplete'\n",
    "    try:\n",
    "        file_name_1 = os.path.join(target_dir, button.file_1_selector.value)\n",
    "        file_name_2 = os.path.join(target_dir, button.file_1_selector.value)\n",
    "\n",
    "        gene_select_list = read_a_list_file(file_name_2)\n",
    "        spreadsheet_df = pd.read_csv(file_name_1, sep='\\t', index_col=0, header=0)\n",
    "\n",
    "        gene_names = kn.extract_spreadsheet_gene_names(spreadsheet_df)\n",
    "        intersection_names = sorted(kn.find_common_node_names(gene_names, gene_select_list))\n",
    "        spreadsheet_intersected_df = spreadsheet_df.loc[intersection_names] \n",
    "\n",
    "        name_base_1, file_extension_1 = os.path.splitext(file_name_1)\n",
    "        outfile_name = os.path.join(output_dir, name_base_1 + '_Slt_Gn.tsv')\n",
    "        \n",
    "        spreadsheet_intersected_df.to_csv(outfile_name, sep='\\t', index=True, header=True)\n",
    "\n",
    "        button.fname_list = [outfile_name]\n",
    "        visualize_selected_file(button)\n",
    "        \n",
    "        pth_1, outfile_name = os.path.split(outfile_name)\n",
    "        message = 'select genes output written:\\n%s'%(outfile_name)\n",
    "\n",
    "    except OSError:\n",
    "        message = \"No input data! \"\n",
    "    except EmptyDataError:\n",
    "        message = \"Empty input data! \"\n",
    "    except:\n",
    "        message = \"Invalid input data! \"\n",
    "\n",
    "    print(message)\n",
    "\n",
    "#                           spreadsheet select dropdown listbox and visualize button:\n",
    "select_spreadsheet_flistbx = get_dropdown_files_listbox()\n",
    "select_spreadsheet_flistbx_dlink = traitlets.dlink((files_dropdown_main, 'options'), \n",
    "                                                   (select_spreadsheet_flistbx, 'options'))\n",
    "select_spreadsheet_flistbx.observe(clear, names='value')\n",
    "select_spreadsheet_flistbx.description='Spreadsheet:'\n",
    "\n",
    "select_spreadsheet_flistbx_1_view_button = widgets.Button(\n",
    "    description='View',\n",
    "    disabled=False,\n",
    "    button_style='',\n",
    "    tooltip='visualize selected file',\n",
    "    file_selector=select_spreadsheet_flistbx\n",
    "    )\n",
    "select_spreadsheet_flistbx_1_view_button.on_click(visualize_selected_file)\n",
    "\n",
    "display(update_user_data_button)\n",
    "display(select_spreadsheet_flistbx)\n",
    "display(select_spreadsheet_flistbx_1_view_button)"
   ]
  },
  {
   "cell_type": "code",
   "execution_count": 15,
   "metadata": {
    "init_cell": true
   },
   "outputs": [
    {
     "data": {
      "application/vnd.jupyter.widget-view+json": {
       "model_id": "4cdf807f74324b6a988cfd673389f843"
      }
     },
     "metadata": {},
     "output_type": "display_data"
    },
    {
     "data": {
      "application/vnd.jupyter.widget-view+json": {
       "model_id": "d4c28c3bfdde4ae29d7469807805b21e"
      }
     },
     "metadata": {},
     "output_type": "display_data"
    }
   ],
   "source": [
    "#                           \"list of genes\" file selector dropdown listbox and visualize button:\n",
    "select_listfile_flistbx = get_dropdown_files_listbox()\n",
    "select_listfile_flistbx_dlink = traitlets.dlink((files_dropdown_main, 'options'), \n",
    "                                                  (select_listfile_flistbx, 'options'))\n",
    "select_listfile_flistbx.description='list-file:'\n",
    "select_listfile_flistbx.observe(clear, names='value')\n",
    "\n",
    "select_listfile_flistbx_view_button = widgets.Button(\n",
    "    description='View',\n",
    "    disabled=False,\n",
    "    button_style='',\n",
    "    tooltip='visualize selected file',\n",
    "    file_selector=select_listfile_flistbx\n",
    "    )\n",
    "select_listfile_flistbx_view_button.on_click(visualize_selected_file)\n",
    "\n",
    "display(select_listfile_flistbx)\n",
    "display(select_listfile_flistbx_view_button)"
   ]
  },
  {
   "cell_type": "code",
   "execution_count": 16,
   "metadata": {
    "init_cell": true
   },
   "outputs": [
    {
     "data": {
      "application/vnd.jupyter.widget-view+json": {
       "model_id": "eaf55f542cdd40a9bb4272daf0aca09c"
      }
     },
     "metadata": {},
     "output_type": "display_data"
    }
   ],
   "source": [
    "#                           select genes execute button:\n",
    "select_genes_execute_button = widgets.Button(\n",
    "    description='select genes',\n",
    "    disabled=False,\n",
    "    button_style='',\n",
    "    tooltip='select genes from list',\n",
    "    file_1_selector=select_spreadsheet_flistbx,\n",
    "    file_2_selector=select_listfile_flistbx,\n",
    "    )\n",
    "select_genes_execute_button.on_click(select_genes)\n",
    "display(select_genes_execute_button)"
   ]
  },
  {
   "cell_type": "markdown",
   "metadata": {},
   "source": [
    "<a id='cluster_averages'></a>"
   ]
  },
  {
   "cell_type": "markdown",
   "metadata": {},
   "source": [
    "##  Cluster Averages [[back to top]](#top)\n",
    "* **Select genes x samples spreadsheet file.**\n",
    "* **Select samples classification dictionary file (eg labels).**\n",
    "* **\"Get Cluster Averages\" displays and writes genes average for each cluster.**"
   ]
  },
  {
   "cell_type": "code",
   "execution_count": 17,
   "metadata": {
    "init_cell": true
   },
   "outputs": [
    {
     "data": {
      "application/vnd.jupyter.widget-view+json": {
       "model_id": "985b3f8e60cf4ac8a14922a76602d0bc"
      }
     },
     "metadata": {},
     "output_type": "display_data"
    },
    {
     "data": {
      "application/vnd.jupyter.widget-view+json": {
       "model_id": "22eb2a09add34d2390374324ee4f6671"
      }
     },
     "metadata": {},
     "output_type": "display_data"
    },
    {
     "data": {
      "application/vnd.jupyter.widget-view+json": {
       "model_id": "fed2ad67df034bc7b908141d3fb453fd"
      }
     },
     "metadata": {},
     "output_type": "display_data"
    }
   ],
   "source": [
    "def get_cluster_averages(button):\n",
    "    \"\"\" local function to get the averages for the dictionay selected samples in a spreadsheet  \n",
    "    \n",
    "    Args: \n",
    "        button:         an ipywidgets.Button object with 2 ipywidgets.Dropdown (.file_selector) objects containing \n",
    "                        the selected file names in the .value fields.\n",
    "    \"\"\"\n",
    "    message = 'select genes incomplete'\n",
    "    try:  \n",
    "        file_name_1 = os.path.join(target_dir, button.file_1_selector.value)\n",
    "        file_name_2 = os.path.join(target_dir, button.file_2_selector.value)\n",
    "        \n",
    "        spreadsheet_df = pd.read_csv(file_name_1, sep='\\t', index_col=0, header=0)\n",
    "        labels_df = pd.read_csv(file_name_2, sep='\\t', index_col=0, names=['sample', 'cluster_number'])\n",
    "        \n",
    "        labels_dict = labels_df.to_dict()['cluster_number']\n",
    "        cluster_numbers = list(np.unique(list(labels_dict.values())))\n",
    "        labels = list(labels_dict.values())\n",
    "        \n",
    "        cluster_ave_df = pd.DataFrame({i: spreadsheet_df.iloc[:, labels == i].mean(axis=1) for i in cluster_numbers})\n",
    "\n",
    "        pth_1, name_base_1 = os.path.split(file_name_1)\n",
    "        name_base_1, f_ext_1 = os.path.splitext(name_base_1)\n",
    "        \n",
    "        outfile_name = os.path.join(output_dir, name_base_1 + '_Clst_Avg.tsv')\n",
    "        cluster_ave_df.to_csv(outfile_name, sep='\\t', index=True, header=True)\n",
    "\n",
    "        button.fname_list = [outfile_name]\n",
    "        visualize_selected_file(button)\n",
    "\n",
    "        pth_1, outfile_name = os.path.split(outfile_name)\n",
    "        message = 'select genes outputs written:\\n%s'%(outfile_name)\n",
    "\n",
    "    except OSError:\n",
    "        message = \"No input data! \"\n",
    "    except EmptyDataError:\n",
    "        message = \"Empty input data! \"\n",
    "    except:\n",
    "        message = \"Invalid input data! \"\n",
    "\n",
    "    print(message)\n",
    "\n",
    "#                           spreadsheet select dropdown listbox and visualize button:\n",
    "cluster_averages_spreadsheet_flistbx = get_dropdown_files_listbox()\n",
    "cluster_averages_spreadsheet_flistbx_dlink = traitlets.dlink((files_dropdown_main, 'options'), \n",
    "                                                   (cluster_averages_spreadsheet_flistbx, 'options'))\n",
    "cluster_averages_spreadsheet_flistbx.observe(clear, names='value')\n",
    "cluster_averages_spreadsheet_flistbx.description='Spreadsheet:'\n",
    "\n",
    "cluster_averages_spreadsheet_flistbx_view_button = widgets.Button(\n",
    "    description='View',\n",
    "    disabled=False,\n",
    "    button_style='',\n",
    "    tooltip='visualize selected file',\n",
    "    file_selector=cluster_averages_spreadsheet_flistbx\n",
    "    )\n",
    "cluster_averages_spreadsheet_flistbx_view_button.on_click(visualize_selected_file)\n",
    "\n",
    "display(update_user_data_button)\n",
    "display(cluster_averages_spreadsheet_flistbx)\n",
    "display(cluster_averages_spreadsheet_flistbx_view_button)"
   ]
  },
  {
   "cell_type": "code",
   "execution_count": 18,
   "metadata": {
    "init_cell": true
   },
   "outputs": [
    {
     "data": {
      "application/vnd.jupyter.widget-view+json": {
       "model_id": "86d27b30c8e34008b5e69d74a5cc7234"
      }
     },
     "metadata": {},
     "output_type": "display_data"
    },
    {
     "data": {
      "application/vnd.jupyter.widget-view+json": {
       "model_id": "6cb2bf77f6b34a699d3ff7694359568b"
      }
     },
     "metadata": {},
     "output_type": "display_data"
    }
   ],
   "source": [
    "#                           list of genes file select dropdown listbox and visualize button:\n",
    "select_clusters_flistbx = get_dropdown_files_listbox()\n",
    "select_clusters_flistbx_dlink = traitlets.dlink((files_dropdown_main, 'options'), \n",
    "                                                  (select_clusters_flistbx, 'options'))\n",
    "select_clusters_flistbx.description='dictionary file:'\n",
    "select_clusters_flistbx.observe(clear, names='value')\n",
    "\n",
    "select_clusters_flistbx_view_button = widgets.Button(\n",
    "    description='View',\n",
    "    disabled=False,\n",
    "    button_style='',\n",
    "    tooltip='visualize selected file',\n",
    "    file_selector=select_clusters_flistbx\n",
    "    )\n",
    "select_clusters_flistbx_view_button.on_click(visualize_selected_file)\n",
    "\n",
    "display(select_clusters_flistbx)\n",
    "display(select_clusters_flistbx_view_button)"
   ]
  },
  {
   "cell_type": "code",
   "execution_count": 19,
   "metadata": {
    "init_cell": true
   },
   "outputs": [
    {
     "data": {
      "application/vnd.jupyter.widget-view+json": {
       "model_id": "bf96da92a00f408aa69a60bdb8537865"
      }
     },
     "metadata": {},
     "output_type": "display_data"
    }
   ],
   "source": [
    "#                           get_cluster_averages files execute button:\n",
    "cluster_averages_execute_button = widgets.Button(\n",
    "    description='Calculate Averages',\n",
    "    disabled=False,\n",
    "    button_style='',\n",
    "    tooltip='get cluster averages',\n",
    "    file_1_selector=cluster_averages_spreadsheet_flistbx,\n",
    "    file_2_selector=select_clusters_flistbx,\n",
    "    )\n",
    "cluster_averages_execute_button.on_click(get_cluster_averages)\n",
    "display(cluster_averages_execute_button)"
   ]
  },
  {
   "cell_type": "markdown",
   "metadata": {},
   "source": [
    "<a id='select_categorical'></a>"
   ]
  },
  {
   "cell_type": "markdown",
   "metadata": {},
   "source": [
    "# ^^ Fixed to Here !  ||"
   ]
  },
  {
   "cell_type": "markdown",
   "metadata": {},
   "source": [
    "## Select Categorical [[back to top]](#top)\n",
    "* **Select genes x samples spreadsheet.**\n",
    "* **Select samples x phenotypes spreadsheet.**\n",
    "* **Select the phenotype id and category from the next 2 dropdown listboxes.**\n",
    "* **\"Select Categorical\" displays and writes 2 spreadsheets with only the samples corresponding the category in that phenotype.**"
   ]
  },
  {
   "cell_type": "code",
   "execution_count": 20,
   "metadata": {
    "init_cell": true
   },
   "outputs": [
    {
     "data": {
      "application/vnd.jupyter.widget-view+json": {
       "model_id": "985b3f8e60cf4ac8a14922a76602d0bc"
      }
     },
     "metadata": {},
     "output_type": "display_data"
    },
    {
     "data": {
      "application/vnd.jupyter.widget-view+json": {
       "model_id": "7e202f0fb04a460bbf0b59baab64e0b8"
      }
     },
     "metadata": {},
     "output_type": "display_data"
    },
    {
     "data": {
      "application/vnd.jupyter.widget-view+json": {
       "model_id": "20ccdb1bfec44b1e8aa149e606bdc7e1"
      }
     },
     "metadata": {},
     "output_type": "display_data"
    }
   ],
   "source": [
    "#                                         local function to read files and select categorical and write:\n",
    "def select_categorical(button):\n",
    "    \"\"\" local function to read files and select categorical and write \n",
    "    \n",
    "    Args: \n",
    "        button:         an ipywidgets.Button object with 2 ipywidgets.Dropdown (.file_selector) objects containing \n",
    "                        the selected file names in the .value fields.\n",
    "    \"\"\"\n",
    "    message = 'select categorical incomplete'\n",
    "    try:\n",
    "        select_category = button.category_selectory.value\n",
    "        phenotype_id = button.phenotype_id_selector.value\n",
    "\n",
    "        file_name_1 = os.path.join(target_dir, button.spreadsheet_file_selector.value)\n",
    "        file_name_2 = os.path.join(target_dir, button.phenotype_file_selector.value)\n",
    "\n",
    "        spreadsheet_df = pd.read_csv(file_name_1, sep='\\t', index_col=0, header=0)\n",
    "        phenotype_df = pd.read_csv(file_name_2, sep='\\t', index_col=0, header=0)\n",
    "\n",
    "        samples_list = phenotype_df.index[phenotype_df[phenotype_id] == select_category]\n",
    "        spreadsheet_samples_list = list(spreadsheet_df.columns)\n",
    "        samples_list = sorted(list(set(samples_list) & set(spreadsheet_samples_list)))\n",
    "\n",
    "        if len(samples_list) < 1:\n",
    "            print('no samples in intersection')\n",
    "            return\n",
    "        \n",
    "        phenotype_category_df = phenotype_df.loc[samples_list]\n",
    "        spreadsheet_category_df = spreadsheet_df[samples_list]\n",
    " \n",
    "        name_base_1, file_extension_1 = os.path.splitext(file_name_1)\n",
    "        outfile_name_1 = os.path.join(output_dir, name_base_1 + '_Slct_Ctg.tsv')\n",
    "        \n",
    "        name_base_2, file_extension_2 = os.path.splitext(file_name_2)\n",
    "        outfile_name_2 = os.path.join(output_dir, name_base_2 + '_Slct_Ctg.tsv')\n",
    " \n",
    "        spreadsheet_category_df.to_csv(outfile_name_1, sep='\\t', index=True, header=True)\n",
    "        phenotype_category_df.to_csv(outfile_name_2, sep='\\t', index=True, header=True)\n",
    "\n",
    "        button.fname_list = [outfile_name_1, outfile_name_2]\n",
    "        visualize_selected_file(button)\n",
    "        \n",
    "        pth_1, outfile_name_1 = os.path.split(outfile_name_1)\n",
    "        pth_2, outfile_name_2 = os.path.split(outfile_name_2)\n",
    "        message = 'select categorical outputs written:\\n%s\\n%s'%(outfile_name_1, outfile_name_2)\n",
    "\n",
    "    except OSError:\n",
    "        message = \"No input data! \"\n",
    "    except EmptyDataError:\n",
    "        message = \"Empty input data! \"\n",
    "    except:\n",
    "        message = \"Invalid input data! \"\n",
    "\n",
    "    print(message)\n",
    "\n",
    "#                           spreadsheet select dropdown listbox and visualize button:\n",
    "select_categorical_spreadsheet_flistbx = get_dropdown_files_listbox()\n",
    "select_categorical_spreadsheet_flistbx_dlink = traitlets.dlink((files_dropdown_main, 'options'), \n",
    "                                                   (select_categorical_spreadsheet_flistbx, 'options'))\n",
    "select_categorical_spreadsheet_flistbx.observe(clear, names='value')\n",
    "select_categorical_spreadsheet_flistbx.description='Spreadsheet:'\n",
    "\n",
    "select_categorical_spreadsheet_flistbx_view_button = widgets.Button(\n",
    "    description='View',\n",
    "    disabled=False,\n",
    "    button_style='',\n",
    "    tooltip='file to visualize',\n",
    "    file_selector=select_categorical_spreadsheet_flistbx\n",
    "    )\n",
    "select_categorical_spreadsheet_flistbx_view_button.on_click(visualize_selected_file)\n",
    "\n",
    "display(update_user_data_button)\n",
    "display(select_categorical_spreadsheet_flistbx)\n",
    "display(select_categorical_spreadsheet_flistbx_view_button)"
   ]
  },
  {
   "cell_type": "code",
   "execution_count": 21,
   "metadata": {
    "init_cell": true
   },
   "outputs": [
    {
     "data": {
      "application/vnd.jupyter.widget-view+json": {
       "model_id": "a3ebbcf389ed49fd81bbd55ae722c777"
      }
     },
     "metadata": {},
     "output_type": "display_data"
    },
    {
     "data": {
      "application/vnd.jupyter.widget-view+json": {
       "model_id": "a85e4a364ece498fb0c1d36d2968d003"
      }
     },
     "metadata": {},
     "output_type": "display_data"
    }
   ],
   "source": [
    "#                           phenotype file select dropdown listbox and visualize button:\n",
    "select_phenotype_flistbx = get_dropdown_files_listbox()\n",
    "select_phenotype_flistbx_dlink = traitlets.dlink((files_dropdown_main, 'options'), \n",
    "                                                  (select_phenotype_flistbx, 'options'))\n",
    "select_phenotype_flistbx.description='phenotype:'\n",
    "select_phenotype_flistbx.observe(clear, names='value')\n",
    "\n",
    "select_phenotype_flistbx_view_button = widgets.Button(\n",
    "    description='View',\n",
    "    disabled=False,\n",
    "    button_style='',\n",
    "    tooltip='file to visualize',\n",
    "    file_selector=select_phenotype_flistbx\n",
    "    )\n",
    "select_phenotype_flistbx_view_button.on_click(visualize_selected_file)\n",
    "\n",
    "display(select_phenotype_flistbx)\n",
    "display(select_phenotype_flistbx_view_button)"
   ]
  },
  {
   "cell_type": "code",
   "execution_count": 22,
   "metadata": {
    "init_cell": true
   },
   "outputs": [
    {
     "data": {
      "application/vnd.jupyter.widget-view+json": {
       "model_id": "9fb0357433af49d4a13cdd61ce234856"
      }
     },
     "metadata": {},
     "output_type": "display_data"
    },
    {
     "data": {
      "application/vnd.jupyter.widget-view+json": {
       "model_id": "2871098511d548809a9be721328fdde8"
      }
     },
     "metadata": {},
     "output_type": "display_data"
    }
   ],
   "source": [
    "# Create two special dropdown listboxes S.T. \n",
    "#       - the first shows the list of phenotype ids in the phenotype file\n",
    "#       - the second shows the unique values in the selected phenotype id\n",
    "def reset_phenotype_id_list(change):\n",
    "    \"\"\" update the phenotype id options and select the first one in phenotype_id_listbox, and...\n",
    "        update the category_select_listbox options and select the first\n",
    "    \"\"\"\n",
    "    new_file = os.path.join(target_dir, change.new)\n",
    "    new_df = pd.read_csv(new_file, sep='\\t', index_col=0, header=0)\n",
    "    \n",
    "    new_phenotpye_list = new_df.columns.tolist()\n",
    "    phenotype_id_listbox.options = new_phenotpye_list\n",
    "    \n",
    "    phenotype_id_listbox.value = new_phenotpye_list[0]\n",
    "    \n",
    "    a_list = new_df[phenotype_id_listbox.value]\n",
    "    a_list = a_list.dropna()\n",
    "    category_select_listbox.options = sorted(set(a_list))\n",
    "    category_select_listbox.value = category_select_listbox.options[0]\n",
    "\n",
    "phenotype_id_listbox = widgets.Dropdown(\n",
    "    options=[''],\n",
    "    value='',\n",
    "    layout=widgets.Layout(width='80%', height='80px'),\n",
    "    description='pheontype id:',\n",
    "    target_dir=target_dir\n",
    ")\n",
    "#       - phenotype file selection -- change this listbox\n",
    "select_phenotype_flistbx.observe(reset_phenotype_id_list, names='value')\n",
    "\n",
    "def reset_category_list(change):\n",
    "    \"\"\" update the category_select_listbox options and select the first option\n",
    "    \"\"\"\n",
    "    new_file = os.path.join(target_dir, select_phenotype_flistbx.value)\n",
    "    new_df = pd.read_csv(new_file, sep='\\t', index_col=0, header=0)\n",
    "    \n",
    "    a_list = new_df[phenotype_id_listbox.value]\n",
    "    a_list = a_list.dropna()\n",
    "    \n",
    "    category_select_listbox.options = sorted(set(a_list))\n",
    "    category_select_listbox.value = category_select_listbox.options[0]\n",
    "\n",
    "category_select_listbox = widgets.Dropdown(\n",
    "    options=[''],\n",
    "    value='',\n",
    "    layout=widgets.Layout(width='80%', height='80px'),\n",
    "    description='category:'\n",
    ")\n",
    "#       - phenotype id change change this listbox\n",
    "phenotype_id_listbox.observe(reset_category_list, names='value')\n",
    "\n",
    "display(phenotype_id_listbox)\n",
    "display(category_select_listbox)"
   ]
  },
  {
   "cell_type": "code",
   "execution_count": 23,
   "metadata": {
    "init_cell": true
   },
   "outputs": [
    {
     "data": {
      "application/vnd.jupyter.widget-view+json": {
       "model_id": "dc81528593e241708c4566c5858b365f"
      }
     },
     "metadata": {},
     "output_type": "display_data"
    }
   ],
   "source": [
    "#                           get_cluster_averages files execute button:\n",
    "select_categorical_execute_button = widgets.Button(\n",
    "    description='Select Categorical',\n",
    "    disabled=False,\n",
    "    button_style='',\n",
    "    tooltip='select category in both',\n",
    "    spreadsheet_file_selector=select_categorical_spreadsheet_flistbx,\n",
    "    phenotype_file_selector=select_phenotype_flistbx,\n",
    "    phenotype_id_selector=phenotype_id_listbox,\n",
    "    category_selectory=category_select_listbox,\n",
    "    )\n",
    "select_categorical_execute_button.on_click(select_categorical)\n",
    "display(select_categorical_execute_button)"
   ]
  },
  {
   "cell_type": "code",
   "execution_count": null,
   "metadata": {
    "collapsed": true
   },
   "outputs": [],
   "source": []
  }
 ],
 "metadata": {
  "celltoolbar": "Initialization Cell",
  "kernelspec": {
   "display_name": "Python 3",
   "language": "python",
   "name": "python3"
  },
  "language_info": {
   "codemirror_mode": {
    "name": "ipython",
    "version": 3
   },
   "file_extension": ".py",
   "mimetype": "text/x-python",
   "name": "python",
   "nbconvert_exporter": "python",
   "pygments_lexer": "ipython3",
   "version": "3.5.3"
  },
  "varInspector": {
   "cols": {
    "lenName": 16,
    "lenType": 16,
    "lenVar": 40
   },
   "kernels_config": {
    "python": {
     "delete_cmd_postfix": "",
     "delete_cmd_prefix": "del ",
     "library": "var_list.py",
     "varRefreshCmd": "print(var_dic_list())"
    },
    "r": {
     "delete_cmd_postfix": ") ",
     "delete_cmd_prefix": "rm(",
     "library": "var_list.r",
     "varRefreshCmd": "cat(var_dic_list()) "
    }
   },
   "types_to_exclude": [
    "module",
    "function",
    "builtin_function_or_method",
    "instance",
    "_Feature"
   ],
   "window_display": false
  }
 },
 "nbformat": 4,
 "nbformat_minor": 1
}
