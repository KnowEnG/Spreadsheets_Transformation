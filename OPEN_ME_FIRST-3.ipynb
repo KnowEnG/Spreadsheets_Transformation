{
 "cells": [
  {
   "cell_type": "markdown",
   "metadata": {},
   "source": [
    "**Take a look at our Spreadsheets Transformation .ipynb on GitHub through this link:**\n",
    "\n",
    "[Spreadsheets_Transform](https://github.com/KnowEnG-Research/Spreadsheets_Transformation/blob/master/Spreadsheets_Transformation.ipynb)"
   ]
  },
  {
   "cell_type": "markdown",
   "metadata": {},
   "source": [
    "Jupyter Notebook is a web application that allows us to create, run, and share documents containing live code. It's main uses are primarily for data cleaning and transformation, machine learning, and much more. With Jupyter, we are able to experience live simulations and analyze the data through various techniques. **For first time users, following these set of guidelines will help you master the basic fundamentals needed to navigate through Jupyter.** Below, you will be greeted with the following homescreen after logging into jupyter notebook using your credentials:"
   ]
  },
  {
   "cell_type": "code",
   "execution_count": 1,
   "metadata": {},
   "outputs": [
    {
     "data": {
      "text/html": [
       "<style>div.input {display:none;} div.output_stderr{display:none}</style>"
      ],
      "text/plain": [
       "<IPython.core.display.HTML object>"
      ]
     },
     "metadata": {},
     "output_type": "display_data"
    }
   ],
   "source": [
    "%%html\n",
    "<style>div.input {display:none;} div.output_stderr{display:none}</style>"
   ]
  },
  {
   "cell_type": "code",
   "execution_count": 2,
   "metadata": {},
   "outputs": [
    {
     "data": {
      "text/html": [
       "<img src = \"data/images/StepOne.png\", widgth = 100, height = 200>"
      ],
      "text/plain": [
       "<IPython.core.display.HTML object>"
      ]
     },
     "metadata": {},
     "output_type": "display_data"
    }
   ],
   "source": [
    "%%html\n",
    "<img src = \"data/images/StepOne.png\", widgth = 100, height = 200>"
   ]
  },
  {
   "cell_type": "markdown",
   "metadata": {},
   "source": [
    "**In order to create a .ipynb, looking at the image above as reference, there is a box labeled \"New\". Click that, a dropdown list should appear (which you will see in the image below).**"
   ]
  },
  {
   "cell_type": "code",
   "execution_count": 3,
   "metadata": {},
   "outputs": [
    {
     "data": {
      "text/html": [
       "<img src = \"data/images/StepTwo.png\", widgth = 100, height = 200>"
      ],
      "text/plain": [
       "<IPython.core.display.HTML object>"
      ]
     },
     "metadata": {},
     "output_type": "display_data"
    }
   ],
   "source": [
    "%%html\n",
    "<img src = \"data/images/StepTwo.png\", widgth = 100, height = 200>"
   ]
  },
  {
   "cell_type": "markdown",
   "metadata": {},
   "source": [
    "**Clicking on \"Python 3\" or \"R\" will direct you to a new, running kernel using whichever language you choose to use. For now, click on Python 3 and follow along. After creating your .ipynb, you have the option to rename the .ipynb you just created. To do that, click on the default \"Untitled\" name that is next to \"Jupyter\". A pop up box will appear and will be granting you the option to rename your newly created notebook to whatever you may deem fit.**\n",
    "\n",
    "**Next, type in your first lines of code as seen in the picture. To run a cell individually, hold down the shift command and press enter or just hit \"Run\"**\n",
    "   "
   ]
  },
  {
   "cell_type": "code",
   "execution_count": 4,
   "metadata": {},
   "outputs": [
    {
     "data": {
      "text/html": [
       "<img src = \"data/images/stepThree.png\", widgth = 100, height = 200>"
      ],
      "text/plain": [
       "<IPython.core.display.HTML object>"
      ]
     },
     "metadata": {},
     "output_type": "display_data"
    }
   ],
   "source": [
    "%%html\n",
    "<img src = \"data/images/stepThree.png\", widgth = 100, height = 200>"
   ]
  },
  {
   "cell_type": "markdown",
   "metadata": {},
   "source": [
    "**If you want to run each cell individually, make sure you run each cell in ORDER. This is how it should look like:**"
   ]
  },
  {
   "cell_type": "code",
   "execution_count": 5,
   "metadata": {},
   "outputs": [
    {
     "data": {
      "text/html": [
       "<img src = \"data/images/StepFour.png\", widgth = 100, height = 200>"
      ],
      "text/plain": [
       "<IPython.core.display.HTML object>"
      ]
     },
     "metadata": {},
     "output_type": "display_data"
    }
   ],
   "source": [
    "%%html\n",
    "<img src = \"data/images/StepFour.png\", widgth = 100, height = 200>"
   ]
  },
  {
   "cell_type": "markdown",
   "metadata": {},
   "source": [
    "**If you do not run the cells in order, you may recieve an error because of one cell relying on the output of the previous cell. For an example, this is the error you will recieve if you run the second cell first:**"
   ]
  },
  {
   "cell_type": "code",
   "execution_count": 6,
   "metadata": {},
   "outputs": [
    {
     "data": {
      "text/html": [
       "<img src = \"data/images/step6.png\", widgth = 100, height = 200>"
      ],
      "text/plain": [
       "<IPython.core.display.HTML object>"
      ]
     },
     "metadata": {},
     "output_type": "display_data"
    }
   ],
   "source": [
    "%%html\n",
    "<img src = \"data/images/step6.png\", widgth = 100, height = 200>"
   ]
  },
  {
   "cell_type": "markdown",
   "metadata": {},
   "source": [
    "**In case you make changes to a cell, it is best you clear all the outputs before running a test to that individual cell. You can do this by clicking Kernel and then hitting \"Restart & Clear Output. **"
   ]
  },
  {
   "cell_type": "code",
   "execution_count": 7,
   "metadata": {},
   "outputs": [
    {
     "data": {
      "text/html": [
       "<img src = \"data/images/StepFive.png\", widgth = 100, height = 200>"
      ],
      "text/plain": [
       "<IPython.core.display.HTML object>"
      ]
     },
     "metadata": {},
     "output_type": "display_data"
    }
   ],
   "source": [
    "%%html\n",
    "<img src = \"data/images/StepFive.png\", widgth = 100, height = 200>"
   ]
  },
  {
   "cell_type": "markdown",
   "metadata": {},
   "source": [
    "**To run all cells and not each individually, click on \"Cell\" to see a dropdown list containing all possible things to do with a cell. From there, use the \"Run All\" command as seen in the picture**"
   ]
  },
  {
   "cell_type": "code",
   "execution_count": 8,
   "metadata": {},
   "outputs": [
    {
     "data": {
      "text/html": [
       "<img src = \"data/images/step7.png\", widgth = 100, height = 200>"
      ],
      "text/plain": [
       "<IPython.core.display.HTML object>"
      ]
     },
     "metadata": {},
     "output_type": "display_data"
    }
   ],
   "source": [
    "%%html\n",
    "<img src = \"data/images/step7.png\", widgth = 100, height = 200>"
   ]
  },
  {
   "cell_type": "markdown",
   "metadata": {},
   "source": [
    "**The image below is the result of running all the cells using the \"Run All\" in the dropdown list of the previous image. You can see the order in which the cells ran by looking at the number inside the brackets next to the cell.**"
   ]
  },
  {
   "cell_type": "code",
   "execution_count": 9,
   "metadata": {},
   "outputs": [
    {
     "data": {
      "text/html": [
       "<img src = \"data/images/step8.png\", widgth = 100, height = 200>"
      ],
      "text/plain": [
       "<IPython.core.display.HTML object>"
      ]
     },
     "metadata": {},
     "output_type": "display_data"
    }
   ],
   "source": [
    "%%html\n",
    "<img src = \"data/images/step8.png\", widgth = 100, height = 200>"
   ]
  },
  {
   "cell_type": "markdown",
   "metadata": {},
   "source": [
    "**If you wish to shutdown a running kernel, click on \"Jupyter\" next to \"Untitled\" and select the running kernel. From there, you will be given multiple options, including \"Shutdown\". If you do decide to shut down, this action will immediately halt all processes going through that current notebook.**\n",
    "\n",
    "   **Note 1**: A notebook colored **green** to the left of your file will indicate that the notebook is currently running. Otherwise, it is **not** a running kernel.\n",
    "   \n",
    "   **Note 2**: If you wish to **download** a file, you must shut down the kernel **first** and then reselect the .ipynb to be given three more options-- **Download, Move, and Rename**."
   ]
  },
  {
   "cell_type": "code",
   "execution_count": 10,
   "metadata": {},
   "outputs": [
    {
     "data": {
      "text/html": [
       "<img src = \"data/images/ShutDown.png\", widgth = 100, height = 200>"
      ],
      "text/plain": [
       "<IPython.core.display.HTML object>"
      ]
     },
     "metadata": {},
     "output_type": "display_data"
    }
   ],
   "source": [
    "%%html\n",
    "<img src = \"data/images/ShutDown.png\", widgth = 100, height = 200>"
   ]
  },
  {
   "cell_type": "markdown",
   "metadata": {},
   "source": [
    "**From this point forward, you should now be able to create a python notebook, know how to manage cells, and how to upload any file onto your jupyter account. If you wish to learn more on how to use Jupyter Notebook, down below is a useful link that will help with any confusion.**\n",
    "\n",
    "[KnowEng Support](https://platform.knoweng.org/static/#/support/training)"
   ]
  },
  {
   "cell_type": "markdown",
   "metadata": {},
   "source": [
    "**Here is a video tutorial of what was discussed above.**"
   ]
  },
  {
   "cell_type": "code",
   "execution_count": 11,
   "metadata": {},
   "outputs": [
    {
     "data": {
      "text/html": [
       "<video width=\"320\" height=\"240\" controls>\n",
       "  <source src=\"data/images/movie.mov\" type=\"video/mp4\">\n",
       "</video>"
      ],
      "text/plain": [
       "<IPython.core.display.HTML object>"
      ]
     },
     "metadata": {},
     "output_type": "display_data"
    }
   ],
   "source": [
    "%%HTML\n",
    "<video width=\"320\" height=\"240\" controls>\n",
    "  <source src=\"data/images/movie.mov\" type=\"video/mp4\">\n",
    "</video>"
   ]
  },
  {
   "cell_type": "code",
   "execution_count": null,
   "metadata": {},
   "outputs": [],
   "source": []
  },
  {
   "cell_type": "code",
   "execution_count": null,
   "metadata": {},
   "outputs": [],
   "source": []
  },
  {
   "cell_type": "code",
   "execution_count": null,
   "metadata": {},
   "outputs": [],
   "source": []
  },
  {
   "cell_type": "code",
   "execution_count": null,
   "metadata": {},
   "outputs": [],
   "source": []
  },
  {
   "cell_type": "code",
   "execution_count": 12,
   "metadata": {},
   "outputs": [
    {
     "data": {
      "text/plain": [
       "['src',\n",
       " 'docs',\n",
       " 'user_data',\n",
       " '.gitignore',\n",
       " 'README.md',\n",
       " '.ipynb_checkpoints',\n",
       " 'build',\n",
       " '.git',\n",
       " 'OPEN_ME_FIRST.ipynb',\n",
       " 'test',\n",
       " 'LICENSE',\n",
       " 'Kaplan_Meier.ipynb',\n",
       " 'Spreadsheets_Transformation.ipynb',\n",
       " 'data']"
      ]
     },
     "execution_count": 12,
     "metadata": {},
     "output_type": "execute_result"
    }
   ],
   "source": [
    "import os\n",
    "os.listdir()"
   ]
  }
 ],
 "metadata": {
  "kernelspec": {
   "display_name": "Python 3",
   "language": "python",
   "name": "python3"
  },
  "language_info": {
   "codemirror_mode": {
    "name": "ipython",
    "version": 3
   },
   "file_extension": ".py",
   "mimetype": "text/x-python",
   "name": "python",
   "nbconvert_exporter": "python",
   "pygments_lexer": "ipython3",
   "version": "3.4.3"
  }
 },
 "nbformat": 4,
 "nbformat_minor": 2
}
