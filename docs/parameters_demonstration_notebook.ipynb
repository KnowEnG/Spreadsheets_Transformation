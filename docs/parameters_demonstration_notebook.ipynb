{
 "cells": [
  {
   "cell_type": "code",
   "execution_count": 1,
   "metadata": {},
   "outputs": [
    {
     "data": {
      "text/html": [
       "<style>\n",
       "div.output_stderr{\n",
       "    display:none\n",
       "}\n",
       "</style>\n",
       "<a id='top'></a>"
      ],
      "text/plain": [
       "<IPython.core.display.HTML object>"
      ]
     },
     "metadata": {},
     "output_type": "display_data"
    }
   ],
   "source": [
    "%%html\n",
    "<style>\n",
    "div.output_stderr{\n",
    "    display:none\n",
    "}\n",
    "</style>\n",
    "<a id='top'></a>"
   ]
  },
  {
   "cell_type": "markdown",
   "metadata": {},
   "source": [
    "# Operation of parmeter based functions\n",
    "* Documentation for *.yml and run_parameters funtions in ../src/mini_pipelines_toolbox.py.\n",
    "\n",
    "### source code link:\n",
    "##### (private) source repository:  https://github.com/dlanier/minipipelines.git\n",
    "\n",
    "\n",
    "### Spreadsheet Transformations:\n",
    "1. [Subset Expression Based on Phenotype](#select_subtype)\n",
    "2. [Intersection](#get_common_samples)\n",
    "3. [Subset Genes](#select_genes)\n",
    "4. [Union](#merge)\n",
    "5. [Group Then Apply a Function](#cluster_stats)\n",
    "\n",
    "\n",
    "### Basic Transformations:\n",
    "1. [Transpose](#transpose)\n",
    "2. [Numerical Transformation](#numerical_transformation)\n",
    "3. [Numerical Details](#stats)\n"
   ]
  },
  {
   "cell_type": "code",
   "execution_count": 2,
   "metadata": {},
   "outputs": [],
   "source": [
    "import os\n",
    "import sys\n",
    "\n",
    "import pandas as pd\n",
    "import knpackage.toolbox as kn\n",
    "\n",
    "import knspreadsheetstransformation.spreadsheets_transformation_pipelines as stp\n",
    "\n",
    "data_dir = '../data/spreadsheets'\n",
    "run_data_dir = '../data/run_files'\n",
    "results_dir = os.path.join(os.path.abspath('../test'), 'run_dir/results')\n",
    "\n",
    "if not os.path.isdir(results_dir):\n",
    "    print('Created witout overwrite:', results_dir)\n",
    "    os.makedirs(results_dir)\n",
    "    \n",
    "def clear_results():\n",
    "    results_files = [f for f in os.listdir(results_dir) if os.path.isfile(os.path.join(results_dir, f))]\n",
    "    for rf in results_files:\n",
    "        os.remove(os.path.join(results_dir, rf))"
   ]
  },
  {
   "cell_type": "code",
   "execution_count": 3,
   "metadata": {},
   "outputs": [
    {
     "data": {
      "text/plain": [
       "['results']"
      ]
     },
     "execution_count": 3,
     "metadata": {},
     "output_type": "execute_result"
    }
   ],
   "source": [
    "os.listdir('../test/run_dir/')"
   ]
  },
  {
   "cell_type": "code",
   "execution_count": 4,
   "metadata": {},
   "outputs": [
    {
     "data": {
      "text/plain": [
       "['gene_samples_1.tsv',\n",
       " 'gene_samples_1_list.txt',\n",
       " 'gene_samples_small.tsv',\n",
       " 'gene_samples_small_labels.tsv',\n",
       " 'spreadsheet_A_.G.tsv',\n",
       " 'spreadsheet_B_.G.tsv',\n",
       " 'spreadsheet_One.txt',\n",
       " 'spreadsheet_Two.txt',\n",
       " 'tcga_ucec_somatic_mutation_data.df',\n",
       " 'transform_5_spreadsheet.tsv',\n",
       " 'UCEC_phenotype.txt']"
      ]
     },
     "execution_count": 4,
     "metadata": {},
     "output_type": "execute_result"
    }
   ],
   "source": [
    "os.listdir(data_dir)"
   ]
  },
  {
   "cell_type": "markdown",
   "metadata": {},
   "source": [
    "# Spreadsheet Transformations"
   ]
  },
  {
   "cell_type": "markdown",
   "metadata": {},
   "source": [
    "<a id='select_subtype'></a>"
   ]
  },
  {
   "cell_type": "markdown",
   "metadata": {},
   "source": [
    "## Subset Expression Based on Phenotype [[top]](#top)\n",
    "### run_select_subtype_df(run_parameters)\n",
    "    TEST_6_select_categorical.yml\n",
    "    From a genes x samples spreadsheet and a samples x phenotypes spreadsheet, return both spreadsheets with\n",
    "    only the samples corresponding to a category in a phenotype and write to output files names specified.\n",
    "\n",
    "    \n",
    "#### Required Keys:\n",
    "    method:                                   select_subtype_df\n",
    "\n",
    "    spreadsheet_file_name:                    ../data/spreadsheets/transform_5_spreadsheet.tsv\n",
    "    phenotype_file_name:                      ../data/spreadsheets/spreadsheet_Two.txt\n",
    "    phenotype_id:                             \"grade\"\n",
    "    select_category:                          \"grade 3\"\n",
    "\n",
    "    results_directory:                        ./run_dir/results"
   ]
  },
  {
   "cell_type": "code",
   "execution_count": 6,
   "metadata": {},
   "outputs": [
    {
     "name": "stdout",
     "output_type": "stream",
     "text": [
      "Run Parameters:\n",
      "                        method: select_subtype_df\n",
      "           phenotype_file_name: ../data/spreadsheets/spreadsheet_Two.txt\n",
      "             results_directory: /Users/mojo/git_clone/dlanier/minipipelines/test/run_dir/results\n",
      "                 run_directory: ../data/run_files\n",
      "         spreadsheet_file_name: ../data/spreadsheets/transform_5_spreadsheet.tsv\n",
      "                  phenotype_id: grade\n",
      "               select_category: grade 3\n",
      "                      run_file: TEST_6_select_categorical.yml\n",
      "Result Files:\n"
     ]
    },
    {
     "data": {
      "text/plain": [
       "['spreadsheet_Two_phenotype_category_Mon_11_Sep_2017_08_16_52.398237943.tsv',\n",
       " 'transform_5_spreadsheet_phenotype_category_Mon_11_Sep_2017_08_16_52.397414922.tsv']"
      ]
     },
     "execution_count": 6,
     "metadata": {},
     "output_type": "execute_result"
    }
   ],
   "source": [
    "clear_results()\n",
    "run_file = 'TEST_6_select_categorical.yml'\n",
    "run_parameters = kn.get_run_parameters(run_data_dir, run_file)\n",
    "run_parameters['results_directory'] = results_dir\n",
    "print('Run Parameters:')\n",
    "for k, v in run_parameters.items():\n",
    "    print('%30s: %s'%(k, v))\n",
    "\n",
    "stp.run_select_subtype_df(run_parameters)\n",
    "print('Result Files:')\n",
    "os.listdir(results_dir)"
   ]
  },
  {
   "cell_type": "markdown",
   "metadata": {},
   "source": [
    "<a id='get_common_samples'></a>"
   ]
  },
  {
   "cell_type": "markdown",
   "metadata": {},
   "source": [
    "## Intersection [[top]](#top)\n",
    "### run_common_samples_df(run_parameters)\n",
    "    TEST_2_common_samples.yml\n",
    "    find common sample names in two spreadsheets, write to output files names specified\n",
    "\n",
    "#### Required Keys:\n",
    "    method:                     common_samples_df\n",
    "\n",
    "    spreadsheet_1_file_name:    ../data/spreadsheets/spreadsheet_One.txt\n",
    "    spreadsheet_2_file_name:    ../data/spreadsheets/spreadsheet_Two.txt\n",
    "\n",
    "    results_directory:          ./run_dir/results"
   ]
  },
  {
   "cell_type": "code",
   "execution_count": null,
   "metadata": {
    "collapsed": true
   },
   "outputs": [],
   "source": [
    "clear_results()\n",
    "run_file = 'TEST_2_common_samples.yml'\n",
    "run_parameters = kn.get_run_parameters(run_data_dir, run_file)\n",
    "run_parameters['results_directory'] = results_dir\n",
    "print('Run Parameters:')\n",
    "for k, v in run_parameters.items():\n",
    "    print('%30s: %s'%(k, v))\n",
    "\n",
    "stp.run_common_samples_df(run_parameters)\n",
    "print('Result Files:')\n",
    "os.listdir(results_dir)"
   ]
  },
  {
   "cell_type": "markdown",
   "metadata": {},
   "source": [
    "<a id=\"select_genes\"></a>"
   ]
  },
  {
   "cell_type": "markdown",
   "metadata": {},
   "source": [
    "## Subset Genes [[Top]](#top)\n",
    "### run_select_genes(run_parameters)\n",
    "    TEST_4_select_genes.yml\n",
    "    Spreadsheet with only those genes selected from an input list.\n",
    "\n",
    "#### Required Keys:\n",
    "    method:                 select_genes_df\n",
    "\n",
    "    spreadsheet_file_name:  ../data/spreadsheets/gene_samples_1.tsv\n",
    "    gene_list_file_name:    ../data/spreadsheets/gene_samples_1_list.txt\n",
    "\n",
    "    results_directory:      ./run_dir/results"
   ]
  },
  {
   "cell_type": "code",
   "execution_count": null,
   "metadata": {
    "collapsed": true
   },
   "outputs": [],
   "source": [
    "clear_results()\n",
    "run_file = 'TEST_4_select_genes.yml'\n",
    "run_parameters = kn.get_run_parameters(run_data_dir, run_file)\n",
    "run_parameters['results_directory'] = results_dir\n",
    "print('Run Parameters:')\n",
    "for k, v in run_parameters.items():\n",
    "    print('%30s: %s'%(k, v))\n",
    "\n",
    "stp.run_select_genes(run_parameters)\n",
    "print('Result Files:')\n",
    "os.listdir(results_dir)"
   ]
  },
  {
   "cell_type": "markdown",
   "metadata": {},
   "source": [
    "<a id='merge'></a>"
   ]
  },
  {
   "cell_type": "markdown",
   "metadata": {},
   "source": [
    "## Union [[top]](#top)\n",
    "### run_merge_df(run_parameters)\n",
    "    TEST_3_merge.yml\n",
    "    Combine two spreadsheets into one with all samples and phenotypes  and write to output file name specified\n",
    "\n",
    "#### Required Keys:\n",
    "    method:                     merge_df\n",
    "\n",
    "    spreadsheet_1_file_name:    ../data/spreadsheets/spreadsheet_One.txt\n",
    "    spreadsheet_2_file_name:    ../data/spreadsheets/spreadsheet_Two.txt\n",
    "\n",
    "    results_directory:          ./run_dir/results\n"
   ]
  },
  {
   "cell_type": "code",
   "execution_count": null,
   "metadata": {
    "collapsed": true
   },
   "outputs": [],
   "source": [
    "clear_results()\n",
    "run_file = 'TEST_3_merge.yml'\n",
    "run_parameters = kn.get_run_parameters(run_data_dir, run_file)\n",
    "run_parameters['results_directory'] = results_dir\n",
    "print('Run Parameters:')\n",
    "for k, v in run_parameters.items():\n",
    "    print('%30s: %s'%(k, v))\n",
    "\n",
    "stp.run_merge_df(run_parameters)\n",
    "print('Result Files:')\n",
    "os.listdir(results_dir)"
   ]
  },
  {
   "cell_type": "markdown",
   "metadata": {},
   "source": [
    "<a id='cluster_stats'></a>"
   ]
  },
  {
   "cell_type": "markdown",
   "metadata": {},
   "source": [
    "## Group Then Apply a Function [[top]](#top)\n",
    "### run_cluster_statistics_df(run_parameters)\n",
    "    TEST_5_cluster_averages.yml\n",
    "    Dataframe of averages for each category in a genes x samples dataframe with a samples classification dictionary.\n",
    "\n",
    "#### Required Keys:\n",
    "    method:                       cluster_statistics_df\n",
    "\n",
    "    centroid_statistic:           'median' # ['std', 'median', 'mean']\n",
    "\n",
    "    spreadsheet_file_name:     ../data/spreadsheets/gene_samples_small.tsv\n",
    "    sample_labels_file_name:   ../data/spreadsheets/gene_samples_small_labels.tsv\n",
    "\n",
    "    results_directory:            ./run_dir/results"
   ]
  },
  {
   "cell_type": "code",
   "execution_count": null,
   "metadata": {
    "collapsed": true
   },
   "outputs": [],
   "source": [
    "clear_results()\n",
    "run_file = 'TEST_5_cluster_averages.yml'\n",
    "run_parameters = kn.get_run_parameters(run_data_dir, run_file)\n",
    "run_parameters['results_directory'] = results_dir\n",
    "print('Run Parameters:')\n",
    "for k, v in run_parameters.items():\n",
    "    print('%30s: %s'%(k, v))\n",
    "\n",
    "stp.run_cluster_statistics_df(run_parameters)\n",
    "print('Result Files:')\n",
    "os.listdir(results_dir)"
   ]
  },
  {
   "cell_type": "markdown",
   "metadata": {},
   "source": [
    "# Basic transformations"
   ]
  },
  {
   "cell_type": "markdown",
   "metadata": {},
   "source": [
    "<a id='transpose'></a>"
   ]
  },
  {
   "cell_type": "markdown",
   "metadata": {},
   "source": [
    "## Transpose [[top]](#top)\n",
    "### run_transpose(run_parameters)\n",
    "    TEST_1_transpose.yml\n",
    "    transpose a single spreadsheet and write to output file name specified\n",
    "\n",
    "#### Required Keys:\n",
    "    method:                      transpose_df\n",
    "\n",
    "    spreadsheet_name_full_path:  ../data/spreadsheets/spreadsheet_One.txt\n",
    "        results_directory:           ./run_dir/results"
   ]
  },
  {
   "cell_type": "code",
   "execution_count": null,
   "metadata": {
    "collapsed": true
   },
   "outputs": [],
   "source": [
    "clear_results()\n",
    "run_file = 'TEST_1_transpose.yml'\n",
    "run_parameters = kn.get_run_parameters(run_data_dir, run_file)\n",
    "run_parameters['results_directory'] = results_dir\n",
    "print('Run Parameters:')\n",
    "for k, v in run_parameters.items():\n",
    "    print('%30s: %s'%(k, v))\n",
    "\n",
    "stp.run_transpose(run_parameters)\n",
    "print('Result Files:')\n",
    "os.listdir(results_dir)"
   ]
  },
  {
   "cell_type": "markdown",
   "metadata": {},
   "source": [
    "<a id='numerical_transformation'></a>"
   ]
  },
  {
   "cell_type": "markdown",
   "metadata": {},
   "source": [
    "## Numerical Transformation [[top]](#top)\n",
    "### run_spreadsheet_numerical_transform(run_parameters)\n",
    "    TEST_7_numerical_transform.yml\n",
    "\n",
    "#### Required Keys:\n",
    "    method:                      numeric_transform\n",
    "\n",
    "    spreadsheet_name_full_path:  ../data/spreadsheets/spreadsheet_A_.G.tsv\n",
    "    results_directory:           ./run_dir/results\n",
    "\n",
    "    numeric_function:            abs # [abs, z_transform, log_transform, threshold]\n",
    "    \n",
    "#### Method Specific Keys:\n",
    "    z_transform_axis:             1\n",
    "    z_transform_ddof:             0\n",
    "\n",
    "    log_transform_log_base:       e   # e for natural log or a positive number\n",
    "    log_transform_log_offset:     0\n",
    "\n",
    "    threshold_cut_off:            0.5\n",
    "    threshold_substitution_value: 0\n",
    "    threshold_scope:              SUB_BELOW # [SUB_BELOW, SUB_ABOVE]"
   ]
  },
  {
   "cell_type": "code",
   "execution_count": null,
   "metadata": {
    "collapsed": true
   },
   "outputs": [],
   "source": [
    "clear_results()\n",
    "run_file = 'TEST_7_numerical_transform.yml'\n",
    "run_parameters = kn.get_run_parameters(run_data_dir, run_file)\n",
    "run_parameters['results_directory'] = results_dir\n",
    "print('Run Parameters:')\n",
    "for k, v in run_parameters.items():\n",
    "    print('%30s: %s'%(k, v))\n",
    "\n",
    "stp.run_spreadsheet_numerical_transform(run_parameters)\n",
    "print('Result Files:')\n",
    "os.listdir(results_dir)"
   ]
  },
  {
   "cell_type": "markdown",
   "metadata": {},
   "source": [
    "<a id='stats'></a>"
   ]
  },
  {
   "cell_type": "markdown",
   "metadata": {},
   "source": [
    "## Numerical Details [[top]](#top)\n",
    "### run_stats_df(run_parameters)\n",
    "    TEST_8_stat_value.yml\n",
    "\n",
    "#### Required Keys:\n",
    "    method:                 stats_df\n",
    "\n",
    "    spreadsheet_file_name:  ../data/spreadsheets/gene_samples_1.tsv\n",
    "\n",
    "    stats_function:          sum     # ['min', 'max', 'mean', 'median', 'variation', 'std_deviation', 'sum']\n",
    "    direction_reference:     columns # ['columns', 'rows', 'all']\n",
    "\n",
    "    results_directory:      ./run_dir/results"
   ]
  },
  {
   "cell_type": "code",
   "execution_count": null,
   "metadata": {
    "collapsed": true
   },
   "outputs": [],
   "source": [
    "clear_results()\n",
    "run_file = 'TEST_8_stat_value.yml'\n",
    "run_parameters = kn.get_run_parameters(run_data_dir, run_file)\n",
    "run_parameters['results_directory'] = results_dir\n",
    "print('Run Parameters:')\n",
    "for k, v in run_parameters.items():\n",
    "    print('%30s: %s'%(k, v))\n",
    "\n",
    "stp.run_stats_df(run_parameters)\n",
    "print('Result Files:')\n",
    "os.listdir(results_dir)"
   ]
  },
  {
   "cell_type": "code",
   "execution_count": null,
   "metadata": {
    "collapsed": true
   },
   "outputs": [],
   "source": []
  }
 ],
 "metadata": {
  "kernelspec": {
   "display_name": "Python 3",
   "language": "python",
   "name": "python3"
  },
  "language_info": {
   "codemirror_mode": {
    "name": "ipython",
    "version": 3
   },
   "file_extension": ".py",
   "mimetype": "text/x-python",
   "name": "python",
   "nbconvert_exporter": "python",
   "pygments_lexer": "ipython3",
   "version": "3.5.2"
  }
 },
 "nbformat": 4,
 "nbformat_minor": 2
}
